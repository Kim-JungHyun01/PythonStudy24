{
  "nbformat": 4,
  "nbformat_minor": 0,
  "metadata": {
    "colab": {
      "provenance": [],
      "toc_visible": true,
      "authorship_tag": "ABX9TyMscUFJA3rKNRa/773TZGRg",
      "include_colab_link": true
    },
    "kernelspec": {
      "name": "python3",
      "display_name": "Python 3"
    },
    "language_info": {
      "name": "python"
    }
  },
  "cells": [
    {
      "cell_type": "markdown",
      "metadata": {
        "id": "view-in-github",
        "colab_type": "text"
      },
      "source": [
        "<a href=\"https://colab.research.google.com/github/Kim-JungHyun01/PythonStudy24/blob/master/%EC%9D%B4%EB%A1%A0%EA%B3%BC%EC%A0%95/ListType.ipynb\" target=\"_parent\"><img src=\"https://colab.research.google.com/assets/colab-badge.svg\" alt=\"Open In Colab\"/></a>"
      ]
    },
    {
      "cell_type": "markdown",
      "source": [
        "# 파이썬 기초학습 2일차 2024.12.19"
      ],
      "metadata": {
        "id": "AepeHOenW8Jp"
      }
    },
    {
      "cell_type": "markdown",
      "source": [
        "테이블 자료처리 : 각각의 객체를 모아서 처리하는 용도\n",
        "\n",
        "*   리스트 자료형\n",
        "*   튜블 자료형\n",
        "*   딕셔너리 자료형\n",
        "*   집합 자료형"
      ],
      "metadata": {
        "id": "HFuEEp3hXzbY"
      }
    },
    {
      "cell_type": "markdown",
      "source": [
        "## 리스트 자료형"
      ],
      "metadata": {
        "id": "nKntzv3SXBpw"
      }
    },
    {
      "cell_type": "code",
      "execution_count": null,
      "metadata": {
        "collapsed": true,
        "id": "gJ5MBC2rW6-D"
      },
      "outputs": [],
      "source": [
        "#대괄호[]를 이용하여 감싸고 쉼표(,)로 요소를 구분\n",
        "#=> 자바 : 배열과 유사(단, 배열은 초기 행열값(크기고정)을 가짐 -> 단점보안 : arraylist)\n",
        "\n",
        "odd = [1, 3, 5, 7, 9] #기본 arraylist\n",
        "\n",
        "a = [] #빈리스트 = a = list()\n",
        "b = [1, 2, 3]#정수형 리스트\n",
        "c = ['Life', 'is', 'too', 'short'] #문자형 리스트\n",
        "d = [1, 2, 'Life', 'is'] #혼합형 리스트\n",
        "e = [1, 2, ['Life', 'is']] #이중 리스트"
      ]
    },
    {
      "cell_type": "markdown",
      "source": [
        "### 리스트 인덱싱"
      ],
      "metadata": {
        "id": "7UkV9c88be4O"
      }
    },
    {
      "cell_type": "code",
      "source": [
        "a = [1,2,3]\n",
        "print(a[0]) #리스트의 0번 인덱스 출력"
      ],
      "metadata": {
        "colab": {
          "base_uri": "https://localhost:8080/"
        },
        "id": "nm5JzEbFbdsf",
        "outputId": "729e9a88-0061-44f2-a169-903f360d9069"
      },
      "execution_count": 4,
      "outputs": [
        {
          "output_type": "stream",
          "name": "stdout",
          "text": [
            "1\n"
          ]
        }
      ]
    },
    {
      "cell_type": "code",
      "source": [
        "a[0] + a[1]"
      ],
      "metadata": {
        "colab": {
          "base_uri": "https://localhost:8080/"
        },
        "id": "RABzu8xObzEL",
        "outputId": "1a343edc-9ed0-4919-92f0-2f8a59cff995"
      },
      "execution_count": 5,
      "outputs": [
        {
          "output_type": "execute_result",
          "data": {
            "text/plain": [
              "3"
            ]
          },
          "metadata": {},
          "execution_count": 5
        }
      ]
    },
    {
      "cell_type": "code",
      "source": [
        "a[-1] #마지막 요소값"
      ],
      "metadata": {
        "colab": {
          "base_uri": "https://localhost:8080/"
        },
        "id": "O983SJwGb-QV",
        "outputId": "779c242f-e079-402c-8846-4b11e2e77a5e"
      },
      "execution_count": 6,
      "outputs": [
        {
          "output_type": "execute_result",
          "data": {
            "text/plain": [
              "3"
            ]
          },
          "metadata": {},
          "execution_count": 6
        }
      ]
    },
    {
      "cell_type": "code",
      "source": [
        "#2차원 배열\n",
        "a = [1, 2, 3, ['a', 'b', 'c']]\n",
        "print(a[0])\n",
        "print(a[3]) # = a[-1]\n",
        "print(a[3][2]) #[행(가로)][열(세로)]"
      ],
      "metadata": {
        "colab": {
          "base_uri": "https://localhost:8080/"
        },
        "id": "MgjKPh44cSxf",
        "outputId": "cc552515-cab9-4837-dde7-4882c6d5f799"
      },
      "execution_count": 11,
      "outputs": [
        {
          "output_type": "stream",
          "name": "stdout",
          "text": [
            "1\n",
            "['a', 'b', 'c']\n",
            "c\n"
          ]
        }
      ]
    },
    {
      "cell_type": "code",
      "source": [
        "#3차원 배열 : 사진, 영상, 게임 => (가로x세로 -> 픽셀, 깊이 -> RGB컬러)\n",
        "member = [[\"김지원\",[\"교사\", 312]], [\"노랑\", [\"학생1\", 312]], [\"하늘\",[\"학생2\", 311]], [\"초록\",[\"학생3\", 312]]]\n",
        "print(member[2][1][1])"
      ],
      "metadata": {
        "colab": {
          "base_uri": "https://localhost:8080/"
        },
        "id": "A9_pzjXOio73",
        "outputId": "13904f10-cada-4ac8-f3be-6d875362d5cc"
      },
      "execution_count": 18,
      "outputs": [
        {
          "output_type": "stream",
          "name": "stdout",
          "text": [
            "311\n"
          ]
        }
      ]
    },
    {
      "cell_type": "markdown",
      "source": [
        "### 리스트 슬라이싱"
      ],
      "metadata": {
        "id": "6lTJcIzuliyv"
      }
    },
    {
      "cell_type": "code",
      "source": [
        "a = [1,2,3,4,5]\n",
        "print(a[0:2]) #n ~ m-1까지\n",
        "print(a[:2]) #처음 ~ 1까지\n",
        "print(a[2:]) #2 ~ 마지막"
      ],
      "metadata": {
        "colab": {
          "base_uri": "https://localhost:8080/"
        },
        "id": "HSy-SayRlnP6",
        "outputId": "4f146de7-cd1c-45ae-99e8-0976c3db0c21"
      },
      "execution_count": 23,
      "outputs": [
        {
          "output_type": "stream",
          "name": "stdout",
          "text": [
            "[1, 2]\n",
            "[1, 2]\n",
            "[3, 4, 5]\n"
          ]
        }
      ]
    },
    {
      "cell_type": "code",
      "source": [
        "a = [1, 2, 3, ['a', 'b', 'c'], 4, 5]\n",
        "#    0  1  2         3         4  5\n",
        "#               0    1    2\n",
        "print(a[2:5])\n",
        "print(a[3][1:])"
      ],
      "metadata": {
        "colab": {
          "base_uri": "https://localhost:8080/"
        },
        "id": "DUj3Hg6Zl7HU",
        "outputId": "7d28b83b-5c50-4b8d-dc9c-c7d1314b926c"
      },
      "execution_count": 25,
      "outputs": [
        {
          "output_type": "stream",
          "name": "stdout",
          "text": [
            "[3, ['a', 'b', 'c'], 4]\n",
            "['b', 'c']\n"
          ]
        }
      ]
    },
    {
      "cell_type": "markdown",
      "source": [
        "### 리스트 연산"
      ],
      "metadata": {
        "id": "WLexgh-HnFCR"
      }
    },
    {
      "cell_type": "code",
      "source": [
        "#리스트 연산 : +, * 활용 => 문자열의 +, *와 유사\n",
        "a = [1, 2, 3]\n",
        "b = [4, 5, 6]\n",
        "print(a+b)\n",
        "print(a*3)"
      ],
      "metadata": {
        "colab": {
          "base_uri": "https://localhost:8080/"
        },
        "id": "q8xzGLbWnJVS",
        "outputId": "b8f7de75-ea37-4969-fd47-27c3dae049d2"
      },
      "execution_count": 28,
      "outputs": [
        {
          "output_type": "stream",
          "name": "stdout",
          "text": [
            "[1, 2, 3, 4, 5, 6]\n",
            "[1, 2, 3, 1, 2, 3, 1, 2, 3]\n"
          ]
        }
      ]
    },
    {
      "cell_type": "code",
      "source": [
        "#리스트 길이 : len\n",
        "print(len(a))\n",
        "print(len(a+b))"
      ],
      "metadata": {
        "colab": {
          "base_uri": "https://localhost:8080/"
        },
        "id": "tipTAc7Vndy1",
        "outputId": "8930939c-5a59-4013-cc41-deb2fedaba1e"
      },
      "execution_count": 31,
      "outputs": [
        {
          "output_type": "stream",
          "name": "stdout",
          "text": [
            "3\n",
            "6\n"
          ]
        }
      ]
    },
    {
      "cell_type": "code",
      "source": [
        "#리스트 글자 추가\n",
        "a = [1, 2, 3]\n",
        "print(str(a[2]) + \"hi\") #str(정수) => 문자열\n",
        "print(a[2] + \"hi\") # int + str"
      ],
      "metadata": {
        "colab": {
          "base_uri": "https://localhost:8080/",
          "height": 202
        },
        "id": "pguTQvWSoN70",
        "outputId": "2719030a-c2b2-40b4-d5d5-92a9711b6ce1"
      },
      "execution_count": 35,
      "outputs": [
        {
          "output_type": "stream",
          "name": "stdout",
          "text": [
            "3hi\n"
          ]
        },
        {
          "output_type": "error",
          "ename": "TypeError",
          "evalue": "unsupported operand type(s) for +: 'int' and 'str'",
          "traceback": [
            "\u001b[0;31m---------------------------------------------------------------------------\u001b[0m",
            "\u001b[0;31mTypeError\u001b[0m                                 Traceback (most recent call last)",
            "\u001b[0;32m<ipython-input-35-1ef558c762b7>\u001b[0m in \u001b[0;36m<cell line: 4>\u001b[0;34m()\u001b[0m\n\u001b[1;32m      2\u001b[0m \u001b[0ma\u001b[0m \u001b[0;34m=\u001b[0m \u001b[0;34m[\u001b[0m\u001b[0;36m1\u001b[0m\u001b[0;34m,\u001b[0m \u001b[0;36m2\u001b[0m\u001b[0;34m,\u001b[0m \u001b[0;36m3\u001b[0m\u001b[0;34m]\u001b[0m\u001b[0;34m\u001b[0m\u001b[0;34m\u001b[0m\u001b[0m\n\u001b[1;32m      3\u001b[0m \u001b[0mprint\u001b[0m\u001b[0;34m(\u001b[0m\u001b[0mstr\u001b[0m\u001b[0;34m(\u001b[0m\u001b[0ma\u001b[0m\u001b[0;34m[\u001b[0m\u001b[0;36m2\u001b[0m\u001b[0;34m]\u001b[0m\u001b[0;34m)\u001b[0m \u001b[0;34m+\u001b[0m \u001b[0;34m\"hi\"\u001b[0m\u001b[0;34m)\u001b[0m\u001b[0;34m\u001b[0m\u001b[0;34m\u001b[0m\u001b[0m\n\u001b[0;32m----> 4\u001b[0;31m \u001b[0mprint\u001b[0m\u001b[0;34m(\u001b[0m\u001b[0ma\u001b[0m\u001b[0;34m[\u001b[0m\u001b[0;36m2\u001b[0m\u001b[0;34m]\u001b[0m \u001b[0;34m+\u001b[0m \u001b[0;34m\"hi\"\u001b[0m\u001b[0;34m)\u001b[0m \u001b[0;31m# int + str\u001b[0m\u001b[0;34m\u001b[0m\u001b[0;34m\u001b[0m\u001b[0m\n\u001b[0m",
            "\u001b[0;31mTypeError\u001b[0m: unsupported operand type(s) for +: 'int' and 'str'"
          ]
        }
      ]
    },
    {
      "cell_type": "code",
      "source": [
        "#리스트 값 수정(대입), 객체 삭제(del) / #romove, pop함수도 제어용\n",
        "a = [1, 2, 3]\n",
        "a[2] = 4\n",
        "print(a)\n",
        "\n",
        "a[1] = \"\\000\" #삭제 = null 단, \\000은 안됌\n",
        "print(a)\n",
        "\n",
        "del a[1]\n",
        "print(a)"
      ],
      "metadata": {
        "colab": {
          "base_uri": "https://localhost:8080/"
        },
        "id": "PagiZkm5pHhE",
        "outputId": "60ff1342-bfb7-429f-a148-30820c7c131d"
      },
      "execution_count": 38,
      "outputs": [
        {
          "output_type": "stream",
          "name": "stdout",
          "text": [
            "[1, 2, 4]\n",
            "[1, '\\x00', 4]\n",
            "[1, 4]\n"
          ]
        }
      ]
    },
    {
      "cell_type": "code",
      "source": [
        "a = [1, 2, 3, 4, 5]\n",
        "del a[2:]\n",
        "print(a)"
      ],
      "metadata": {
        "colab": {
          "base_uri": "https://localhost:8080/"
        },
        "id": "gGFx_fghpJTg",
        "outputId": "38712105-35c7-406f-c724-9eae72abb8c9"
      },
      "execution_count": 43,
      "outputs": [
        {
          "output_type": "stream",
          "name": "stdout",
          "text": [
            "[1, 2]\n"
          ]
        }
      ]
    },
    {
      "cell_type": "markdown",
      "source": [
        "### .append()"
      ],
      "metadata": {
        "id": "eoQrx4pQqf65"
      }
    },
    {
      "cell_type": "code",
      "source": [
        "#리스트 관련 함수\n",
        "#.append() : 이미 만들어진 리스트에 객체를 추가\n",
        "a = [1, 2, 3, 4, 5]\n",
        "a.append(7)\n",
        "print(a)\n",
        "\n",
        "#2차원 배열 추가\n",
        "a.append([8,9])\n",
        "print(a)"
      ],
      "metadata": {
        "colab": {
          "base_uri": "https://localhost:8080/"
        },
        "id": "ExDkRljJqStm",
        "outputId": "aaabfd32-84bb-4bd0-cda1-b1d0e1a4b128"
      },
      "execution_count": 45,
      "outputs": [
        {
          "output_type": "stream",
          "name": "stdout",
          "text": [
            "[1, 2, 3, 4, 5, 7]\n",
            "[1, 2, 3, 4, 5, 7, [8, 9]]\n"
          ]
        }
      ]
    },
    {
      "cell_type": "markdown",
      "source": [
        "### .sort() & .reverse()"
      ],
      "metadata": {
        "id": "uPGFpGelqv8O"
      }
    },
    {
      "cell_type": "code",
      "source": [
        "#.sort() : 리스트 요소 정렬\n",
        "a = [4, 5, 1, 9, 6]\n",
        "#오름차순\n",
        "a.sort()\n",
        "print(a)\n",
        "\n",
        "#내림차순\n",
        "a.reverse()\n",
        "print(a)"
      ],
      "metadata": {
        "colab": {
          "base_uri": "https://localhost:8080/"
        },
        "id": "YvCVYNPCqvmp",
        "outputId": "c12b16cc-3212-4384-d948-53073a44fd90"
      },
      "execution_count": 61,
      "outputs": [
        {
          "output_type": "stream",
          "name": "stdout",
          "text": [
            "[1, 4, 5, 6, 9]\n",
            "[9, 6, 5, 4, 1]\n"
          ]
        }
      ]
    },
    {
      "cell_type": "code",
      "source": [
        "#같은 타입이 아니면 정렬x\n",
        "a = [6, \"김기원\", 'a', '@']\n",
        "a.sort\n",
        "print(a)\n",
        "\n",
        "a.reverse\n",
        "print(a)"
      ],
      "metadata": {
        "colab": {
          "base_uri": "https://localhost:8080/"
        },
        "id": "YC1a0pHQwREP",
        "outputId": "0000adc6-3072-4fae-a60f-961e226d48a3"
      },
      "execution_count": 63,
      "outputs": [
        {
          "output_type": "stream",
          "name": "stdout",
          "text": [
            "[6, '김기원', 'a', '@']\n",
            "[6, '김기원', 'a', '@']\n"
          ]
        }
      ]
    },
    {
      "cell_type": "code",
      "source": [
        "# 같은 타입\n",
        "b = ['z', 'b', 'd', 'g', 'k']\n",
        "b.sort()\n",
        "print(b)"
      ],
      "metadata": {
        "colab": {
          "base_uri": "https://localhost:8080/"
        },
        "id": "5Gg2GsqXxRt3",
        "outputId": "cddc1594-5b64-401c-b768-6978fb9dbe49"
      },
      "execution_count": 55,
      "outputs": [
        {
          "output_type": "stream",
          "name": "stdout",
          "text": [
            "['b', 'd', 'g', 'k', 'z']\n"
          ]
        }
      ]
    },
    {
      "cell_type": "code",
      "source": [
        "c = [\"김기원\", \"노랑\", \"초록\", \"하양\"]\n",
        "c.sort()\n",
        "print(c)"
      ],
      "metadata": {
        "colab": {
          "base_uri": "https://localhost:8080/"
        },
        "id": "q36MP3omxcPf",
        "outputId": "66f5c8bc-8d6d-4a3e-e9fc-bb82fb7d225b"
      },
      "execution_count": 56,
      "outputs": [
        {
          "output_type": "stream",
          "name": "stdout",
          "text": [
            "['김기원', '노랑', '초록', '하양']\n"
          ]
        }
      ]
    },
    {
      "cell_type": "markdown",
      "source": [
        "### .index()"
      ],
      "metadata": {
        "id": "jz1vXVeprDFy"
      }
    },
    {
      "cell_type": "code",
      "source": [
        "#인덱스 반환 .index(값) : 해당값이 몇번 index에 있는지\n",
        "a = [1, 2, 3]\n",
        "#    0  1  2  : index\n",
        "print(a.index(3))\n",
        "print(a.index(1))\n",
        "print(a.index(4)) # 없으면 오류"
      ],
      "metadata": {
        "colab": {
          "base_uri": "https://localhost:8080/",
          "height": 221
        },
        "id": "_-W2ko_Bx2po",
        "outputId": "2bc84f80-086c-4ffe-a5d9-17f18b722c38"
      },
      "execution_count": 66,
      "outputs": [
        {
          "output_type": "stream",
          "name": "stdout",
          "text": [
            "2\n",
            "0\n"
          ]
        },
        {
          "output_type": "error",
          "ename": "ValueError",
          "evalue": "4 is not in list",
          "traceback": [
            "\u001b[0;31m---------------------------------------------------------------------------\u001b[0m",
            "\u001b[0;31mValueError\u001b[0m                                Traceback (most recent call last)",
            "\u001b[0;32m<ipython-input-66-5bff86529f72>\u001b[0m in \u001b[0;36m<cell line: 6>\u001b[0;34m()\u001b[0m\n\u001b[1;32m      4\u001b[0m \u001b[0mprint\u001b[0m\u001b[0;34m(\u001b[0m\u001b[0ma\u001b[0m\u001b[0;34m.\u001b[0m\u001b[0mindex\u001b[0m\u001b[0;34m(\u001b[0m\u001b[0;36m3\u001b[0m\u001b[0;34m)\u001b[0m\u001b[0;34m)\u001b[0m\u001b[0;34m\u001b[0m\u001b[0;34m\u001b[0m\u001b[0m\n\u001b[1;32m      5\u001b[0m \u001b[0mprint\u001b[0m\u001b[0;34m(\u001b[0m\u001b[0ma\u001b[0m\u001b[0;34m.\u001b[0m\u001b[0mindex\u001b[0m\u001b[0;34m(\u001b[0m\u001b[0;36m1\u001b[0m\u001b[0;34m)\u001b[0m\u001b[0;34m)\u001b[0m\u001b[0;34m\u001b[0m\u001b[0;34m\u001b[0m\u001b[0m\n\u001b[0;32m----> 6\u001b[0;31m \u001b[0mprint\u001b[0m\u001b[0;34m(\u001b[0m\u001b[0ma\u001b[0m\u001b[0;34m.\u001b[0m\u001b[0mindex\u001b[0m\u001b[0;34m(\u001b[0m\u001b[0;36m4\u001b[0m\u001b[0;34m)\u001b[0m\u001b[0;34m)\u001b[0m\u001b[0;34m\u001b[0m\u001b[0;34m\u001b[0m\u001b[0m\n\u001b[0m",
            "\u001b[0;31mValueError\u001b[0m: 4 is not in list"
          ]
        }
      ]
    },
    {
      "cell_type": "markdown",
      "source": [
        "### .insert()"
      ],
      "metadata": {
        "id": "QPwPlsJTy3za"
      }
    },
    {
      "cell_type": "code",
      "source": [
        "#리스트에 요소 삽입 : .insert(인덱스, 값)\n",
        "#삽입시 지정 인덱스 뒤의 값들은 밀림\n",
        "a = [1, 2, 3]\n",
        "a.insert(0,4)\n",
        "print(a)\n",
        "\n",
        "a.insert(3,5)\n",
        "print(a)\n",
        "\n",
        "a.insert(6,10) #기존 길이보다 높으면 맨마지막에 들어갈뿐\n",
        "print(a)"
      ],
      "metadata": {
        "colab": {
          "base_uri": "https://localhost:8080/"
        },
        "id": "5H8TrYdJyHmU",
        "outputId": "a7ec6c94-552b-4bdc-90ef-dbddd64cfb9b"
      },
      "execution_count": 71,
      "outputs": [
        {
          "output_type": "stream",
          "name": "stdout",
          "text": [
            "[4, 1, 2, 3]\n",
            "[4, 1, 2, 5, 3]\n",
            "[4, 1, 2, 5, 3, 10]\n"
          ]
        }
      ]
    },
    {
      "cell_type": "markdown",
      "source": [
        "### .remove()"
      ],
      "metadata": {
        "id": "xkV43kHqz3v8"
      }
    },
    {
      "cell_type": "code",
      "source": [
        "# 리스트 값 삭제 : .remove(값) : 해당 값을 삭제\n",
        "a.remove(3)\n",
        "print(a)"
      ],
      "metadata": {
        "colab": {
          "base_uri": "https://localhost:8080/"
        },
        "id": "EW8LWyX0y2sn",
        "outputId": "6ca2ba86-a05f-469e-ac6d-e86e0817684e"
      },
      "execution_count": 72,
      "outputs": [
        {
          "output_type": "stream",
          "name": "stdout",
          "text": [
            "[4, 1, 2, 5, 10]\n"
          ]
        }
      ]
    },
    {
      "cell_type": "code",
      "source": [
        "#중복된 값의 경우, 맨 처음 한번만\n",
        "b = [3, 1, 3, 2, 3]\n",
        "b.remove(3)\n",
        "print(b)"
      ],
      "metadata": {
        "colab": {
          "base_uri": "https://localhost:8080/"
        },
        "id": "EvadFQ1az4KM",
        "outputId": "900cba87-93d0-4e7a-9e53-5c1f7984481f"
      },
      "execution_count": 73,
      "outputs": [
        {
          "output_type": "stream",
          "name": "stdout",
          "text": [
            "[1, 3, 2, 3]\n"
          ]
        }
      ]
    },
    {
      "cell_type": "markdown",
      "source": [
        "### .pop()"
      ],
      "metadata": {
        "id": "kVWZfw5L0POW"
      }
    },
    {
      "cell_type": "code",
      "source": [
        "# 리스트 요소 추출 : .pop(인덱스) : 인덱스x시 맨 마지막꺼\n",
        "c = [1, 2, 3, 4, 5, 6]\n",
        "print(c.pop())\n",
        "print(c)"
      ],
      "metadata": {
        "colab": {
          "base_uri": "https://localhost:8080/"
        },
        "id": "Z-IGiR5Q0ZQ-",
        "outputId": "72b6cee8-b570-40c5-fe38-b33dc101bc63"
      },
      "execution_count": 79,
      "outputs": [
        {
          "output_type": "stream",
          "name": "stdout",
          "text": [
            "6\n",
            "[1, 2, 3, 4, 5]\n"
          ]
        }
      ]
    },
    {
      "cell_type": "code",
      "source": [
        "print(c.pop(3))\n",
        "print(c)"
      ],
      "metadata": {
        "colab": {
          "base_uri": "https://localhost:8080/"
        },
        "id": "XsgdzsVS1Exo",
        "outputId": "4da56a57-347f-4f3d-caa2-abbbd5c128df"
      },
      "execution_count": 80,
      "outputs": [
        {
          "output_type": "stream",
          "name": "stdout",
          "text": [
            "4\n",
            "[1, 2, 3, 5]\n"
          ]
        }
      ]
    },
    {
      "cell_type": "markdown",
      "source": [
        "### .count()"
      ],
      "metadata": {
        "id": "fORnuPhJ1wP-"
      }
    },
    {
      "cell_type": "code",
      "source": [
        "#값의 갯수 : .count(값)\n",
        "d = [3,1,3,1,3,1,3,1,3,1]\n",
        "print(d.count(1))\n",
        "print(len(d))"
      ],
      "metadata": {
        "colab": {
          "base_uri": "https://localhost:8080/"
        },
        "id": "z6kb3CRp1cKl",
        "outputId": "b40b0593-9204-403f-bc83-9c022a04101b"
      },
      "execution_count": 83,
      "outputs": [
        {
          "output_type": "stream",
          "name": "stdout",
          "text": [
            "5\n",
            "10\n"
          ]
        }
      ]
    },
    {
      "cell_type": "markdown",
      "source": [
        "### .extend()"
      ],
      "metadata": {
        "id": "0xrYEy0N1wwc"
      }
    },
    {
      "cell_type": "code",
      "source": [
        "#리스트 확장 : .extend(리스트) : a[]+x[]\n",
        "e = [1,2,3]\n",
        "e.extend([4,5]) #e += [4,5]\n",
        "print(e)\n",
        "\n",
        "f = [6,7,9]\n",
        "e.extend(f)\n",
        "print(e)"
      ],
      "metadata": {
        "colab": {
          "base_uri": "https://localhost:8080/"
        },
        "id": "RnMsosxK2OEj",
        "outputId": "7fea8294-1782-44eb-a97c-c4c26fc345d5"
      },
      "execution_count": 87,
      "outputs": [
        {
          "output_type": "stream",
          "name": "stdout",
          "text": [
            "[1, 2, 3, 4, 5]\n",
            "[1, 2, 3, 4, 5, 6, 7, 9]\n"
          ]
        }
      ]
    }
  ]
}