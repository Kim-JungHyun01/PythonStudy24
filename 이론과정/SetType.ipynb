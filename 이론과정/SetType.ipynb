{
  "nbformat": 4,
  "nbformat_minor": 0,
  "metadata": {
    "colab": {
      "provenance": [],
      "toc_visible": true,
      "authorship_tag": "ABX9TyODTNcT8kFSjEKXcqOpPi8O",
      "include_colab_link": true
    },
    "kernelspec": {
      "name": "python3",
      "display_name": "Python 3"
    },
    "language_info": {
      "name": "python"
    }
  },
  "cells": [
    {
      "cell_type": "markdown",
      "metadata": {
        "id": "view-in-github",
        "colab_type": "text"
      },
      "source": [
        "<a href=\"https://colab.research.google.com/github/Kim-JungHyun01/PythonStudy24/blob/master/%EC%9D%B4%EB%A1%A0%EA%B3%BC%EC%A0%95/SetType.ipynb\" target=\"_parent\"><img src=\"https://colab.research.google.com/assets/colab-badge.svg\" alt=\"Open In Colab\"/></a>"
      ]
    },
    {
      "cell_type": "markdown",
      "source": [
        "# 파이썬 기초학습 2일차 2024.12.19"
      ],
      "metadata": {
        "id": "37Nvx74ap1lV"
      }
    },
    {
      "cell_type": "markdown",
      "source": [
        "## 집합 자료형"
      ],
      "metadata": {
        "id": "i14cwGDEqdDx"
      }
    },
    {
      "cell_type": "markdown",
      "source": [
        "특징\n",
        "- 중복 허용x\n",
        "- 순서 없음(딕셔너리와 비슷) : list형태로 만들면 인덱싱가능\n",
        "\n",
        "  => 중복을 제거하고 순서가 필요하지 않은 데이터에 사용"
      ],
      "metadata": {
        "id": "LTBEGwRRqoN3"
      }
    },
    {
      "cell_type": "code",
      "source": [
        "#집합 자료형 생성\n",
        "s1 = set(\"hello\")\n",
        "print(s1) #l은 1개만, 순서x"
      ],
      "metadata": {
        "colab": {
          "base_uri": "https://localhost:8080/"
        },
        "id": "ag9ePaG5qfuZ",
        "outputId": "53642f02-45ee-4ff9-fe8b-8d4963945f27"
      },
      "execution_count": 2,
      "outputs": [
        {
          "output_type": "stream",
          "name": "stdout",
          "text": [
            "{'e', 'l', 'h', 'o'}\n"
          ]
        }
      ]
    },
    {
      "cell_type": "code",
      "source": [
        "#set -> list변경 : list(집합)_순서는 무작위\n",
        "s1 = set(['h', 'e', 'l', 'l', 'o'])\n",
        "l1 = list(s1)\n",
        "print(l1)\n",
        "\n",
        "#인덱스 이용\n",
        "print(l1[2])"
      ],
      "metadata": {
        "colab": {
          "base_uri": "https://localhost:8080/"
        },
        "id": "Zeo_ncuarmLU",
        "outputId": "6bdacfa1-3173-4180-a141-d12e9ff19a39"
      },
      "execution_count": 8,
      "outputs": [
        {
          "output_type": "stream",
          "name": "stdout",
          "text": [
            "['e', 'l', 'h', 'o']\n",
            "h\n"
          ]
        }
      ]
    },
    {
      "cell_type": "markdown",
      "source": [
        "### 교집합"
      ],
      "metadata": {
        "id": "1ExeROU1sZOY"
      }
    },
    {
      "cell_type": "code",
      "source": [
        "# 교집합 : 겹치는 값만 출력_&(and)\n",
        "s1 = set([1, 2, 3, 4, 5, 6])\n",
        "s2 = set([4, 5, 6, 7, 8, 9])\n",
        "print(s1 & s2)\n",
        "print(s1.intersection(s2))"
      ],
      "metadata": {
        "colab": {
          "base_uri": "https://localhost:8080/"
        },
        "id": "R1K5b3iRsdMU",
        "outputId": "b86eca3f-38e7-41ab-9c77-414aea92ac02"
      },
      "execution_count": 12,
      "outputs": [
        {
          "output_type": "stream",
          "name": "stdout",
          "text": [
            "{4, 5, 6}\n",
            "{4, 5, 6}\n"
          ]
        }
      ]
    },
    {
      "cell_type": "markdown",
      "source": [
        "### 합집합"
      ],
      "metadata": {
        "id": "0n9LqRxwsxEq"
      }
    },
    {
      "cell_type": "code",
      "source": [
        "# 합집합 : 중복제외 전부 출력_|(or)\n",
        "print(s1 | s2)\n",
        "print(s1.union(s2))"
      ],
      "metadata": {
        "colab": {
          "base_uri": "https://localhost:8080/"
        },
        "id": "UCpqft9WszcG",
        "outputId": "6b4877e6-d236-48f4-9b02-fee97fb031c6"
      },
      "execution_count": 13,
      "outputs": [
        {
          "output_type": "stream",
          "name": "stdout",
          "text": [
            "{1, 2, 3, 4, 5, 6, 7, 8, 9}\n",
            "{1, 2, 3, 4, 5, 6, 7, 8, 9}\n"
          ]
        }
      ]
    },
    {
      "cell_type": "markdown",
      "source": [
        "### 차집합"
      ],
      "metadata": {
        "id": "7mGTHyaVs9rv"
      }
    },
    {
      "cell_type": "code",
      "source": [
        "# 차집합 : 기준집합(왼쪽)에서 겹치는 것제외 출력_-\n",
        "#기준 : s1\n",
        "print(s1 - s2)\n",
        "print(s1.difference(s2))\n",
        "\n",
        "#기준 : s2\n",
        "print(s2 - s1)\n",
        "print(s2.difference(s1))"
      ],
      "metadata": {
        "colab": {
          "base_uri": "https://localhost:8080/"
        },
        "id": "4ABOnxpKtAt3",
        "outputId": "1b28323f-2ef9-45b3-dea6-6fbbcc49e1a9"
      },
      "execution_count": 14,
      "outputs": [
        {
          "output_type": "stream",
          "name": "stdout",
          "text": [
            "{1, 2, 3}\n",
            "{1, 2, 3}\n",
            "{8, 9, 7}\n",
            "{8, 9, 7}\n"
          ]
        }
      ]
    },
    {
      "cell_type": "markdown",
      "source": [
        "### .add()"
      ],
      "metadata": {
        "id": "4S-_mSBGtmgC"
      }
    },
    {
      "cell_type": "code",
      "source": [
        "#집합에 값추가 : 1개만\n",
        "s1 = set(['h','e','l'])\n",
        "s1.add(4)\n",
        "print(s1)"
      ],
      "metadata": {
        "colab": {
          "base_uri": "https://localhost:8080/"
        },
        "id": "cdoGp_RrtzSM",
        "outputId": "062ad6cd-934d-4921-a746-51736e7601ae"
      },
      "execution_count": 16,
      "outputs": [
        {
          "output_type": "stream",
          "name": "stdout",
          "text": [
            "{'e', 'l', 4, 'h'}\n"
          ]
        }
      ]
    },
    {
      "cell_type": "markdown",
      "source": [
        "### .update()"
      ],
      "metadata": {
        "id": "WOE3RCV_tnMp"
      }
    },
    {
      "cell_type": "code",
      "source": [
        "# 집합 값추가 : 1개이상\n",
        "s1 = set(['h','e','l'])\n",
        "\n",
        "#여러개\n",
        "s1.update([4,5,6])\n",
        "print(s1)\n",
        "\n",
        "#1개\n",
        "s1.update('j')\n",
        "print(s1)\n",
        "\n",
        "#문자열의 경우 문자로 분리\n",
        "s1.update('abc')\n",
        "print(s1)"
      ],
      "metadata": {
        "colab": {
          "base_uri": "https://localhost:8080/"
        },
        "id": "mHpQ3eS7vtNd",
        "outputId": "f0343319-37fd-45bf-c8e0-1c2dd5aa9e53"
      },
      "execution_count": 27,
      "outputs": [
        {
          "output_type": "stream",
          "name": "stdout",
          "text": [
            "{4, 5, 'h', 6, 'e', 'l'}\n",
            "{4, 5, 'h', 6, 'e', 'l', 'j'}\n",
            "{4, 5, 'h', 6, 'e', 'l', 'j', 'a', 'c', 'b'}\n"
          ]
        }
      ]
    },
    {
      "cell_type": "markdown",
      "source": [
        "### .remove()"
      ],
      "metadata": {
        "id": "iBVosuTGtuoL"
      }
    },
    {
      "cell_type": "code",
      "source": [
        "#집합 값제거\n",
        "s1 = set(['h','e','l'])\n",
        "s1.remove('h')\n",
        "print(s1)\n",
        "\n",
        "#값이 없을 경우 오류\n",
        "s1.remove('a')\n",
        "print(s1)\n"
      ],
      "metadata": {
        "colab": {
          "base_uri": "https://localhost:8080/",
          "height": 221
        },
        "id": "X56VTTngvvwh",
        "outputId": "e56b6f46-a6f9-4d65-a2ac-77998edab844"
      },
      "execution_count": 28,
      "outputs": [
        {
          "output_type": "stream",
          "name": "stdout",
          "text": [
            "{'e', 'l'}\n"
          ]
        },
        {
          "output_type": "error",
          "ename": "KeyError",
          "evalue": "'a'",
          "traceback": [
            "\u001b[0;31m---------------------------------------------------------------------------\u001b[0m",
            "\u001b[0;31mKeyError\u001b[0m                                  Traceback (most recent call last)",
            "\u001b[0;32m<ipython-input-28-660199f72756>\u001b[0m in \u001b[0;36m<cell line: 6>\u001b[0;34m()\u001b[0m\n\u001b[1;32m      4\u001b[0m \u001b[0mprint\u001b[0m\u001b[0;34m(\u001b[0m\u001b[0ms1\u001b[0m\u001b[0;34m)\u001b[0m\u001b[0;34m\u001b[0m\u001b[0;34m\u001b[0m\u001b[0m\n\u001b[1;32m      5\u001b[0m \u001b[0;34m\u001b[0m\u001b[0m\n\u001b[0;32m----> 6\u001b[0;31m \u001b[0ms1\u001b[0m\u001b[0;34m.\u001b[0m\u001b[0mremove\u001b[0m\u001b[0;34m(\u001b[0m\u001b[0;34m'a'\u001b[0m\u001b[0;34m)\u001b[0m\u001b[0;34m\u001b[0m\u001b[0;34m\u001b[0m\u001b[0m\n\u001b[0m\u001b[1;32m      7\u001b[0m \u001b[0mprint\u001b[0m\u001b[0;34m(\u001b[0m\u001b[0ms1\u001b[0m\u001b[0;34m)\u001b[0m\u001b[0;34m\u001b[0m\u001b[0;34m\u001b[0m\u001b[0m\n",
            "\u001b[0;31mKeyError\u001b[0m: 'a'"
          ]
        }
      ]
    }
  ]
}