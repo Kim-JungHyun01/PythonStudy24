{
  "nbformat": 4,
  "nbformat_minor": 0,
  "metadata": {
    "colab": {
      "provenance": [],
      "toc_visible": true,
      "authorship_tag": "ABX9TyPS7OuQeaFIX7xue4PYQ9Jl",
      "include_colab_link": true
    },
    "kernelspec": {
      "name": "python3",
      "display_name": "Python 3"
    },
    "language_info": {
      "name": "python"
    }
  },
  "cells": [
    {
      "cell_type": "markdown",
      "metadata": {
        "id": "view-in-github",
        "colab_type": "text"
      },
      "source": [
        "<a href=\"https://colab.research.google.com/github/Kim-JungHyun01/PythonStudy24/blob/master/BaseType.ipynb\" target=\"_parent\"><img src=\"https://colab.research.google.com/assets/colab-badge.svg\" alt=\"Open In Colab\"/></a>"
      ]
    },
    {
      "cell_type": "markdown",
      "source": [
        "# 파이썬 기초학습 1일차 2024.12.18"
      ],
      "metadata": {
        "id": "VE6I6vTsViFA"
      }
    },
    {
      "cell_type": "markdown",
      "source": [
        "파이썬 프로그래밍 기초, 자료형\n",
        "\n",
        "1. 숫자형\n",
        "2. 문자열\n",
        "3. 리스트\n",
        "4. 튜플\n",
        "5. 딕셔너리\n",
        "6. 집합\n",
        "7. 불"
      ],
      "metadata": {
        "id": "F53WPVAdVClw"
      }
    },
    {
      "cell_type": "markdown",
      "source": [
        "## 숫자형"
      ],
      "metadata": {
        "id": "1PW5V023WZVo"
      }
    },
    {
      "cell_type": "code",
      "source": [
        "# 숫자형 : 정수형, 실수형, 진수형(2진수, 8진수 12진수등)\n",
        "\n",
        "#정수형(integer) : 양의 정수, 0. 음의 정수을 변수에 대입\n",
        "\n",
        "a = 123 #양의 정수\n",
        "b = -123 #음의 정수\n",
        "c = 0 #숫자 0\n",
        "\n",
        "#실수형(floating-point) : 소수점이 포함된 숫자\n",
        "d = 12.2\n",
        "e = -15.6\n",
        "\n",
        "#지수 표현방법 : 많은 수치를 짧게 표현\n",
        "f = 4.14E4 #4.14 * 10^4\n",
        "g = 4.24e-2 # 4.24 * 10^-2\n",
        "\n",
        "#진수 표현방법 : 10진수(사람), 2진수(컴퓨터), 리뉵스(8진수), cpu(16진수)\n",
        "#8진수(옥타 : octal) -> 숫자0에 알파벳o(대소문자가능) : 0o or 0O\n",
        "h = 0o177\n",
        "print(h) #127 10진수\n",
        "# 1 7 7 => 4,2,1중에 더해지는 것만 1로 ture =>\n",
        "# (0+0+1) (4+2+1) (4+2+1) => 001 111 111 => 1+2+4+8+16+32+64 = 127\n",
        "\n",
        "#16진수 (헥사 : haxadecimal) : 숫자0에 알파벳x\n",
        "i = 0x8ff\n",
        "print(i) #2303 10진수\n",
        "#16진수 : 1 2 3 4 5 6 7 8 9 A B C D E F :16개\n",
        "# 8ff : 8 15 15 => 8,4,2,1중에 더해지는 것만 1 => (8+0+0+0) (8+4+2+1) (8+4+2+1)\n",
        "# 1000 1111 1111 => 2048+128+64+32+16+8+4+2+1 = 2303"
      ],
      "metadata": {
        "colab": {
          "base_uri": "https://localhost:8080/"
        },
        "id": "2kMqVqA4VuZq",
        "outputId": "ecc5db35-9309-4c6d-c12a-88f677097664"
      },
      "execution_count": 6,
      "outputs": [
        {
          "output_type": "stream",
          "name": "stdout",
          "text": [
            "127\n",
            "2303\n"
          ]
        }
      ]
    },
    {
      "cell_type": "markdown",
      "source": [
        "숫자형을 활용하기 위한 연산자\n",
        "1.   사칙연산 : +, -,/,*\n",
        "2.   우선순위 : 괄호 -> *,/ -> 앞쪽부터"
      ],
      "metadata": {
        "id": "rsfcOTsYdKoB"
      }
    },
    {
      "cell_type": "code",
      "source": [
        " a = 3\n",
        " b = 4\n",
        " a + b"
      ],
      "metadata": {
        "colab": {
          "base_uri": "https://localhost:8080/"
        },
        "id": "nHgkPZFRd0Kx",
        "outputId": "3b0406d5-42b1-42a3-a678-41c1752be565"
      },
      "execution_count": 14,
      "outputs": [
        {
          "output_type": "execute_result",
          "data": {
            "text/plain": [
              "7"
            ]
          },
          "metadata": {},
          "execution_count": 14
        }
      ]
    },
    {
      "cell_type": "code",
      "source": [
        "a - b"
      ],
      "metadata": {
        "colab": {
          "base_uri": "https://localhost:8080/"
        },
        "id": "s7mZmiLCeBHz",
        "outputId": "9e3394cc-e794-443b-dd78-b605871987ab"
      },
      "execution_count": 15,
      "outputs": [
        {
          "output_type": "execute_result",
          "data": {
            "text/plain": [
              "-1"
            ]
          },
          "metadata": {},
          "execution_count": 15
        }
      ]
    },
    {
      "cell_type": "code",
      "source": [
        "a * b"
      ],
      "metadata": {
        "colab": {
          "base_uri": "https://localhost:8080/"
        },
        "id": "t0-uQCddeSjH",
        "outputId": "9ffd2b48-c8a1-40ca-a0bd-e3469d7d6b64"
      },
      "execution_count": 16,
      "outputs": [
        {
          "output_type": "execute_result",
          "data": {
            "text/plain": [
              "12"
            ]
          },
          "metadata": {},
          "execution_count": 16
        }
      ]
    },
    {
      "cell_type": "code",
      "source": [
        "a / b"
      ],
      "metadata": {
        "colab": {
          "base_uri": "https://localhost:8080/"
        },
        "id": "qZsyhGsweVVD",
        "outputId": "061d8b66-6de9-4cd8-b409-ff8d7e5fcf62"
      },
      "execution_count": 17,
      "outputs": [
        {
          "output_type": "execute_result",
          "data": {
            "text/plain": [
              "0.75"
            ]
          },
          "metadata": {},
          "execution_count": 17
        }
      ]
    },
    {
      "cell_type": "code",
      "source": [
        "#제곱(**)\n",
        "a ** b #3^4 = 3*3*3*3"
      ],
      "metadata": {
        "colab": {
          "base_uri": "https://localhost:8080/"
        },
        "id": "EZh2-2JZebm1",
        "outputId": "1a79b548-3671-46d7-e811-81599c97d848"
      },
      "execution_count": 18,
      "outputs": [
        {
          "output_type": "execute_result",
          "data": {
            "text/plain": [
              "81"
            ]
          },
          "metadata": {},
          "execution_count": 18
        }
      ]
    },
    {
      "cell_type": "code",
      "source": [
        "#나머지 처리(%)\n",
        "7 % 3"
      ],
      "metadata": {
        "colab": {
          "base_uri": "https://localhost:8080/"
        },
        "id": "yYl-WR75epNg",
        "outputId": "dbcf8ed3-ec67-4fc3-fdc0-32f44ab3fc2a"
      },
      "execution_count": 21,
      "outputs": [
        {
          "output_type": "execute_result",
          "data": {
            "text/plain": [
              "1"
            ]
          },
          "metadata": {},
          "execution_count": 21
        }
      ]
    },
    {
      "cell_type": "code",
      "source": [
        "#나눗셈 후 몫 리턴(//)\n",
        "7 // 4 # 몫 : 1\n",
        "#구분 : 7 / 4 => 1.75"
      ],
      "metadata": {
        "colab": {
          "base_uri": "https://localhost:8080/"
        },
        "id": "Hk9YY47JfxfO",
        "outputId": "5dda3a1c-e08c-40f6-ea0d-8a82576e461a"
      },
      "execution_count": 25,
      "outputs": [
        {
          "output_type": "execute_result",
          "data": {
            "text/plain": [
              "1"
            ]
          },
          "metadata": {},
          "execution_count": 25
        }
      ]
    },
    {
      "cell_type": "code",
      "source": [
        "#복합연산자 +=, -=, *=, /=, //=, %=, **=\n",
        "\n",
        "a = 1\n",
        "a += 1 #a = a+1\n",
        "print(a)"
      ],
      "metadata": {
        "colab": {
          "base_uri": "https://localhost:8080/"
        },
        "id": "BFDklMJAgRdS",
        "outputId": "9d8b6142-ca22-4199-f130-df9567cbfcb3"
      },
      "execution_count": 26,
      "outputs": [
        {
          "output_type": "stream",
          "name": "stdout",
          "text": [
            "2\n"
          ]
        }
      ]
    },
    {
      "cell_type": "markdown",
      "source": [
        "## 문자열"
      ],
      "metadata": {
        "id": "hB0KjCLqhHEJ"
      }
    },
    {
      "cell_type": "code",
      "source": [
        "#문자열 자료형(String) : 연속된 문자들의 나열 \"\"(큰따움표)\n",
        "\n",
        "#큰따움표\n",
        "\"Hello World\"\n",
        "\n",
        "#작은따움표\n",
        "'Hello World'\n",
        "\n",
        "#양쪽 둘러싸기\n",
        "#큰따움표 3개 연속사용\n",
        "\"\"\"Hello World\"\"\"\n",
        "\n",
        "#작은따움표 3개 연속사용\n",
        "'''Hello World'''\n",
        "\n",
        "#큰따움표 안 작은따움표 가능\n",
        "food = \"Python's favorite food is perl\"\n",
        "food"
      ],
      "metadata": {
        "colab": {
          "base_uri": "https://localhost:8080/",
          "height": 35
        },
        "id": "hv83j0AghKUB",
        "outputId": "36d4200f-085d-49cb-e2dc-159518939793"
      },
      "execution_count": 31,
      "outputs": [
        {
          "output_type": "execute_result",
          "data": {
            "text/plain": [
              "\"Python's favorite food is perl\""
            ],
            "application/vnd.google.colaboratory.intrinsic+json": {
              "type": "string"
            }
          },
          "metadata": {},
          "execution_count": 31
        }
      ]
    },
    {
      "cell_type": "code",
      "source": [
        "#만약 문자열 출력에 큰따움표를 보여주고 싶을때\n",
        "#작은따움표 안에 큰따움표\n",
        "str = 'My favorite food is \"Python\"'\n",
        "str"
      ],
      "metadata": {
        "colab": {
          "base_uri": "https://localhost:8080/",
          "height": 35
        },
        "id": "bMbPUW_DjBww",
        "outputId": "12ca1a78-0d3f-46d1-a9be-5cacdcdd9005"
      },
      "execution_count": 32,
      "outputs": [
        {
          "output_type": "execute_result",
          "data": {
            "text/plain": [
              "'My favorite food is \"Python\"'"
            ],
            "application/vnd.google.colaboratory.intrinsic+json": {
              "type": "string"
            }
          },
          "metadata": {},
          "execution_count": 32
        }
      ]
    },
    {
      "cell_type": "markdown",
      "source": [
        "### 이스케이프 코드"
      ],
      "metadata": {
        "id": "H-_ogUJBR2G_"
      }
    },
    {
      "cell_type": "markdown",
      "source": [
        "이스케이프 코드 종류\n",
        "* \\n\t: 줄바꿈 = enter\n",
        "* \\t\t: 탭 간격\n",
        "* \\\\\\\t: \\표현\n",
        "* \\\\'\t: 작은따옴표(')\n",
        "* \\\\\"\t: 큰따옴표(\")\n",
        "* \\r\t: 캐리지 리턴(과거 타자기 효과 : 커서를 현재 줄 맨 앞으로)\n",
        "* \\f\t: 폼 피드(커서를 현재 줄의 다음 줄로 이동)\n",
        "* \\a\t: 벨 소리(출력할 때 PC 스피커에서 '삑' 소리)\n",
        "* \\b\t: 백 스페이스 = space\n",
        "* \\000 : 널 문자\n",
        "\n",
        "\n"
      ],
      "metadata": {
        "id": "4Q3y2j0DpP80"
      }
    },
    {
      "cell_type": "code",
      "source": [
        "#이스케이프 문자 \\n \\t, \\r, \\\\등(\\ : 역슬레시)\n",
        "food = \"Python\\t favorite food is perl\"\n",
        "say = \"Python\\'s favorite food is perl\" # \\' : '문자표시\n",
        "print(food)\n",
        "print(say)"
      ],
      "metadata": {
        "colab": {
          "base_uri": "https://localhost:8080/"
        },
        "id": "FrZYyu6YjewF",
        "outputId": "e0a83c76-6751-4400-9b79-92ea950ec4a2"
      },
      "execution_count": 35,
      "outputs": [
        {
          "output_type": "stream",
          "name": "stdout",
          "text": [
            "Python\n",
            " favorite food is perl\n",
            "Python's favorite food is perl\n"
          ]
        }
      ]
    },
    {
      "cell_type": "code",
      "source": [
        "#여러줄로 출력 \\n 엔터 효과\n",
        "multiline = \"Life is too short\\n You need python\"\n",
        "print(multiline)"
      ],
      "metadata": {
        "colab": {
          "base_uri": "https://localhost:8080/"
        },
        "id": "m4qpNxFJnGSt",
        "outputId": "ac93e424-6a56-4a71-a265-5d926a425b36"
      },
      "execution_count": 38,
      "outputs": [
        {
          "output_type": "stream",
          "name": "stdout",
          "text": [
            "Life is too short\n",
            " You need python\n"
          ]
        }
      ]
    },
    {
      "cell_type": "code",
      "source": [
        "#여러줄로 출력이 가능한 '''\n",
        "multiline = '''\n",
        "Life is too short\n",
        "You need python\n",
        "'''\n",
        "print(multiline)"
      ],
      "metadata": {
        "colab": {
          "base_uri": "https://localhost:8080/"
        },
        "id": "VImqJ_5unk4w",
        "outputId": "0bf2330c-7ea7-4e31-b1d1-f46bf749771a"
      },
      "execution_count": 39,
      "outputs": [
        {
          "output_type": "stream",
          "name": "stdout",
          "text": [
            "\n",
            "Life is too short\n",
            "You need python\n",
            "\n"
          ]
        }
      ]
    },
    {
      "cell_type": "code",
      "source": [
        "#여러줄로 출력이 가능한 \"\"\"\n",
        "multiline = \"\"\"\n",
        "Life is too short\n",
        "You need python\n",
        "\"\"\"\n",
        "print(multiline)"
      ],
      "metadata": {
        "colab": {
          "base_uri": "https://localhost:8080/"
        },
        "id": "2zvDZV2Do7a-",
        "outputId": "1363c949-bb81-4325-973d-cdc42d233719"
      },
      "execution_count": 41,
      "outputs": [
        {
          "output_type": "stream",
          "name": "stdout",
          "text": [
            "\n",
            "Life is too short\n",
            "You need python\n",
            "\n"
          ]
        }
      ]
    },
    {
      "cell_type": "markdown",
      "source": [
        "### 문자열 연산"
      ],
      "metadata": {
        "id": "VVc8eE0iR-1K"
      }
    },
    {
      "cell_type": "code",
      "source": [
        "#문자열 연산자(더하기)\n",
        "head = \"python\"\n",
        "tail = \" is fun!!\"\n",
        "head+tail"
      ],
      "metadata": {
        "colab": {
          "base_uri": "https://localhost:8080/",
          "height": 35
        },
        "id": "FE3fQ3pNrEdn",
        "outputId": "9a4fb648-aee5-4f31-e787-661bc87ca837"
      },
      "execution_count": 43,
      "outputs": [
        {
          "output_type": "execute_result",
          "data": {
            "text/plain": [
              "'python is fun!!'"
            ],
            "application/vnd.google.colaboratory.intrinsic+json": {
              "type": "string"
            }
          },
          "metadata": {},
          "execution_count": 43
        }
      ]
    },
    {
      "cell_type": "code",
      "source": [
        "#문자열 연산자(곱하기 = 반복)\n",
        "body = \" very\"\n",
        "head + body * 2 + tail"
      ],
      "metadata": {
        "colab": {
          "base_uri": "https://localhost:8080/",
          "height": 35
        },
        "id": "e_EaUm6yrdCb",
        "outputId": "26bd4a3e-551d-443a-f098-01b12d9442af"
      },
      "execution_count": 46,
      "outputs": [
        {
          "output_type": "execute_result",
          "data": {
            "text/plain": [
              "'python very very is fun!!'"
            ],
            "application/vnd.google.colaboratory.intrinsic+json": {
              "type": "string"
            }
          },
          "metadata": {},
          "execution_count": 46
        }
      ]
    },
    {
      "cell_type": "code",
      "source": [
        "print(\"=\" * 30)\n",
        "print(\"Welcome to Python World\")\n",
        "print(\"=\" * 30)"
      ],
      "metadata": {
        "colab": {
          "base_uri": "https://localhost:8080/"
        },
        "id": "HfyK-LPvrv6k",
        "outputId": "dc8ed7bd-9074-4887-fa32-f5b93942f587"
      },
      "execution_count": 48,
      "outputs": [
        {
          "output_type": "stream",
          "name": "stdout",
          "text": [
            "==============================\n",
            "Welcome to Python World\n",
            "==============================\n"
          ]
        }
      ]
    },
    {
      "cell_type": "code",
      "source": [
        "#문자열 길이(len)\n",
        "a = \"Life is too short\"\n",
        "len(a)"
      ],
      "metadata": {
        "colab": {
          "base_uri": "https://localhost:8080/"
        },
        "id": "kSXzjqVCsK_k",
        "outputId": "35994e6e-7fdd-4d11-8ef3-bd6b34dc272c"
      },
      "execution_count": 49,
      "outputs": [
        {
          "output_type": "execute_result",
          "data": {
            "text/plain": [
              "17"
            ]
          },
          "metadata": {},
          "execution_count": 49
        }
      ]
    },
    {
      "cell_type": "code",
      "source": [
        "#문자열 인덱싱(indexing), 슬라이싱(slicing)\n",
        "#문자열 : 문자배열 => 0부터 인덱스적용\n",
        "a = \"Life is too short, You need Python\"\n",
        "#    0123456789 ...                   33\n",
        "#  -32                                -1\n",
        "#len(a) #34\n",
        "print(a[6])\n",
        "print(a[-1]) #문자열 뒤부터"
      ],
      "metadata": {
        "colab": {
          "base_uri": "https://localhost:8080/"
        },
        "id": "95vIJ92ps-SH",
        "outputId": "06cef5b3-6f67-469f-b170-f9e6c08fa8a3"
      },
      "execution_count": 58,
      "outputs": [
        {
          "output_type": "stream",
          "name": "stdout",
          "text": [
            "s\n",
            "n\n"
          ]
        }
      ]
    },
    {
      "cell_type": "code",
      "source": [
        "#문자열 추출하기\n",
        "a = \"Life is too short, You need Python\"\n",
        "b = a[0]+a[1]+a[2]+a[3]\n",
        "print(b)"
      ],
      "metadata": {
        "colab": {
          "base_uri": "https://localhost:8080/"
        },
        "id": "038tqrMyuIna",
        "outputId": "e61cfa3c-5b77-4765-8c8d-148e8fbff371"
      },
      "execution_count": 72,
      "outputs": [
        {
          "output_type": "stream",
          "name": "stdout",
          "text": [
            "Life\n"
          ]
        }
      ]
    },
    {
      "cell_type": "code",
      "source": [
        "#문자열 슬라이싱\n",
        "c = a[:4] # 처음~n-1까지\n",
        "print(c)\n",
        "d = a[16:] #정해진숫자 ~ 끝\n",
        "print(d)\n",
        "e = a[:] #처음 ~ 끝\n",
        "print(e)"
      ],
      "metadata": {
        "colab": {
          "base_uri": "https://localhost:8080/"
        },
        "id": "hXiS0jOOwyEK",
        "outputId": "f35de067-4be0-4c61-8d5b-27898cfb75b6"
      },
      "execution_count": 73,
      "outputs": [
        {
          "output_type": "stream",
          "name": "stdout",
          "text": [
            "Life\n",
            "t, You need Python\n",
            "Life is too short, You need Python\n"
          ]
        }
      ]
    },
    {
      "cell_type": "code",
      "source": [
        "#슬라이싱 활용_1\n",
        "a = \"20241218Sunny\"\n",
        "date = a[:8]\n",
        "weather = a[8:]\n",
        "print(date)\n",
        "print(weather)"
      ],
      "metadata": {
        "colab": {
          "base_uri": "https://localhost:8080/"
        },
        "id": "BsAK5Vi1v9Hj",
        "outputId": "43e7a151-3905-4ca2-c446-e218185d7198"
      },
      "execution_count": 77,
      "outputs": [
        {
          "output_type": "stream",
          "name": "stdout",
          "text": [
            "20241218\n",
            "Sunny\n"
          ]
        }
      ]
    },
    {
      "cell_type": "code",
      "source": [
        "#슬라이싱 활용_2\n",
        "a = \"20241218Sunny\"\n",
        "year = a[:4]\n",
        "month = a[4:6]\n",
        "day = a[6:8]\n",
        "weather = a[8:]\n",
        "print(year)\n",
        "print(month)\n",
        "print(day)\n",
        "print(weather)\n",
        "type(year)"
      ],
      "metadata": {
        "colab": {
          "base_uri": "https://localhost:8080/"
        },
        "id": "ghF65s_zw4LZ",
        "outputId": "d7c84410-7ed2-4db0-aa1c-d087a764d089"
      },
      "execution_count": 76,
      "outputs": [
        {
          "output_type": "stream",
          "name": "stdout",
          "text": [
            "2024\n",
            "12\n",
            "18\n",
            "Sunny\n"
          ]
        },
        {
          "output_type": "execute_result",
          "data": {
            "text/plain": [
              "str"
            ]
          },
          "metadata": {},
          "execution_count": 76
        }
      ]
    },
    {
      "cell_type": "code",
      "source": [
        "# pithon문자열을 python으로 바꾸고 싶음\n",
        "a = \"Pithon\"\n",
        "#a[1] = 'y' # String 타입은 직접적 교체불가\n",
        "#메소드사용 or 분해후 결합\n",
        "a = a[:1] + 'y' + a[2:]\n",
        "print(a)"
      ],
      "metadata": {
        "colab": {
          "base_uri": "https://localhost:8080/"
        },
        "id": "Tpd_-9LJxra-",
        "outputId": "1e7389ad-5c47-4240-8ca4-8a0ffa89ae3a"
      },
      "execution_count": 82,
      "outputs": [
        {
          "output_type": "stream",
          "name": "stdout",
          "text": [
            "Python\n"
          ]
        }
      ]
    },
    {
      "cell_type": "markdown",
      "source": [
        "### 문자열 포맷코드"
      ],
      "metadata": {
        "id": "r5RmUje_SDiX"
      }
    },
    {
      "cell_type": "markdown",
      "source": [
        "문자열 포맷코드\n",
        "* %s : 문자열(String)\n",
        "* %c : 문자 1개(character)\n",
        "* %d : 정수(Integer)\n",
        "* %f : 실수(=부동소수)(floating-point)\n",
        "* %o : 8진수\n",
        "* %x : 16진수\n",
        "* %% : Literal % (문자 % 자체)"
      ],
      "metadata": {
        "id": "kFb42ehF2Rpx"
      }
    },
    {
      "cell_type": "code",
      "source": [
        "#문자열 포맷팅_자바의 printf와 같은 기능\n",
        "#동적 출력을 위한 기능 : \"\"안에 정수나 문자열등을 추가할 때 활용\n",
        "\"I eat %d apples.\" % 3 # %d : 정수 , 마지막 %뒤의 값 :  동적값"
      ],
      "metadata": {
        "colab": {
          "base_uri": "https://localhost:8080/",
          "height": 35
        },
        "id": "J2o1iMxu12QU",
        "outputId": "879f2449-6875-4c05-b473-ea6e3ba006a3"
      },
      "execution_count": 83,
      "outputs": [
        {
          "output_type": "execute_result",
          "data": {
            "text/plain": [
              "'I eat 3 apples.'"
            ],
            "application/vnd.google.colaboratory.intrinsic+json": {
              "type": "string"
            }
          },
          "metadata": {},
          "execution_count": 83
        }
      ]
    },
    {
      "cell_type": "code",
      "source": [
        "\"I eat %s apples.\" % \"five\" #문자열동적 : %s, 동적갑 : \"\" or ''로 처리"
      ],
      "metadata": {
        "colab": {
          "base_uri": "https://localhost:8080/",
          "height": 35
        },
        "id": "7Ttl74qG2znU",
        "outputId": "eb418266-884e-4c6c-e764-b8a397bc2ded"
      },
      "execution_count": 84,
      "outputs": [
        {
          "output_type": "execute_result",
          "data": {
            "text/plain": [
              "'I eat five apples.'"
            ],
            "application/vnd.google.colaboratory.intrinsic+json": {
              "type": "string"
            }
          },
          "metadata": {},
          "execution_count": 84
        }
      ]
    },
    {
      "cell_type": "code",
      "source": [
        "number = 3\n",
        "\"I eat %d apples.\" % number"
      ],
      "metadata": {
        "colab": {
          "base_uri": "https://localhost:8080/",
          "height": 35
        },
        "id": "EvRRv4kN3Ovm",
        "outputId": "57a4ebb6-d47a-4051-d93d-9310d9519747"
      },
      "execution_count": 85,
      "outputs": [
        {
          "output_type": "execute_result",
          "data": {
            "text/plain": [
              "'I eat 3 apples.'"
            ],
            "application/vnd.google.colaboratory.intrinsic+json": {
              "type": "string"
            }
          },
          "metadata": {},
          "execution_count": 85
        }
      ]
    },
    {
      "cell_type": "code",
      "source": [
        "number = 10\n",
        "day = \"three\"\n",
        "\"I ate %d apples. so I was sick for %s days.\" % (number, day)\n",
        "#동적매개값 2개이상시 ()와 ,이용 / 단, 파라미터 순서, 타입 중요"
      ],
      "metadata": {
        "colab": {
          "base_uri": "https://localhost:8080/",
          "height": 35
        },
        "id": "E7517KCB3g-v",
        "outputId": "52a3e151-6aed-4c12-895b-8ceb919ba025"
      },
      "execution_count": 91,
      "outputs": [
        {
          "output_type": "execute_result",
          "data": {
            "text/plain": [
              "'I ate 10 apples. so I was sick for three days.'"
            ],
            "application/vnd.google.colaboratory.intrinsic+json": {
              "type": "string"
            }
          },
          "metadata": {},
          "execution_count": 91
        }
      ]
    },
    {
      "cell_type": "code",
      "source": [
        "#파이썬의 장점 => 자동타입변환 : %s는 정수나 실수를 자동타입으로 문자열로 변환\n",
        "\"I have %s apples\" % 3"
      ],
      "metadata": {
        "colab": {
          "base_uri": "https://localhost:8080/",
          "height": 35
        },
        "id": "jFFRMK2q5Afz",
        "outputId": "4c94306f-f6e6-4a3f-a18c-9676c564c5d7"
      },
      "execution_count": 92,
      "outputs": [
        {
          "output_type": "execute_result",
          "data": {
            "text/plain": [
              "'I have 3 apples'"
            ],
            "application/vnd.google.colaboratory.intrinsic+json": {
              "type": "string"
            }
          },
          "metadata": {},
          "execution_count": 92
        }
      ]
    },
    {
      "cell_type": "code",
      "source": [
        "\"rate is %s\" % 3.234"
      ],
      "metadata": {
        "colab": {
          "base_uri": "https://localhost:8080/",
          "height": 35
        },
        "id": "NdSjTMFr5Kvv",
        "outputId": "57903256-6cb2-4149-e535-58d675bddfd2"
      },
      "execution_count": 93,
      "outputs": [
        {
          "output_type": "execute_result",
          "data": {
            "text/plain": [
              "'rate is 3.234'"
            ],
            "application/vnd.google.colaboratory.intrinsic+json": {
              "type": "string"
            }
          },
          "metadata": {},
          "execution_count": 93
        }
      ]
    },
    {
      "cell_type": "code",
      "source": [
        "#문자열 안에 %를 넣고 싶을 때 -> Error is 98%\n",
        "#\"\"안의 % : 예약어 => 문자열 처리 : %%\n",
        "\"Error is %d%%\" % 98"
      ],
      "metadata": {
        "colab": {
          "base_uri": "https://localhost:8080/",
          "height": 35
        },
        "id": "DbELtr7x5kO0",
        "outputId": "87c709e6-ab06-4c81-a95e-4c0f44f090d6"
      },
      "execution_count": 99,
      "outputs": [
        {
          "output_type": "execute_result",
          "data": {
            "text/plain": [
              "'Error is 98%'"
            ],
            "application/vnd.google.colaboratory.intrinsic+json": {
              "type": "string"
            }
          },
          "metadata": {},
          "execution_count": 99
        }
      ]
    },
    {
      "cell_type": "code",
      "source": [
        "#포맷팅 숫자(문자 : 기본 왼쪽정렬 / 숫자 : 기본 오른쪽정렬)\n",
        "# 숫자 : 각각의 파라미터의 길이\n",
        "print(\"%-10s MBC AI\" % \"hi\")  # - : 왼쪽정렬\n",
        "print(\"%10d\" % 105)           # + : 생략가능, 오른쪽정렬"
      ],
      "metadata": {
        "colab": {
          "base_uri": "https://localhost:8080/"
        },
        "id": "ltRcTsWH6iii",
        "outputId": "fb0bab85-3964-4390-9db1-86f0b23c9038"
      },
      "execution_count": 104,
      "outputs": [
        {
          "output_type": "stream",
          "name": "stdout",
          "text": [
            "hi         MBC AI\n",
            "       105\n"
          ]
        }
      ]
    },
    {
      "cell_type": "code",
      "source": [
        "#소수점 포맷팅\n",
        "\"%10.4f\" % 123456789.1546845 #소수점 n+1에서 반올림해서 출력\n",
        "#파라미터길이는 기본자릿수 일뿐, 넘치면 자동추가"
      ],
      "metadata": {
        "colab": {
          "base_uri": "https://localhost:8080/",
          "height": 35
        },
        "id": "1wPsCHkS8Cps",
        "outputId": "7710f639-a342-4e04-e833-c3c8e7bdd123"
      },
      "execution_count": 113,
      "outputs": [
        {
          "output_type": "execute_result",
          "data": {
            "text/plain": [
              "'123456789.1547'"
            ],
            "application/vnd.google.colaboratory.intrinsic+json": {
              "type": "string"
            }
          },
          "metadata": {},
          "execution_count": 113
        }
      ]
    },
    {
      "cell_type": "markdown",
      "source": [
        "### format()"
      ],
      "metadata": {
        "id": "Org233g9SIyF"
      }
    },
    {
      "cell_type": "code",
      "source": [
        "#포맷팅 가독성 높이기 : .format()메서드\n",
        "print(\"I eat {0} apples\".format(3))\n",
        "print(\"I eat {0} apples\".format(\"five\"))"
      ],
      "metadata": {
        "colab": {
          "base_uri": "https://localhost:8080/"
        },
        "id": "4D-LsNiK9bzV",
        "outputId": "bd035a98-03ac-4828-ce5a-85b199be37fa"
      },
      "execution_count": 117,
      "outputs": [
        {
          "output_type": "stream",
          "name": "stdout",
          "text": [
            "I eat 3 apples\n",
            "I eat five apples\n"
          ]
        }
      ]
    },
    {
      "cell_type": "code",
      "source": [
        "number = 5\n",
        "day = \"three\"\n",
        "\"I eat {0} apples, so I sicks {1} days\".format(number,day)"
      ],
      "metadata": {
        "colab": {
          "base_uri": "https://localhost:8080/",
          "height": 35
        },
        "id": "tMfP_OFa91UI",
        "outputId": "f4b80912-cb01-4398-c9d7-3815296d2d06"
      },
      "execution_count": 123,
      "outputs": [
        {
          "output_type": "execute_result",
          "data": {
            "text/plain": [
              "'I eat 5 apples, so I sicks three days'"
            ],
            "application/vnd.google.colaboratory.intrinsic+json": {
              "type": "string"
            }
          },
          "metadata": {},
          "execution_count": 123
        }
      ]
    },
    {
      "cell_type": "code",
      "source": [
        "\"I eat {number} apples, so I sicks {day} days\".format(number = 10,day = \"four\")"
      ],
      "metadata": {
        "colab": {
          "base_uri": "https://localhost:8080/",
          "height": 35
        },
        "id": "GVTV62b5-txu",
        "outputId": "175fa80a-ca81-4627-f33b-8f2f03bc0083"
      },
      "execution_count": 126,
      "outputs": [
        {
          "output_type": "execute_result",
          "data": {
            "text/plain": [
              "'I eat 10 apples, so I sicks four days'"
            ],
            "application/vnd.google.colaboratory.intrinsic+json": {
              "type": "string"
            }
          },
          "metadata": {},
          "execution_count": 126
        }
      ]
    },
    {
      "cell_type": "code",
      "source": [
        "\"I eat {0} apples, so I sicks {day} days\".format(number,day = \"four\")"
      ],
      "metadata": {
        "colab": {
          "base_uri": "https://localhost:8080/",
          "height": 35
        },
        "id": "ozY7dsxF_NZd",
        "outputId": "a7eb404e-4790-403f-9d95-dfb4636ef6ad"
      },
      "execution_count": 127,
      "outputs": [
        {
          "output_type": "execute_result",
          "data": {
            "text/plain": [
              "'I eat 5 apples, so I sicks four days'"
            ],
            "application/vnd.google.colaboratory.intrinsic+json": {
              "type": "string"
            }
          },
          "metadata": {},
          "execution_count": 127
        }
      ]
    },
    {
      "cell_type": "code",
      "source": [
        "print(\"MBC AI {0:<10} PYTHON\".format(\"hi\"))#왼쪽\n",
        "print(\"MBC AI {0:>10} PYTHON\".format(\"hi\"))#오른쪽\n",
        "print(\"MBC AI {0:^10} PYTHON\".format(\"hi\"))#가운데\n",
        "\n",
        "#빈부분채우기\n",
        "print(\"MBC AI {0:=^10} PYTHON\".format(\"hi\"))\n",
        "print(\"MBC AI {0:?<10} PYTHON\".format(\"hi\"))"
      ],
      "metadata": {
        "colab": {
          "base_uri": "https://localhost:8080/"
        },
        "id": "W6IebIUA_fpR",
        "outputId": "39b32750-0e65-4cb2-98d6-5e10c21149aa"
      },
      "execution_count": 142,
      "outputs": [
        {
          "output_type": "stream",
          "name": "stdout",
          "text": [
            "MBC AI hi         PYTHON\n",
            "MBC AI         hi PYTHON\n",
            "MBC AI     hi     PYTHON\n",
            "MBC AI ====hi==== PYTHON\n",
            "MBC AI hi???????? PYTHON\n"
          ]
        }
      ]
    },
    {
      "cell_type": "code",
      "source": [
        "#소수점 표현\n",
        "y=98.456852736\n",
        "\"{0:10.4f}\".format(y) #n+1자리에서 반올림 / 총자리수 : 10"
      ],
      "metadata": {
        "colab": {
          "base_uri": "https://localhost:8080/",
          "height": 35
        },
        "id": "rj8dfxcVMLPO",
        "outputId": "f0075b54-778f-4b4d-ee3c-871c2a938ed6"
      },
      "execution_count": 141,
      "outputs": [
        {
          "output_type": "execute_result",
          "data": {
            "text/plain": [
              "'   98.4569'"
            ],
            "application/vnd.google.colaboratory.intrinsic+json": {
              "type": "string"
            }
          },
          "metadata": {},
          "execution_count": 141
        }
      ]
    },
    {
      "cell_type": "code",
      "source": [
        "#{ 문자 }형태 출력\n",
        "\"{{ 문자 }}\".format()\n",
        "#예약기호를 두번 연속 입력시 문자형태로 출력"
      ],
      "metadata": {
        "colab": {
          "base_uri": "https://localhost:8080/",
          "height": 35
        },
        "id": "kh65YpyXMt1_",
        "outputId": "ad94052e-d3f4-4867-e12f-49468f8e429d"
      },
      "execution_count": 145,
      "outputs": [
        {
          "output_type": "execute_result",
          "data": {
            "text/plain": [
              "'{ 문자 }'"
            ],
            "application/vnd.google.colaboratory.intrinsic+json": {
              "type": "string"
            }
          },
          "metadata": {},
          "execution_count": 145
        }
      ]
    },
    {
      "cell_type": "markdown",
      "source": [
        "### 접두사 f"
      ],
      "metadata": {
        "id": "-R4uwQDjSOrl"
      }
    },
    {
      "cell_type": "markdown",
      "source": [
        "파이썬 3.6이상 버전 최신 포멧팅\n",
        "\n",
        ".format()메서드 사용x인 기법\n",
        "=> 접두사로 f를 입력"
      ],
      "metadata": {
        "id": "GexdY3pcNeKi"
      }
    },
    {
      "cell_type": "code",
      "source": [
        "name = \"김기원\"\n",
        "age = 42\n",
        "f\"my name is {name}. my age is {age+5}\" #연산이 가능 / '', \"\" 가능\n",
        "\n",
        "#\"\"\"의 이용 가능\n",
        "text = f\"\"\"my name is {name}.\n",
        "my age is {age+5}\"\"\"\n",
        "print(text)"
      ],
      "metadata": {
        "colab": {
          "base_uri": "https://localhost:8080/"
        },
        "id": "8xjbbeJfNhz8",
        "outputId": "1895b867-0ac8-4191-eec9-f51807b40123"
      },
      "execution_count": 152,
      "outputs": [
        {
          "output_type": "stream",
          "name": "stdout",
          "text": [
            "my name is 김기원.\n",
            "my age is 47\n"
          ]
        }
      ]
    },
    {
      "cell_type": "code",
      "source": [
        "#딕셔너리를 활용한 포멧핑 (key : value로 이루어진 객체)\n",
        "d = {'name':'김기원', 'age':42}\n",
        "f'my name is {d[\"name\"]}. my age is {d[\"age\"]}' #변수[key명칭]"
      ],
      "metadata": {
        "colab": {
          "base_uri": "https://localhost:8080/",
          "height": 35
        },
        "id": "UYK_HOvZO8SW",
        "outputId": "90b3dbdd-8af8-4bb1-e2c7-137a8936350f"
      },
      "execution_count": 155,
      "outputs": [
        {
          "output_type": "execute_result",
          "data": {
            "text/plain": [
              "'my name is 김기원. my age is 42'"
            ],
            "application/vnd.google.colaboratory.intrinsic+json": {
              "type": "string"
            }
          },
          "metadata": {},
          "execution_count": 155
        }
      ]
    },
    {
      "cell_type": "code",
      "source": [
        "f'{\"hi\":=^10}' #format의 정렬과 동일"
      ],
      "metadata": {
        "colab": {
          "base_uri": "https://localhost:8080/",
          "height": 35
        },
        "id": "f5FnNjBGQDYy",
        "outputId": "dfbcdda8-5abe-4093-fb3a-b8683327a5bd"
      },
      "execution_count": 159,
      "outputs": [
        {
          "output_type": "execute_result",
          "data": {
            "text/plain": [
              "'====hi===='"
            ],
            "application/vnd.google.colaboratory.intrinsic+json": {
              "type": "string"
            }
          },
          "metadata": {},
          "execution_count": 159
        }
      ]
    },
    {
      "cell_type": "code",
      "source": [
        "y=3.14532648\n",
        "f'{y:_>10.4f}'"
      ],
      "metadata": {
        "colab": {
          "base_uri": "https://localhost:8080/",
          "height": 35
        },
        "id": "RKfPB86nQ_uN",
        "outputId": "a596973d-aa63-4a84-82ad-f219efee4b28"
      },
      "execution_count": 167,
      "outputs": [
        {
          "output_type": "execute_result",
          "data": {
            "text/plain": [
              "'____3.1453'"
            ],
            "application/vnd.google.colaboratory.intrinsic+json": {
              "type": "string"
            }
          },
          "metadata": {},
          "execution_count": 167
        }
      ]
    },
    {
      "cell_type": "code",
      "source": [
        "# { 문자 }로 출력\n",
        "f'{{ 문자 }}'"
      ],
      "metadata": {
        "colab": {
          "base_uri": "https://localhost:8080/",
          "height": 35
        },
        "id": "2Ua0O8tYRl6f",
        "outputId": "d0946e46-22b6-4b90-a337-a2e0640ed22c"
      },
      "execution_count": 168,
      "outputs": [
        {
          "output_type": "execute_result",
          "data": {
            "text/plain": [
              "'{ 문자 }'"
            ],
            "application/vnd.google.colaboratory.intrinsic+json": {
              "type": "string"
            }
          },
          "metadata": {},
          "execution_count": 168
        }
      ]
    }
  ]
}
