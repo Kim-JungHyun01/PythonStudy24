{
  "nbformat": 4,
  "nbformat_minor": 0,
  "metadata": {
    "colab": {
      "provenance": [],
      "authorship_tag": "ABX9TyN1xIm6HTJqPs9GhMEAaCLk",
      "include_colab_link": true
    },
    "kernelspec": {
      "name": "python3",
      "display_name": "Python 3"
    },
    "language_info": {
      "name": "python"
    }
  },
  "cells": [
    {
      "cell_type": "markdown",
      "metadata": {
        "id": "view-in-github",
        "colab_type": "text"
      },
      "source": [
        "<a href=\"https://colab.research.google.com/github/Kim-JungHyun01/PythonStudy24/blob/master/%EC%9D%B4%EB%A1%A0%EA%B3%BC%EC%A0%95/FileRead.ipynb\" target=\"_parent\"><img src=\"https://colab.research.google.com/assets/colab-badge.svg\" alt=\"Open In Colab\"/></a>"
      ]
    },
    {
      "cell_type": "markdown",
      "source": [
        "# 파이썬 기초학습 4일차 2024.12.23"
      ],
      "metadata": {
        "id": "OxUDW27oj6Iz"
      }
    },
    {
      "cell_type": "markdown",
      "source": [
        "파일 읽고 쓰기\n",
        "- 형태 : 파일 객체 = open(파일이름, 파일열기모드)\n",
        "- 파일 이름 : 경로를 같이 넣기 ex) C:/doit/새파일.txt\n",
        "- 엑셀파일 : .csv (엑셀에서 표에 있는 값을 텍스트로 저장하는 다른 이름으로 저장 기법)\n",
        "\n",
        "- 파일 열기 모드(파일 권한 부여)\n",
        "    - r(read) : 읽기모드\n",
        "    - w(write) : 쓰기모드 : 내용존재시 전의 내용 사라짐(덮어쓰기)\n",
        "    - a(append) : 추가모드(파일 마지막에 새로운 내용 추가)\n",
        "\n",
        "- 코랩으로 실습진행 : 구글에서 제공하는 vm을 사용\n",
        "    \n",
        "    => 리눅스 커널로 되어 있어 content 디렉토리에 저장\n",
        "    \n",
        "    => c:\\으로 되어 있는 것은 원도우 커널로 파이참에서 실습"
      ],
      "metadata": {
        "id": "ZnDzm8QXkGbf"
      }
    },
    {
      "cell_type": "markdown",
      "source": [
        "파일 경로와 슬래시(/)\n",
        "- 형태1 : C:/doit/새파일.txt\n",
        "- 형태2 : C:\\\\\\\\doit\\\\\\\\새파일.txt (역슬래시 : 2개_원화표시일때도 있음)\n",
        "- 형태2 : r\"C:\\doit\\새파일.txt\" (역슬래시 1개 이용시, r쓰기)"
      ],
      "metadata": {
        "id": "U92O6G5mpcpE"
      }
    },
    {
      "cell_type": "markdown",
      "source": [
        "필요 메서드\n",
        "- open() : 파일을 연다.\n",
        "- close() : 연 파일을 닫는다.**(중요!!!)**"
      ],
      "metadata": {
        "id": "CCH796D0VrQe"
      }
    },
    {
      "cell_type": "markdown",
      "source": [
        "## 파일 생성"
      ],
      "metadata": {
        "id": "ntXKKCGHofkD"
      }
    },
    {
      "cell_type": "code",
      "source": [
        "# 파일 쓰기 순서(생성)\n",
        "f = open(\"새파일.txt\", \"w\")\n",
        "for i in range(1, 11):\n",
        "    data = \"%d번째 줄입니다.\\n\" % i\n",
        "    f.write(data) # data 파일에 기록\n",
        "#파일 닫기_중요!!\n",
        "f.close()"
      ],
      "metadata": {
        "id": "iIc8Vga2kle7"
      },
      "execution_count": 19,
      "outputs": []
    },
    {
      "cell_type": "markdown",
      "source": [
        "결과\n",
        "\n",
        "1번째 줄입니다.\n",
        "\n",
        "2번째 줄입니다.\n",
        "\n",
        "3번째 줄입니다.\n",
        "\n",
        "4번째 줄입니다.\n",
        "\n",
        "5번째 줄입니다.\n",
        "\n",
        "6번째 줄입니다.\n",
        "\n",
        "7번째 줄입니다.\n",
        "\n",
        "8번째 줄입니다.\n",
        "\n",
        "9번째 줄입니다.\n",
        "\n",
        "10번째 줄입니다."
      ],
      "metadata": {
        "id": "drJhKHENmh0w"
      }
    },
    {
      "cell_type": "markdown",
      "source": [
        "### with"
      ],
      "metadata": {
        "id": "k0uT70Q5qHig"
      }
    },
    {
      "cell_type": "code",
      "source": [
        "#일반(open(), close()를 항상해야함)\n",
        "f = open(\"foo.txt\", 'w')\n",
        "f.write(\"Life is too short, you need python\")\n",
        "f.close()\n",
        "\n",
        "#f.close를 제외가능 => wirte 안의 내용이 끝나면 자동으로 닫힘\n",
        "with open(\"foo.txt\", \"w\") as f:\n",
        "    f.write(\"Life is too short, you need python\")"
      ],
      "metadata": {
        "id": "IcQfwE8uqJYk"
      },
      "execution_count": null,
      "outputs": []
    },
    {
      "cell_type": "markdown",
      "source": [
        "## 파일 읽기"
      ],
      "metadata": {
        "id": "HV7Vxd29obk9"
      }
    },
    {
      "cell_type": "code",
      "source": [
        "#파일 읽기_1(한줄만 읽기)\n",
        "# 파일 경로 및 파일 확장자 확인\n",
        "f = open(\"새파일.txt\", 'r')\n",
        "line = f.readline() #한줄씩 읽기\n",
        "print(line, end=\"\")\n",
        "f.close()"
      ],
      "metadata": {
        "colab": {
          "base_uri": "https://localhost:8080/"
        },
        "id": "LLhuiyh0Y2Gm",
        "outputId": "8f8d7655-39f2-4fa3-8781-2803f1fe082d"
      },
      "execution_count": 14,
      "outputs": [
        {
          "output_type": "stream",
          "name": "stdout",
          "text": [
            "1번째 줄입니다.\n"
          ]
        }
      ]
    },
    {
      "cell_type": "markdown",
      "source": [
        "### end = \"\""
      ],
      "metadata": {
        "id": "TL6rN-V1a74B"
      }
    },
    {
      "cell_type": "code",
      "source": [
        "#파일 읽기_2(무한루프, break)\n",
        "f = open(\"새파일.txt\", 'r')\n",
        "while True:\n",
        "    #한줄씩 읽기\n",
        "    line = f.readline()\n",
        "    if not line: break # 마지막줄인지 확인후 중단\n",
        "    print(line, end=\"\")\n",
        "f.close()"
      ],
      "metadata": {
        "id": "ej3ibu04ncm-",
        "colab": {
          "base_uri": "https://localhost:8080/"
        },
        "outputId": "c59f1c37-13e0-4fcc-f8ec-22f6586a0628"
      },
      "execution_count": 12,
      "outputs": [
        {
          "output_type": "stream",
          "name": "stdout",
          "text": [
            "1번째 줄입니다.\n",
            "2번째 줄입니다.\n",
            "3번째 줄입니다.\n",
            "4번째 줄입니다.\n",
            "5번째 줄입니다.\n",
            "6번째 줄입니다.\n",
            "7번째 줄입니다.\n",
            "8번째 줄입니다.\n",
            "9번째 줄입니다.\n",
            "10번째 줄입니다.\n"
          ]
        }
      ]
    },
    {
      "cell_type": "markdown",
      "source": [
        "### strip()"
      ],
      "metadata": {
        "id": "qWTj9adBa4OP"
      }
    },
    {
      "cell_type": "code",
      "source": [
        "#for문 이용\n",
        "f = open(\"새파일.txt\", 'r')\n",
        "lines = f.readlines() #readlines : 리스트(+s) => 텍스트 문자열을 리스트로 변환\n",
        "for line in lines:\n",
        "    print(line.strip()) #.strip : 줄끝의 줄바꿈 문자(\\n) 제거\n",
        "f.close()"
      ],
      "metadata": {
        "id": "3OcTGdJpom74",
        "colab": {
          "base_uri": "https://localhost:8080/"
        },
        "outputId": "fd702491-3731-4cec-cefa-1fd02c75668c"
      },
      "execution_count": 15,
      "outputs": [
        {
          "output_type": "stream",
          "name": "stdout",
          "text": [
            "1번째 줄입니다.\n",
            "2번째 줄입니다.\n",
            "3번째 줄입니다.\n",
            "4번째 줄입니다.\n",
            "5번째 줄입니다.\n",
            "6번째 줄입니다.\n",
            "7번째 줄입니다.\n",
            "8번째 줄입니다.\n",
            "9번째 줄입니다.\n",
            "10번째 줄입니다.\n"
          ]
        }
      ]
    },
    {
      "cell_type": "markdown",
      "source": [
        "## read함수"
      ],
      "metadata": {
        "id": "9DXzKe9qoUvS"
      }
    },
    {
      "cell_type": "code",
      "source": [
        "# readline 대체용\n",
        "f = open(\"새파일.txt\", 'r')\n",
        "data = f.read() #텍스트 안에 있는 모든 것을 문자열로 가지고 오는 것\n",
        "print(data)\n",
        "f.close()"
      ],
      "metadata": {
        "id": "jP9lVkaEoXHY"
      },
      "execution_count": null,
      "outputs": []
    },
    {
      "cell_type": "markdown",
      "source": [
        "## 파일 내용 추가"
      ],
      "metadata": {
        "id": "gdjDpJSAor-N"
      }
    },
    {
      "cell_type": "code",
      "source": [
        "# 쓰기모드(w)는 덮여쓰기에 가까움 => 대체로 추가모드(a)를 이용\n",
        "# or 파일명을 다른 이름으로 저장해야함\n",
        "f = open(\"새파일.txt\",'a')\n",
        "for i in range(11,20):\n",
        "    data = \"%d번째 줄입니다.\\n\" % i\n",
        "    f.write(data)\n",
        "f.close()"
      ],
      "metadata": {
        "id": "cP-K-FBkotvR"
      },
      "execution_count": 21,
      "outputs": []
    },
    {
      "cell_type": "markdown",
      "source": [
        "결과\n",
        "\n",
        "1번째 줄입니다.\n",
        "\n",
        "...\n",
        "\n",
        "10번째 줄입니다.\n",
        "\n",
        "\n",
        "11번째 줄입니다.\n",
        "\n",
        "...\n",
        "\n",
        "19번째 줄입니다."
      ],
      "metadata": {
        "id": "9GPUaSdGo9x7"
      }
    },
    {
      "cell_type": "markdown",
      "source": [
        "## 입출력"
      ],
      "metadata": {
        "id": "ezsHyL19bWDb"
      }
    },
    {
      "cell_type": "code",
      "source": [
        "#입력한 것을 출력 => 무한 반복\n",
        "while True:\n",
        "    data = input()\n",
        "    if not data: break\n",
        "    print(data)"
      ],
      "metadata": {
        "id": "Qo5dcS6WoN7i"
      },
      "execution_count": null,
      "outputs": []
    }
  ]
}