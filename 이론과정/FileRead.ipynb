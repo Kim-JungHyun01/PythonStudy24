{
  "nbformat": 4,
  "nbformat_minor": 0,
  "metadata": {
    "colab": {
      "provenance": [],
      "authorship_tag": "ABX9TyMGJMDCIFe4IGJJopkfyybk",
      "include_colab_link": true
    },
    "kernelspec": {
      "name": "python3",
      "display_name": "Python 3"
    },
    "language_info": {
      "name": "python"
    }
  },
  "cells": [
    {
      "cell_type": "markdown",
      "metadata": {
        "id": "view-in-github",
        "colab_type": "text"
      },
      "source": [
        "<a href=\"https://colab.research.google.com/github/Kim-JungHyun01/PythonStudy24/blob/master/%EC%9D%B4%EB%A1%A0%EA%B3%BC%EC%A0%95/FileRead.ipynb\" target=\"_parent\"><img src=\"https://colab.research.google.com/assets/colab-badge.svg\" alt=\"Open In Colab\"/></a>"
      ]
    },
    {
      "cell_type": "markdown",
      "source": [
        "# 파이썬 기초학습 4일차 2024.12.23"
      ],
      "metadata": {
        "id": "OxUDW27oj6Iz"
      }
    },
    {
      "cell_type": "markdown",
      "source": [
        "파일 읽고 쓰기\n",
        "- 형태 : 파일 객체 = open(파일이름, 파일열기모드)\n",
        "- 파일 이름 : 경로를 같이 넣기 ex) C:/doit/새파일.txt\n",
        "\n",
        "- 파일 열기 모드\n",
        "    - r(read) : 읽기모드\n",
        "    - w(write) : 쓰기모드\n",
        "    - a(add) : 추가모드"
      ],
      "metadata": {
        "id": "ZnDzm8QXkGbf"
      }
    },
    {
      "cell_type": "markdown",
      "source": [
        "파일 경로와 슬래시(/)\n",
        "- 형태1 : C:/doit/새파일.txt\n",
        "- 형태2 : C:\\\\doit\\\\새파일.txt (역슬래시 : 2개_원화표시일때도 있음)\n",
        "- 형태2 : r\"C:\\doit\\새파일.txt\" (역슬래시 1개 이용시, r쓰기)"
      ],
      "metadata": {
        "id": "U92O6G5mpcpE"
      }
    },
    {
      "cell_type": "markdown",
      "source": [
        "## 파일 쓰기"
      ],
      "metadata": {
        "id": "ntXKKCGHofkD"
      }
    },
    {
      "cell_type": "code",
      "source": [
        "# 파일 쓰기 순서\n",
        "f = open(\"C:\\새파일.txt\", \"w\") # c드라이브의 경우 권한문제 유의\n",
        "for i in range(1, 11):\n",
        "    data = \"%d번째 줄입니다.\\n\" % i\n",
        "    f.write(data)\n",
        "#파일 닫기_중요!!\n",
        "f.close()"
      ],
      "metadata": {
        "id": "iIc8Vga2kle7"
      },
      "execution_count": 7,
      "outputs": []
    },
    {
      "cell_type": "markdown",
      "source": [
        "결과\n",
        "\n",
        "1번째 줄입니다.\n",
        "\n",
        "2번째 줄입니다.\n",
        "\n",
        "3번째 줄입니다.\n",
        "\n",
        "4번째 줄입니다.\n",
        "\n",
        "5번째 줄입니다.\n",
        "\n",
        "6번째 줄입니다.\n",
        "\n",
        "7번째 줄입니다.\n",
        "\n",
        "8번째 줄입니다.\n",
        "\n",
        "9번째 줄입니다.\n",
        "\n",
        "10번째 줄입니다."
      ],
      "metadata": {
        "id": "drJhKHENmh0w"
      }
    },
    {
      "cell_type": "markdown",
      "source": [
        "### with"
      ],
      "metadata": {
        "id": "k0uT70Q5qHig"
      }
    },
    {
      "cell_type": "code",
      "source": [
        "#일반\n",
        "f = open(\"foo.txt\", 'w')\n",
        "f.write(\"Life is too short, you need python\")\n",
        "f.close()\n",
        "\n",
        "#f.close를 제외할 수 있는 것 => wirte 안의 내용이 끝나면 자동으로 닫힘\n",
        "with open(\"foo.txt\", \"w\") as f:\n",
        "    f.write(\"Life is too short, you need python\")"
      ],
      "metadata": {
        "id": "IcQfwE8uqJYk"
      },
      "execution_count": null,
      "outputs": []
    },
    {
      "cell_type": "markdown",
      "source": [
        "## 파일 읽기"
      ],
      "metadata": {
        "id": "HV7Vxd29obk9"
      }
    },
    {
      "cell_type": "code",
      "source": [
        "#파일 읽기 순서\n",
        "# 파일 경로 및 파일 확장자 확인\n",
        "f = open(\"C:/Users/wjdugs842/Desktop/새파일.txt\", 'r')\n",
        "while True:\n",
        "    #한줄씩 읽기\n",
        "    line = f.readline()\n",
        "    if not line:\n",
        "        break\n",
        "    print(line)\n",
        "f.close()"
      ],
      "metadata": {
        "id": "ej3ibu04ncm-"
      },
      "execution_count": null,
      "outputs": []
    },
    {
      "cell_type": "code",
      "source": [
        "#for문 이용\n",
        "f = open(\"C:/Users/wjdugs842/Desktop/새파일.txt\", 'r')\n",
        "lines = f.readlines()\n",
        "for line in lines:\n",
        "    print(line)\n",
        "f.close()"
      ],
      "metadata": {
        "id": "3OcTGdJpom74"
      },
      "execution_count": null,
      "outputs": []
    },
    {
      "cell_type": "markdown",
      "source": [
        "## read함수"
      ],
      "metadata": {
        "id": "9DXzKe9qoUvS"
      }
    },
    {
      "cell_type": "code",
      "source": [
        "# readline 대체용\n",
        "f = open(\"C:/doit/새파일.txt\", 'r')\n",
        "data = f.read()\n",
        "print(data)\n",
        "f.close()"
      ],
      "metadata": {
        "id": "jP9lVkaEoXHY"
      },
      "execution_count": null,
      "outputs": []
    },
    {
      "cell_type": "code",
      "source": [
        "#입력한 것을 출력 => 무한 반복\n",
        "while True:\n",
        "    data = input()\n",
        "    if not data: break\n",
        "    print(data)"
      ],
      "metadata": {
        "id": "Qo5dcS6WoN7i"
      },
      "execution_count": null,
      "outputs": []
    },
    {
      "cell_type": "markdown",
      "source": [
        "## 파일 내용 추가"
      ],
      "metadata": {
        "id": "gdjDpJSAor-N"
      }
    },
    {
      "cell_type": "code",
      "source": [
        "# 쓰기모드(w)는 덮여쓰기에 가까움 => 대체로 추가모드(a)를 이용\n",
        "f = open(\"C:/Users/wjdugs842/Desktop/새파일.txt\",'a')\n",
        "for i in range(11, 20):\n",
        "    data = \"%d번째 줄입니다.\\n\" % i\n",
        "    f.write(data)\n",
        "f.close()"
      ],
      "metadata": {
        "id": "cP-K-FBkotvR"
      },
      "execution_count": null,
      "outputs": []
    },
    {
      "cell_type": "markdown",
      "source": [
        "결과\n",
        "\n",
        "1번째 줄입니다.\n",
        "\n",
        "...\n",
        "\n",
        "10번째 줄입니다.\n",
        "\n",
        "...\n",
        "\n",
        "19번째 줄입니다."
      ],
      "metadata": {
        "id": "9GPUaSdGo9x7"
      }
    }
  ]
}