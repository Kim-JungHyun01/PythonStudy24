{
  "nbformat": 4,
  "nbformat_minor": 0,
  "metadata": {
    "colab": {
      "provenance": [],
      "toc_visible": true,
      "authorship_tag": "ABX9TyOiFYSvDqZrH5D74p7u4cCe",
      "include_colab_link": true
    },
    "kernelspec": {
      "name": "python3",
      "display_name": "Python 3"
    },
    "language_info": {
      "name": "python"
    }
  },
  "cells": [
    {
      "cell_type": "markdown",
      "metadata": {
        "id": "view-in-github",
        "colab_type": "text"
      },
      "source": [
        "<a href=\"https://colab.research.google.com/github/Kim-JungHyun01/PythonStudy24/blob/master/%EC%9D%B4%EB%A1%A0%EA%B3%BC%EC%A0%95/ControlStudy.ipynb\" target=\"_parent\"><img src=\"https://colab.research.google.com/assets/colab-badge.svg\" alt=\"Open In Colab\"/></a>"
      ]
    },
    {
      "cell_type": "markdown",
      "source": [
        "# 파이썬 기초학습 3일차 2024.12.20"
      ],
      "metadata": {
        "id": "-xAZpxfqcAFg"
      }
    },
    {
      "cell_type": "markdown",
      "source": [
        "프로그램 판단 조건문\n",
        "- if : 만약에 / 결과 : 참(Ture), False(거짓)\n",
        "- while, for : 문장을 반복해서 수행할 경우 / while : max 지정x, for : max 지정o"
      ],
      "metadata": {
        "id": "zdCaBdcefP4w"
      }
    },
    {
      "cell_type": "markdown",
      "source": [
        "## If문"
      ],
      "metadata": {
        "id": "jyywMnbioMcv"
      }
    },
    {
      "cell_type": "code",
      "source": [
        "#파이썬은 중괄호{}가 없기에 콜론(:)로 구문을 내림\n",
        "#하위처리 : 띄어쓰기 4번\n",
        "\n",
        "#돈이 있으면 택시를 타고, 돈이 없으면 걸어감\n",
        "money = False\n",
        "if money:\n",
        "    print(\"택시를 탄다.\")\n",
        "    print(\"모범택시는 비싸니 다음 택시를 기다린다.\")\n",
        "    print(\"택시가 안보이면 카카오택시를 이용한다.\")\n",
        "else:\n",
        "    print(\"==============\")\n",
        "    print(\"걸어간다.\")\n",
        "    print(\"==============\")\n",
        "\n",
        "# 공백, tab은 통일해서 사용할 것(혼용x)"
      ],
      "metadata": {
        "colab": {
          "base_uri": "https://localhost:8080/"
        },
        "id": "MnLc7aLytNQU",
        "outputId": "e8428d42-029c-4748-8d36-c35fedd32a62"
      },
      "execution_count": null,
      "outputs": [
        {
          "output_type": "stream",
          "name": "stdout",
          "text": [
            "==============\n",
            "걸어간다.\n",
            "==============\n"
          ]
        }
      ]
    },
    {
      "cell_type": "code",
      "source": [
        "# 형태_if 조건문:\n",
        "\n",
        "# 만약 3000원 이상의 돈을 가지고 있으면 택시를 타고 가고, 그렇지 않으면 걸어가라.\n",
        "money = 6000\n",
        "if money >= 3000:\n",
        "    print(\"택시를 탄다\")\n",
        "else:\n",
        "    print(\"걸어간다.\")"
      ],
      "metadata": {
        "colab": {
          "base_uri": "https://localhost:8080/"
        },
        "id": "OnQt0QJtuWmY",
        "outputId": "1e712260-0e8c-4b2c-f3ba-4f9757d303e3"
      },
      "execution_count": null,
      "outputs": [
        {
          "output_type": "stream",
          "name": "stdout",
          "text": [
            "택시를 탄다\n"
          ]
        }
      ]
    },
    {
      "cell_type": "markdown",
      "source": [
        "### or, and, not"
      ],
      "metadata": {
        "id": "WwoEI4uAy_xL"
      }
    },
    {
      "cell_type": "code",
      "source": [
        "# x or y -> 또는 : 둘중 하나만 참(True)이여도 참(True)\n",
        "# x and y -> 이고 : 둘다 참(True)이여야 참(True)\n",
        "# not x -> x가 아니면 참 : 반전\n",
        "\n",
        "# 돈이 3000원 이상있거나, 카드가 있다면 택시를 타고, 아니면 걸어가라\n",
        "money = 2000\n",
        "card = True\n",
        "if money >= 3000 or card:\n",
        "    print(\"택시를 탄다.\")\n",
        "else:\n",
        "    print(\"걸어간다.\")\n",
        "\n",
        "#or 연산 진리표(0 : False, 1 : True)\n",
        "#money  card  결과\n",
        "#  0     0     0\n",
        "#  0     1     1\n",
        "#  1     0     1\n",
        "#  1     1     1"
      ],
      "metadata": {
        "colab": {
          "base_uri": "https://localhost:8080/"
        },
        "id": "rYLvp5mxwa1-",
        "outputId": "16030820-0a26-47a3-caee-02c7cd0596a8"
      },
      "execution_count": null,
      "outputs": [
        {
          "output_type": "stream",
          "name": "stdout",
          "text": [
            "택시를 탄다.\n"
          ]
        }
      ]
    },
    {
      "cell_type": "markdown",
      "source": [
        "### in, not in"
      ],
      "metadata": {
        "id": "MAgUl0wlzFiB"
      }
    },
    {
      "cell_type": "code",
      "source": [
        "# in, not in\n",
        "# x in 리스트, x not in 리스트\n",
        "# x in 튜블,   x not in 튜블\n",
        "# x in 문자열, x not in 문자열\n",
        "\n",
        "print(1 not in [1, 2, 3])     #리스트\n",
        "print('a' in ('a', 'b', 'c')) #튜블\n",
        "print('P' not in \"python\")    #문자열(대소문자구분)"
      ],
      "metadata": {
        "colab": {
          "base_uri": "https://localhost:8080/"
        },
        "id": "mUeO1t1gx81A",
        "outputId": "5162c453-84f3-4c6a-d1aa-bb48755d4bb8"
      },
      "execution_count": null,
      "outputs": [
        {
          "output_type": "stream",
          "name": "stdout",
          "text": [
            "False\n",
            "True\n",
            "True\n"
          ]
        }
      ]
    },
    {
      "cell_type": "code",
      "source": [
        "#만약에 주머니에 돈이 있으면 택시를 타고가고, 없으면 걸어가라\n",
        "pocket = [\"money\", \"card\", \"cellphone\"]\n",
        "if \"money\" in pocket:\n",
        "    print(\"택시를 탄다\")\n",
        "else:\n",
        "    print(\"걸어간다.\")"
      ],
      "metadata": {
        "colab": {
          "base_uri": "https://localhost:8080/"
        },
        "id": "_D2ixfiDznw5",
        "outputId": "5d3f819a-0c39-4574-db28-fcee961df3b8"
      },
      "execution_count": null,
      "outputs": [
        {
          "output_type": "stream",
          "name": "stdout",
          "text": [
            "택시를 탄다\n"
          ]
        }
      ]
    },
    {
      "cell_type": "code",
      "source": [
        "# 조건물에서 아무일도 하지 않게 설정할 때 : pass\n",
        "# 참, 거짓에 따라 실행할 행동을 정의할 때나 아무런 일도 하지 않도록 설정할 때\n",
        "\n",
        "#주머니에 돈이 있으면 가만히 있고, 없으면 카드를 꺼내라\n",
        "pocket = [\"cellphone\", \"money\", \"card\"]\n",
        "if \"money\" in pocket:\n",
        "    pass\n",
        "else:\n",
        "    print(\"카드를 꺼낸다.\")"
      ],
      "metadata": {
        "id": "0UZVfxon7Xxx"
      },
      "execution_count": null,
      "outputs": []
    },
    {
      "cell_type": "markdown",
      "source": [
        "### elif"
      ],
      "metadata": {
        "id": "rvvK-mUl7pBO"
      }
    },
    {
      "cell_type": "code",
      "source": [
        "#elif : 사용횟수가 무제한, if문 아래쪽에 조건문이 더 필요할때\n",
        "\n",
        "#주머니에 돈이 있으면 택시를 타고가고,\n",
        "#돈은 없지만 카드가 있으면 택시를 타고,\n",
        "#돈도 없고, 카드도 없으면 걸어가라.\n",
        "pocket = [\"money\", \"card\", \"cellphone\"]\n",
        "if \"money\" in pocket:\n",
        "    print(\"택시를 탄다\")\n",
        "elif \"card\" in pocket:\n",
        "    print(\"택시를 탄다.\")\n",
        "else:\n",
        "    print(\"걸어간다.\")"
      ],
      "metadata": {
        "colab": {
          "base_uri": "https://localhost:8080/"
        },
        "id": "8WtY8z3Q8O23",
        "outputId": "06c008b6-6f99-4314-e628-020ebaa0171c"
      },
      "execution_count": null,
      "outputs": [
        {
          "output_type": "stream",
          "name": "stdout",
          "text": [
            "택시를 탄다.\n"
          ]
        }
      ]
    },
    {
      "cell_type": "code",
      "source": [
        "#패션코딩 : 최대한 간결하게 코딩하는 기법\n",
        "pocket = [\"money\",\"card\", \"cellphone\"]\n",
        "if \"money\" in pocket or \"card\" in pocket: print(\"택시를 탄다\")\n",
        "else: print(\"걸어간다.\")"
      ],
      "metadata": {
        "colab": {
          "base_uri": "https://localhost:8080/"
        },
        "id": "sMGv-kJy-65u",
        "outputId": "2b35146e-cc18-48f2-a578-7625c40d3897"
      },
      "execution_count": null,
      "outputs": [
        {
          "output_type": "stream",
          "name": "stdout",
          "text": [
            "택시를 탄다\n"
          ]
        }
      ]
    },
    {
      "cell_type": "code",
      "source": [
        "#시험점수가 60이상이면 sucess, 아니면 failure를 변수에 변수에 담아 출력\n",
        "score = 60\n",
        "if score >= 60:\n",
        "    result = \"sucess\"\n",
        "else:\n",
        "    result = \"failure\"\n",
        "print(result)\n",
        "\n",
        "#패션코딩\n",
        "#파이썬 조건부 표현식\n",
        "#형태 : 변수 = 참인경우값 if 조건문 else 거짓인경우값\n",
        "result = \"sucess\" if score >= 60 else \"failure\"\n",
        "print(result)"
      ],
      "metadata": {
        "colab": {
          "base_uri": "https://localhost:8080/"
        },
        "id": "j-iH4b3R_VCq",
        "outputId": "4181a6c1-00e7-418e-d035-cb16bb46ca75"
      },
      "execution_count": null,
      "outputs": [
        {
          "output_type": "stream",
          "name": "stdout",
          "text": [
            "sucess\n",
            "sucess\n"
          ]
        }
      ]
    },
    {
      "cell_type": "markdown",
      "source": [
        "### 예제"
      ],
      "metadata": {
        "id": "QL9DRp0ve_9L"
      }
    },
    {
      "cell_type": "code",
      "source": [
        "#예제\n",
        "#성적처리용 코드 작성\n",
        "#A~F등급까지 출력\n",
        "def score_check(score):\n",
        "    # .isfigit() : 문자열이 숫자로면 이루어져 있는지\n",
        "    if not score.isdigit():\n",
        "        return False\n",
        "    else:\n",
        "        #score은 여전히 str이기에 새로 변수 생성\n",
        "        score_input = int(score)\n",
        "        if score_input > 100 or score_input < 0: return False\n",
        "        else: return True\n",
        "\n",
        "kscore = input(\"국어 점수를 입력하세요 : \")\n",
        "check1 = score_check(kscore)\n",
        "\n",
        "mscore = input(\"수학 점수를 입력하세요 : \")\n",
        "check2 = score_check(mscore)\n",
        "\n",
        "escore = input(\"영어 점수를 입력하세요 : \")\n",
        "check3 = score_check(escore)\n",
        "#\n",
        "\n",
        "check = check1 and check2 and check3\n",
        "#print(check)\n",
        "\n",
        "if check:\n",
        "    avg = (int(kscore) + int(mscore) + int(escore)) / 3\n",
        "    if avg >=90: result = 'A'\n",
        "    elif avg >= 80: result = 'B'\n",
        "    elif avg >= 70: result = 'C'\n",
        "    elif avg >= 60: result = 'D'\n",
        "    else: result = 'F'\n",
        "    print(f'평균 : %.2f, 등급 : %s' % (avg, result))\n",
        "else:\n",
        "    print(\"점수를 다시 입력하세요.\")"
      ],
      "metadata": {
        "colab": {
          "base_uri": "https://localhost:8080/"
        },
        "id": "ZG8BALVlAPq8",
        "outputId": "8f053af3-3c44-4a5f-df7d-299982d240e8"
      },
      "execution_count": null,
      "outputs": [
        {
          "output_type": "stream",
          "name": "stdout",
          "text": [
            "국어 점수를 입력하세요 : 78\n",
            "수학 점수를 입력하세요 : 65\n",
            "영어 점수를 입력하세요 : 12\n",
            "평균 : 51.67, 등급 : F\n"
          ]
        }
      ]
    },
    {
      "cell_type": "markdown",
      "source": [
        "## while문"
      ],
      "metadata": {
        "id": "697vyOJdfFxl"
      }
    },
    {
      "cell_type": "markdown",
      "source": [
        "문장을 반복해서 수행해야할 경우 활용 => 반복문\n",
        "\n",
        "여러 데이터를 처리해야할 경우\n",
        "\n",
        "if문 : 1명의 데이터를 처리하지만, 입력을 이용하여 큰 프로그램제작 가능\n",
        "\n",
        "while문 : max가 없는 경우\n",
        "\n",
        "for문 : max가 있는 경우\n",
        "\n",
        "java에서는 {}으로 실행문의 블럭을 만들지만 파이썬은 들여쓰기로 판단"
      ],
      "metadata": {
        "id": "S_Sn3601fZhd"
      }
    },
    {
      "cell_type": "markdown",
      "source": [
        "### 예제1"
      ],
      "metadata": {
        "id": "8FE2rAMMUb0X"
      }
    },
    {
      "cell_type": "code",
      "source": [
        "# 열번찍어 안넘어가는 나무 없다.\n",
        "treehit = 0\n",
        "while treehit <10: #10번을 찍기 전까지 반복\n",
        "    treehit += 1\n",
        "    print(\"나무를 %d번 찍음\" % treehit)\n",
        "    if treehit == 10:\n",
        "        print(\"나무가 쓰러짐\")\n",
        "    # else:\n",
        "    #     print(\"아직 안쓰러짐\")"
      ],
      "metadata": {
        "colab": {
          "base_uri": "https://localhost:8080/"
        },
        "id": "we8kmS2XgyCx",
        "outputId": "e2cfcce7-b137-4cac-83fa-e38e721260d6"
      },
      "execution_count": null,
      "outputs": [
        {
          "output_type": "stream",
          "name": "stdout",
          "text": [
            "나무를 1번 찍음\n",
            "나무를 2번 찍음\n",
            "나무를 3번 찍음\n",
            "나무를 4번 찍음\n",
            "나무를 5번 찍음\n",
            "나무를 6번 찍음\n",
            "나무를 7번 찍음\n",
            "나무를 8번 찍음\n",
            "나무를 9번 찍음\n",
            "나무를 10번 찍음\n",
            "나무가 쓰러짐\n"
          ]
        }
      ]
    },
    {
      "cell_type": "markdown",
      "source": [
        "### 예제1"
      ],
      "metadata": {
        "id": "C5I5i2B8FaC0"
      }
    },
    {
      "cell_type": "code",
      "source": [
        "# 콘솔에서 프로그램 만들어보기\n",
        "prompt = \"\"\"\n",
        "1. 학생가입\n",
        "2. 성적입력\n",
        "3. 성적출력\n",
        "4. Quit\n",
        "\"\"\"\n",
        "number = 0\n",
        "while number != 4:\n",
        "    print(prompt)\n",
        "    number = int(input(\"Enter number : \"))\n",
        "    if number == 1:\n",
        "        print(\"학생가입\")\n",
        "    elif number == 2:\n",
        "        print(\"성적입력\")\n",
        "    elif number == 3:\n",
        "        print(\"성적출력\")\n",
        "    elif number != 4: # 입력을 받고 if문을 처리하기에 else는 x\n",
        "        print(\"잘못된 번호입니다.\")\n",
        "print(\"프로그램 종료\")"
      ],
      "metadata": {
        "id": "Y6sF72PAihRB"
      },
      "execution_count": null,
      "outputs": []
    },
    {
      "cell_type": "markdown",
      "source": [
        "### 예제2"
      ],
      "metadata": {
        "id": "MJ8QfOpFDCax"
      }
    },
    {
      "cell_type": "code",
      "source": [
        "# 초기값\n",
        "coffee = [[\"아메리카노\",60,60],[\"카페라떼\", 50, 400]] #커피명/ 갯수/ 가격\n",
        "money = 0           #투입된 금액\n",
        "result = [[\"카드\"],[\"현금\"]] #판매실적 : 커피명, 갯수, 금액, 결제수단\n",
        "\n",
        "# 손님용_결제수단\n",
        "payment_menu = \"\"\"\n",
        "---------------------결제수단-----------------------\n",
        "                 1. 카드 2. 현금\n",
        "----------------------------------------------------\n",
        "\"\"\"\n",
        "\n",
        "#관리자모드 :  < 100\n",
        "admin_menu = \"\"\"\n",
        "-----------------관리자 모드------------------------\n",
        "                101. 메뉴추가\n",
        "                102. 메뉴수정\n",
        "                103. 판매관리\n",
        "                999. 프로그램종료\n",
        "----------------------------------------------------\n",
        "\"\"\"\n",
        "\n",
        "#커피메뉴출력\n",
        "def print_coffee(list, input_menu=None):\n",
        "    print(f'{\"메뉴\":-^50}')\n",
        "\n",
        "     #특정 메뉴만 출력\n",
        "    if input_menu is not None:\n",
        "       print(\"%d. 커피 명 : %s | 갯수 : %d개 | 가격 : %d원\" % (input_menu, coffee[input_menu-1][0], coffee[input_menu-1][1], coffee[input_menu-1][2]))\n",
        "\n",
        "    #전체메뉴 출력\n",
        "    else:\n",
        "        for count in range(len(list)):\n",
        "            print(\"%d. 커피 명 : %s | 갯수 : %d개 | 가격 : %d원\" % (count+1, list[count][0], list[count][1], list[count][2]))\n",
        "    print(f'{\"\":-^52}')\n",
        "\n",
        "# 거스름돈 계산\n",
        "def output_money(money):\n",
        "    print(\"거스름돈은 총 %d원입니다.\" % money)\n",
        "    money_list = [500, 100, 50, 10]\n",
        "    for i in money_list:\n",
        "        if money // i != 0:\n",
        "            print(\"%d원 : %d개\" % (i, money // i))\n",
        "        money %= i\n",
        "\n",
        "#판매실적계산\n",
        "def pay_result(list):\n",
        "    #판매실적 딕셔너리\n",
        "    salas_summary = {\"카드\" : {}, \"현금\" : {}}\n",
        "\n",
        "    #수단, * : unpacking 기능\n",
        "    for payment_method, *sales in result:\n",
        "        for coffee_name, quantity, amount in sales:\n",
        "\n",
        "            #커피명이 없을 시 초기화\n",
        "            if coffee_name not in salas_summary[payment_method]:\n",
        "                salas_summary[payment_method][coffee_name] = [0, 0]\n",
        "\n",
        "            #판매갯수 와 금액 합산\n",
        "            salas_summary[payment_method][coffee_name][0] += quantity\n",
        "            salas_summary[payment_method][coffee_name][1] += amount\n",
        "\n",
        "    #판매실적 출력\n",
        "    for payment_method, sales in salas_summary.items():\n",
        "        print(f\"{payment_method} 판매실적\")\n",
        "        for coffee_name, (quantity, amount) in sales.items():\n",
        "            print(f\"커피명 : {coffee_name} | 총판매갯수 :  {quantity} | 총판매액 {amount}원\")\n",
        "\n",
        "#관리자 모드\n",
        "def admin_mode(input_menu):\n",
        "    while True:\n",
        "        admin_check = [\"admin\", 12345] #관리자 id, 비번\n",
        "        update_menu = [None, None, None] #추가, 수정할 메뉴명, 갯수, 가격\n",
        "\n",
        "        print(\"관리자 모드를 실행합니다.\")\n",
        "        print(f'{\"\":-^52}')\n",
        "\n",
        "        input_id = input(\"관리자 모드 ID입력 : \")\n",
        "        input_pw = int(input(\"관리자 모드 PW입력 : \"))\n",
        "\n",
        "        if not (admin_check[0] == input_id and admin_check[1] == input_pw):\n",
        "            print(\"관리자 모드 ID 또는 비밀번호가 틀렸습니다.\")\n",
        "            continue\n",
        "\n",
        "        if input_menu != 999:\n",
        "            print(admin_menu)\n",
        "            input_menu = int(input(\"관리자 모드 입력 : \"))\n",
        "\n",
        "        #메뉴추가12\n",
        "        if input_menu == 101:\n",
        "            print(f'{\"메뉴추가\":-^50}')\n",
        "            update_menu[0] = input(\"추가할 커피명 : \")\n",
        "            update_menu[1] = input(\"추가할 커피갯수 : \")\n",
        "            update_menu[2] = input(\"추가할 커피가격 : \")\n",
        "            print_coffee(update_menu)\n",
        "            check = int(input(\"추가하시겠습니까?(1 : yes, 0 : no\"))\n",
        "            if check == 0:\n",
        "                print(\"추가가 취소되었습니다.\")\n",
        "                continue\n",
        "            coffee.append(update_menu)\n",
        "            print(\"추가가 완료되었습니다.\")\n",
        "            update_menu = [None, None, None] #초기화\n",
        "\n",
        "        #메뉴수정\n",
        "        elif input_menu == 102:\n",
        "            print(f'{\"메뉴수정\":-^50}')\n",
        "            print_coffee(coffee)\n",
        "            input_menu = int(input(\"수정할 메뉴번호 입력 : \"))\n",
        "            print_coffee(coffee, input_menu)\n",
        "            update_menu[0] = input(\"수정전 : %s => \" % coffee[input_menu - 1][0])\n",
        "            update_menu[1] = input(\"수정전 : %d => \" % coffee[input_menu - 1][1])\n",
        "            update_menu[2] = input(\"수정전 : %d => \" % coffee[input_menu - 1][2])\n",
        "\n",
        "        #수정 재확인\n",
        "            print_coffee(update_menu, input_menu)\n",
        "            check = int(input(\"수정하시겠습니까?(1 : yes, 0 : no) : \"))\n",
        "            if check == 0:\n",
        "                print(\"수정이 취소되었습니다.\")\n",
        "                continue\n",
        "\n",
        "            for i in range(len(coffee[input_menu-1])):\n",
        "                coffee[input_menu-1][i] = update_menu[i]\n",
        "            print(\"수정이 완료되었습니다.\")\n",
        "            update_menu = [None, None, None] #초기화\n",
        "\n",
        "        #판매실적\n",
        "        elif input_menu == 103:\n",
        "            print(f'{\"판매실적\":-^50}')\n",
        "            pay_result(result)\n",
        "\n",
        "        # 프로그램 종료 1차\n",
        "        elif input_menu == 999:\n",
        "            print(\"프로그램을 종료합니다.\")\n",
        "            return input_menu\n",
        "            # break\n",
        "\n",
        "        else:\n",
        "            print(\"잘못된 입력입니다.\")\n",
        "\n",
        "#실행\n",
        "input_menu = 0;\n",
        "while input_menu != 999:\n",
        "    print_coffee(coffee)\n",
        "    input_menu = int(input(\"커피메뉴 입력 : \"))\n",
        "\n",
        "    #관리자모드\n",
        "    if (input_menu >= 100 and input_menu <= 103) or input_menu == 999:\n",
        "        input_menu = admin_mode(input_menu)\n",
        "\n",
        "    # 프로그램 종료 2차\n",
        "    if input_menu == 999:\n",
        "        continue\n",
        "\n",
        "    #커피 선택\n",
        "    print_coffee(coffee, input_menu)\n",
        "\n",
        "    # 커피갯수\n",
        "    input_coffee = int(input(\"커피구매 갯수 입력 : \"))\n",
        "    print(f'{\"\":-^52}')\n",
        "\n",
        "    # 커피재고 부족시\n",
        "    if coffee[input_menu-1][1] < input_coffee:\n",
        "        print(\"커피재고가 부족합니다.\")\n",
        "        continue\n",
        "\n",
        "    # 갯수 재 확인 반복\n",
        "    while True:\n",
        "        check = int(input(\"%s %d개 구매가 맞습니까?(1 : yes, 0: no) : \" % (coffee[input_menu-1][0],input_coffee)))\n",
        "        if check == 1:\n",
        "\n",
        "            #결제수단 선택\n",
        "            print(payment_menu)\n",
        "            input_payment = int(input(\"결제수단 입력(결제취소 : 99) : \"))\n",
        "\n",
        "            if input_payment == 1:\n",
        "                print(\"카드결제를 선택하셨습니다.\")\n",
        "                #비밀번호설정은 나중에\n",
        "                #결제된 갯수제외\n",
        "                coffee[input_menu-1][1] -= input_coffee\n",
        "                #판매실적_카드\n",
        "                result[0].append([coffee[input_menu-1][0], input_coffee, input_coffee*coffee[input_menu-1][2]])\n",
        "                print(\"구매가 완료되었습니다.\")\n",
        "                break;\n",
        "\n",
        "            elif input_payment == 2:\n",
        "                print(\"현금결제를 선택하셨습니다.\")\n",
        "\n",
        "                # 상품 총 금액\n",
        "                required_money = coffee[input_menu - 1][2] * input_coffee\n",
        "                # 금액부족시 반복\n",
        "                while True:\n",
        "                    try:\n",
        "                        #판매 갯수 & 금액 계산\n",
        "                        money += int(input(\"투입금액을 입력하세요 : \"))\n",
        "                        if money < required_money:\n",
        "                            lack_money = required_money - money\n",
        "                            print(\"%d원이 부족합니다.\" % lack_money)\n",
        "\n",
        "                        else:\n",
        "                            #결제된 갯수제외\n",
        "                            coffee[input_menu-1][1] -= input_coffee\n",
        "                            #판매실적_현금\n",
        "                            result[1].append([coffee[input_menu-1][0], input_coffee, input_coffee*coffee[input_menu-1][2]])\n",
        "                            print(\"구매가 완료되었습니다.\")\n",
        "                            #거스름돈 & 투입돈 초기화\n",
        "                            output_money(money - required_money)\n",
        "                            money = 0\n",
        "                            break\n",
        "\n",
        "                    except ValueError:\n",
        "                        print(\"숫자를 입력하세요.\")\n",
        "\n",
        "            elif input_payment == 99:\n",
        "                print(\"구매가 취소되었습니다.\")\n",
        "                break\n",
        "\n",
        "            else:\n",
        "                print(\"잘못된 입력입니다.\")\n",
        "\n",
        "        elif check == 0:\n",
        "            print(\"구매가 취소되었습니다.\")\n",
        "            break\n",
        "\n",
        "        else:\n",
        "            print(\"잘못된 입력입니다.\")\n",
        "\n",
        "\n"
      ],
      "metadata": {
        "colab": {
          "base_uri": "https://localhost:8080/"
        },
        "id": "btDmNcG8-xP_",
        "outputId": "3b957de8-d00c-4599-f47b-6d57b267e49d"
      },
      "execution_count": 1,
      "outputs": [
        {
          "output_type": "stream",
          "name": "stdout",
          "text": [
            "------------------------메뉴------------------------\n",
            "1. 커피 명 : 아메리카노 | 갯수 : 60개 | 가격 : 60원\n",
            "2. 커피 명 : 카페라떼 | 갯수 : 50개 | 가격 : 400원\n",
            "----------------------------------------------------\n",
            "커피메뉴 입력 : 999\n",
            "관리자 모드를 실행합니다.\n",
            "----------------------------------------------------\n",
            "관리자 모드 ID입력 : admin\n",
            "관리자 모드 PW입력 : 12345\n",
            "프로그램을 종료합니다.\n"
          ]
        }
      ]
    }
  ]
}