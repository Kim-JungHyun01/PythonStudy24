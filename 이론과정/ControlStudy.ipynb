{
  "nbformat": 4,
  "nbformat_minor": 0,
  "metadata": {
    "colab": {
      "provenance": [],
      "toc_visible": true,
      "authorship_tag": "ABX9TyPDyT68upqdoc/pMiIojXYx",
      "include_colab_link": true
    },
    "kernelspec": {
      "name": "python3",
      "display_name": "Python 3"
    },
    "language_info": {
      "name": "python"
    }
  },
  "cells": [
    {
      "cell_type": "markdown",
      "metadata": {
        "id": "view-in-github",
        "colab_type": "text"
      },
      "source": [
        "<a href=\"https://colab.research.google.com/github/Kim-JungHyun01/PythonStudy24/blob/master/%EC%9D%B4%EB%A1%A0%EA%B3%BC%EC%A0%95/ControlStudy.ipynb\" target=\"_parent\"><img src=\"https://colab.research.google.com/assets/colab-badge.svg\" alt=\"Open In Colab\"/></a>"
      ]
    },
    {
      "cell_type": "markdown",
      "source": [
        "# 파이썬 기초학습 3일차 2024.12.20"
      ],
      "metadata": {
        "id": "-xAZpxfqcAFg"
      }
    },
    {
      "cell_type": "markdown",
      "source": [
        "프로그램 판단 조건문\n",
        "- if : 만약에 / 결과 : 참(Ture), False(거짓)\n",
        "- while :\n",
        "- for"
      ],
      "metadata": {
        "id": "zdCaBdcefP4w"
      }
    },
    {
      "cell_type": "markdown",
      "source": [
        "## If문"
      ],
      "metadata": {
        "id": "jyywMnbioMcv"
      }
    },
    {
      "cell_type": "code",
      "source": [
        "#파이썬은 중괄호{}가 없기에 콜론(:)로 구문을 내림\n",
        "#하위처리 : 띄어쓰기 4번\n",
        "\n",
        "#돈이 있으면 택시를 타고, 돈이 없으면 걸어감\n",
        "money = False\n",
        "if money:\n",
        "    print(\"택시를 탄다.\")\n",
        "    print(\"모범택시는 비싸니 다음 택시를 기다린다.\")\n",
        "    print(\"택시가 안보이면 카카오택시를 이용한다.\")\n",
        "else:\n",
        "    print(\"==============\")\n",
        "    print(\"걸어간다.\")\n",
        "    print(\"==============\")\n",
        "\n",
        "# 공백, tab은 통일해서 사용할 것(혼용x)"
      ],
      "metadata": {
        "colab": {
          "base_uri": "https://localhost:8080/"
        },
        "id": "MnLc7aLytNQU",
        "outputId": "e8428d42-029c-4748-8d36-c35fedd32a62"
      },
      "execution_count": null,
      "outputs": [
        {
          "output_type": "stream",
          "name": "stdout",
          "text": [
            "==============\n",
            "걸어간다.\n",
            "==============\n"
          ]
        }
      ]
    },
    {
      "cell_type": "code",
      "source": [
        "# 형태_if 조건문:\n",
        "\n",
        "# 만약 3000원 이상의 돈을 가지고 있으면 택시를 타고 가고, 그렇지 않으면 걸어가라.\n",
        "money = 6000\n",
        "if money >= 3000:\n",
        "    print(\"택시를 탄다\")\n",
        "else:\n",
        "    print(\"걸어간다.\")"
      ],
      "metadata": {
        "colab": {
          "base_uri": "https://localhost:8080/"
        },
        "id": "OnQt0QJtuWmY",
        "outputId": "1e712260-0e8c-4b2c-f3ba-4f9757d303e3"
      },
      "execution_count": null,
      "outputs": [
        {
          "output_type": "stream",
          "name": "stdout",
          "text": [
            "택시를 탄다\n"
          ]
        }
      ]
    },
    {
      "cell_type": "markdown",
      "source": [
        "### or, and, not"
      ],
      "metadata": {
        "id": "WwoEI4uAy_xL"
      }
    },
    {
      "cell_type": "code",
      "source": [
        "# x or y -> 또는 : 둘중 하나만 참(True)이여도 참(True)\n",
        "# x and y -> 이고 : 둘다 참(True)이여야 참(True)\n",
        "# not x -> x가 아니면 참 : 반전\n",
        "\n",
        "# 돈이 3000원 이상있거나, 카드가 있다면 택시를 타고, 아니면 걸어가라\n",
        "money = 2000\n",
        "card = True\n",
        "if money >= 3000 or card:\n",
        "    print(\"택시를 탄다.\")\n",
        "else:\n",
        "    print(\"걸어간다.\")\n",
        "\n",
        "#or 연산 진리표(0 : False, 1 : True)\n",
        "#money  card  결과\n",
        "#  0     0     0\n",
        "#  0     1     1\n",
        "#  1     0     1\n",
        "#  1     1     1"
      ],
      "metadata": {
        "colab": {
          "base_uri": "https://localhost:8080/"
        },
        "id": "rYLvp5mxwa1-",
        "outputId": "16030820-0a26-47a3-caee-02c7cd0596a8"
      },
      "execution_count": null,
      "outputs": [
        {
          "output_type": "stream",
          "name": "stdout",
          "text": [
            "택시를 탄다.\n"
          ]
        }
      ]
    },
    {
      "cell_type": "markdown",
      "source": [
        "### in, not in"
      ],
      "metadata": {
        "id": "MAgUl0wlzFiB"
      }
    },
    {
      "cell_type": "code",
      "source": [
        "# in, not in\n",
        "# x in 리스트, x not in 리스트\n",
        "# x in 튜블,   x not in 튜블\n",
        "# x in 문자열, x not in 문자열\n",
        "\n",
        "print(1 not in [1, 2, 3])     #리스트\n",
        "print('a' in ('a', 'b', 'c')) #튜블\n",
        "print('P' not in \"python\")    #문자열(대소문자구분)"
      ],
      "metadata": {
        "colab": {
          "base_uri": "https://localhost:8080/"
        },
        "id": "mUeO1t1gx81A",
        "outputId": "5162c453-84f3-4c6a-d1aa-bb48755d4bb8"
      },
      "execution_count": null,
      "outputs": [
        {
          "output_type": "stream",
          "name": "stdout",
          "text": [
            "False\n",
            "True\n",
            "True\n"
          ]
        }
      ]
    },
    {
      "cell_type": "code",
      "source": [
        "#만약에 주머니에 돈이 있으면 택시를 타고가고, 없으면 걸어가라\n",
        "pocket = [\"money\", \"card\", \"cellphone\"]\n",
        "if \"money\" in pocket:\n",
        "    print(\"택시를 탄다\")\n",
        "else:\n",
        "    print(\"걸어간다.\")"
      ],
      "metadata": {
        "colab": {
          "base_uri": "https://localhost:8080/"
        },
        "id": "_D2ixfiDznw5",
        "outputId": "5d3f819a-0c39-4574-db28-fcee961df3b8"
      },
      "execution_count": null,
      "outputs": [
        {
          "output_type": "stream",
          "name": "stdout",
          "text": [
            "택시를 탄다\n"
          ]
        }
      ]
    },
    {
      "cell_type": "code",
      "source": [
        "# 조건물에서 아무일도 하지 않게 설정할 때 : pass\n",
        "# 참, 거짓에 따라 실행할 행동을 정의할 때나 아무런 일도 하지 않도록 설정할 때\n",
        "\n",
        "#주머니에 돈이 있으면 가만히 있고, 없으면 카드를 꺼내라\n",
        "pocket = [\"cellphone\", \"money\", \"card\"]\n",
        "if \"money\" in pocket:\n",
        "    pass\n",
        "else:\n",
        "    print(\"카드를 꺼낸다.\")"
      ],
      "metadata": {
        "id": "0UZVfxon7Xxx"
      },
      "execution_count": null,
      "outputs": []
    },
    {
      "cell_type": "markdown",
      "source": [
        "### elif"
      ],
      "metadata": {
        "id": "rvvK-mUl7pBO"
      }
    },
    {
      "cell_type": "code",
      "source": [
        "#elif : 사용횟수가 무제한, if문 아래쪽에 조건문이 더 필요할때\n",
        "\n",
        "#주머니에 돈이 있으면 택시를 타고가고,\n",
        "#돈은 없지만 카드가 있으면 택시를 타고,\n",
        "#돈도 없고, 카드도 없으면 걸어가라.\n",
        "pocket = [\"money\", \"card\", \"cellphone\"]\n",
        "if \"money\" in pocket:\n",
        "    print(\"택시를 탄다\")\n",
        "elif \"card\" in pocket:\n",
        "    print(\"택시를 탄다.\")\n",
        "else:\n",
        "    print(\"걸어간다.\")"
      ],
      "metadata": {
        "colab": {
          "base_uri": "https://localhost:8080/"
        },
        "id": "8WtY8z3Q8O23",
        "outputId": "06c008b6-6f99-4314-e628-020ebaa0171c"
      },
      "execution_count": null,
      "outputs": [
        {
          "output_type": "stream",
          "name": "stdout",
          "text": [
            "택시를 탄다.\n"
          ]
        }
      ]
    },
    {
      "cell_type": "code",
      "source": [
        "#패션코딩 : 최대한 간결하게 코딩하는 기법\n",
        "pocket = [\"money\",\"card\", \"cellphone\"]\n",
        "if \"money\" in pocket or \"card\" in pocket: print(\"택시를 탄다\")\n",
        "else: print(\"걸어간다.\")"
      ],
      "metadata": {
        "colab": {
          "base_uri": "https://localhost:8080/"
        },
        "id": "sMGv-kJy-65u",
        "outputId": "2b35146e-cc18-48f2-a578-7625c40d3897"
      },
      "execution_count": null,
      "outputs": [
        {
          "output_type": "stream",
          "name": "stdout",
          "text": [
            "택시를 탄다\n"
          ]
        }
      ]
    },
    {
      "cell_type": "code",
      "source": [
        "#시험점수가 60이상이면 sucess, 아니면 failure를 변수에 변수에 담아 출력\n",
        "score = 60\n",
        "if score >= 60:\n",
        "    result = \"sucess\"\n",
        "else:\n",
        "    result = \"failure\"\n",
        "print(result)\n",
        "\n",
        "#패션코딩\n",
        "#파이썬 조건부 표현식\n",
        "#형태 : 변수 = 참인경우값 if 조건문 else 거짓인경우값\n",
        "result = \"sucess\" if score >= 60 else \"failure\"\n",
        "print(result)"
      ],
      "metadata": {
        "colab": {
          "base_uri": "https://localhost:8080/"
        },
        "id": "j-iH4b3R_VCq",
        "outputId": "4181a6c1-00e7-418e-d035-cb16bb46ca75"
      },
      "execution_count": null,
      "outputs": [
        {
          "output_type": "stream",
          "name": "stdout",
          "text": [
            "sucess\n",
            "sucess\n"
          ]
        }
      ]
    },
    {
      "cell_type": "code",
      "source": [
        "#예제\n",
        "#성적처리용 코드 작성\n",
        "#A~F등급까지 출력\n",
        "def score_check(score):\n",
        "    if not score.isdigit():\n",
        "        return False\n",
        "    else:\n",
        "        #score은 여전히 str이기에 새로 변수 생성\n",
        "        score_input = int(score)\n",
        "        if score_input > 100 or score_input < 0: return False\n",
        "        else: return True\n",
        "\n",
        "kscore = input(\"국어 점수를 입력하세요 : \")\n",
        "check1 = score_check(kscore)\n",
        "\n",
        "mscore = input(\"수학 점수를 입력하세요 : \")\n",
        "check2 = score_check(mscore)\n",
        "\n",
        "escore = input(\"영어 점수를 입력하세요 : \")\n",
        "check3 = score_check(escore)\n",
        "#\n",
        "\n",
        "check = check1 and check2 and check3\n",
        "#print(check)\n",
        "\n",
        "if check:\n",
        "    avg = (int(kscore) + int(mscore) + int(escore)) / 3\n",
        "    if avg >=90: result = 'A'\n",
        "    elif avg >= 80: result = 'B'\n",
        "    elif avg >= 70: result = 'C'\n",
        "    elif avg >= 60: result = 'D'\n",
        "    else: result = 'F'\n",
        "    print(f'평균 : %.2f, 등급 : %s' % (avg, result))\n",
        "else:\n",
        "    print(\"점수를 다시 입력하세요.\")\n",
        "\n",
        "# .isfigit() : 숫자가 아닐때"
      ],
      "metadata": {
        "colab": {
          "base_uri": "https://localhost:8080/"
        },
        "id": "ZG8BALVlAPq8",
        "outputId": "8f053af3-3c44-4a5f-df7d-299982d240e8"
      },
      "execution_count": 84,
      "outputs": [
        {
          "output_type": "stream",
          "name": "stdout",
          "text": [
            "국어 점수를 입력하세요 : 78\n",
            "수학 점수를 입력하세요 : 65\n",
            "영어 점수를 입력하세요 : 12\n",
            "평균 : 51.67, 등급 : F\n"
          ]
        }
      ]
    }
  ]
}