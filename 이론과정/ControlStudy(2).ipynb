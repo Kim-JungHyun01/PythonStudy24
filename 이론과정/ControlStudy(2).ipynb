{
  "nbformat": 4,
  "nbformat_minor": 0,
  "metadata": {
    "colab": {
      "provenance": [],
      "authorship_tag": "ABX9TyMdRf0r4KWPCT9KrIFtNGWJ",
      "include_colab_link": true
    },
    "kernelspec": {
      "name": "python3",
      "display_name": "Python 3"
    },
    "language_info": {
      "name": "python"
    }
  },
  "cells": [
    {
      "cell_type": "markdown",
      "metadata": {
        "id": "view-in-github",
        "colab_type": "text"
      },
      "source": [
        "<a href=\"https://colab.research.google.com/github/Kim-JungHyun01/PythonStudy24/blob/master/%EC%9D%B4%EB%A1%A0%EA%B3%BC%EC%A0%95/ControlStudy(2).ipynb\" target=\"_parent\"><img src=\"https://colab.research.google.com/assets/colab-badge.svg\" alt=\"Open In Colab\"/></a>"
      ]
    },
    {
      "cell_type": "markdown",
      "source": [
        "# 파이썬 기초학습 4일차 2024.12.23"
      ],
      "metadata": {
        "id": "JNXlyG0hBvYu"
      }
    },
    {
      "cell_type": "markdown",
      "source": [
        "for문\n",
        "- while과 같은 반복문, 차이점 : max의 지정여부\n",
        "- for문 : max값이 있을 때 사용(ex_구구단)\n",
        "- while문 : max값은 없지만 종료되는 시점을 만들어 제공 (강제종료 : ctrl + c)\n",
        "- 형태 : for 변수 in 리스트 | 튜블 | 문자열:실행문1 실행문2\n",
        "\n",
        "    => 자바의 향상for문 (forEach문과 같음)"
      ],
      "metadata": {
        "id": "hWfz7GtaB9Mw"
      }
    },
    {
      "cell_type": "markdown",
      "source": [
        "## 기본형"
      ],
      "metadata": {
        "id": "ddd614R9FMOk"
      }
    },
    {
      "cell_type": "code",
      "source": [
        "# 전형적인 for문\n",
        "test_list = [\"one\", \"two\", \"three\"]\n",
        "for i in test_list:\n",
        "    print(i)"
      ],
      "metadata": {
        "colab": {
          "base_uri": "https://localhost:8080/"
        },
        "id": "NA1Y227oDYEj",
        "outputId": "63812c9e-0e9a-41ca-adb8-849eb2a53b86"
      },
      "execution_count": 1,
      "outputs": [
        {
          "output_type": "stream",
          "name": "stdout",
          "text": [
            "one\n",
            "two\n",
            "three\n"
          ]
        }
      ]
    },
    {
      "cell_type": "markdown",
      "source": [
        "## 응용"
      ],
      "metadata": {
        "id": "EFAMZ1VWFOax"
      }
    },
    {
      "cell_type": "code",
      "source": [
        "# 다양한 for문 사용\n",
        "a = [(1,2), (3,4), (5,6)] # 리스트 안의 튜블\n",
        "for (first, last) in a:\n",
        "    print(first+last)"
      ],
      "metadata": {
        "colab": {
          "base_uri": "https://localhost:8080/"
        },
        "id": "l5Dh_O5qEKo9",
        "outputId": "19839bfa-a296-45a1-9d69-e6dd68be28e8"
      },
      "execution_count": 2,
      "outputs": [
        {
          "output_type": "stream",
          "name": "stdout",
          "text": [
            "3\n",
            "7\n",
            "11\n"
          ]
        }
      ]
    },
    {
      "cell_type": "markdown",
      "source": [
        "## continue"
      ],
      "metadata": {
        "id": "WNfkNicBJTFi"
      }
    },
    {
      "cell_type": "code",
      "source": [
        "#총 5명의 학생이 시험을 보았는데 시험 점수가 60점이상 : 합격, 그외는 불합격\n",
        "marks = [90,25,67,45,80] #리스트(+s를 할것 : marks)\n",
        "number = 0\n",
        "for i in marks:\n",
        "    number += 1\n",
        "    if i>= 60:\n",
        "        print(\"%d번째 학생 : 합격\"% number)\n",
        "    else:\n",
        "        print(\"%d번째 학생 : 불합격\"% number)"
      ],
      "metadata": {
        "colab": {
          "base_uri": "https://localhost:8080/"
        },
        "id": "X1qe63-NFI4g",
        "outputId": "1788184b-35dd-45a5-8add-12ae7f50767f"
      },
      "execution_count": 10,
      "outputs": [
        {
          "output_type": "stream",
          "name": "stdout",
          "text": [
            "1번째 학생 : 합격\n",
            "2번째 학생 : 불합격\n",
            "3번째 학생 : 합격\n",
            "4번째 학생 : 불합격\n",
            "5번째 학생 : 합격\n"
          ]
        }
      ]
    },
    {
      "cell_type": "code",
      "source": [
        "#for + continue\n",
        "marks = [90,25,67,45,80]\n",
        "number = 0\n",
        "for mark in marks:\n",
        "    number += 1\n",
        "    if mark < 60:\n",
        "        print(\"%d번째 학생 : 불합격\"% number)\n",
        "        continue #해당 조건이면 되돌아가기\n",
        "    print(\"%d번째 학생 : 합격\"% number)"
      ],
      "metadata": {
        "colab": {
          "base_uri": "https://localhost:8080/"
        },
        "id": "2PmT9BlFJafE",
        "outputId": "9b3ed128-e4fc-432a-d541-31baf9e591c7"
      },
      "execution_count": 11,
      "outputs": [
        {
          "output_type": "stream",
          "name": "stdout",
          "text": [
            "1번째 학생 : 합격\n",
            "2번째 학생 : 불합격\n",
            "3번째 학생 : 합격\n",
            "4번째 학생 : 불합격\n",
            "5번째 학생 : 합격\n"
          ]
        }
      ]
    },
    {
      "cell_type": "markdown",
      "source": [
        "## range()"
      ],
      "metadata": {
        "id": "9JtJoppqJSKZ"
      }
    },
    {
      "cell_type": "code",
      "source": [
        "#for문 + range(시작, 끝) : 시작 ~ (끝-1)\n",
        "a = range(10) # 0~10 미만 숫자를 포함하는 객체를 만들어줌\n",
        "print(a)"
      ],
      "metadata": {
        "colab": {
          "base_uri": "https://localhost:8080/"
        },
        "id": "t97Dxsu3KRah",
        "outputId": "e1bf82f0-a7de-4642-a6a6-3f95a9cb8825"
      },
      "execution_count": 14,
      "outputs": [
        {
          "output_type": "stream",
          "name": "stdout",
          "text": [
            "range(0, 10)\n"
          ]
        }
      ]
    },
    {
      "cell_type": "code",
      "source": [
        "for i in range(1,11): #0 ~ 10\n",
        "    print(i)"
      ],
      "metadata": {
        "colab": {
          "base_uri": "https://localhost:8080/"
        },
        "id": "6jI-di7zLFI7",
        "outputId": "cc890d21-ca98-48b4-e5fd-d6dead33769b"
      },
      "execution_count": 16,
      "outputs": [
        {
          "output_type": "stream",
          "name": "stdout",
          "text": [
            "1\n",
            "2\n",
            "3\n",
            "4\n",
            "5\n",
            "6\n",
            "7\n",
            "8\n",
            "9\n",
            "10\n"
          ]
        }
      ]
    },
    {
      "cell_type": "markdown",
      "source": [
        "## range() + len()"
      ],
      "metadata": {
        "id": "GPJk7FbrL-IM"
      }
    },
    {
      "cell_type": "code",
      "source": [
        "marks = [90,25,67,84,72]\n",
        "for number in range(len(marks)):\n",
        "    if marks[number] < 60:\n",
        "        print(\"%d번째 학생 : 불합격\"% (number+1))\n",
        "        continue\n",
        "    print(\"%d번째 학생 : 합격\"% (number+1))"
      ],
      "metadata": {
        "colab": {
          "base_uri": "https://localhost:8080/"
        },
        "id": "RDCuL07LLkqr",
        "outputId": "d2519d91-e6a9-4ed6-b85d-79fd7f05a497"
      },
      "execution_count": 18,
      "outputs": [
        {
          "output_type": "stream",
          "name": "stdout",
          "text": [
            "1번째 학생 : 합격\n",
            "2번째 학생 : 불합격\n",
            "3번째 학생 : 합격\n",
            "4번째 학생 : 합격\n",
            "5번째 학생 : 합격\n"
          ]
        }
      ]
    },
    {
      "cell_type": "markdown",
      "source": [
        "## 예제_구구단"
      ],
      "metadata": {
        "id": "pxVjYcS8NaKa"
      }
    },
    {
      "cell_type": "code",
      "source": [
        "#구구단 2*1 ~ 9*9\n",
        "for i in range(2,10): #2단~9단\n",
        "    for j in range(1,10): #곱할 값 : 1~9\n",
        "        print(\"%d * %d = %2d | \" % (i, j, i*j), end =\" \") #end = \" \" : 기본 엔터를 하지 않고 \" \"로 한다는 것\n",
        "    print() # enter 효과"
      ],
      "metadata": {
        "colab": {
          "base_uri": "https://localhost:8080/"
        },
        "id": "Xj08OV8_MBze",
        "outputId": "349fd613-6143-4ebb-ef90-b9bc0ca345f1"
      },
      "execution_count": 29,
      "outputs": [
        {
          "output_type": "stream",
          "name": "stdout",
          "text": [
            "2 * 1 =  2 |  2 * 2 =  4 |  2 * 3 =  6 |  2 * 4 =  8 |  2 * 5 = 10 |  2 * 6 = 12 |  2 * 7 = 14 |  2 * 8 = 16 |  2 * 9 = 18 |  \n",
            "3 * 1 =  3 |  3 * 2 =  6 |  3 * 3 =  9 |  3 * 4 = 12 |  3 * 5 = 15 |  3 * 6 = 18 |  3 * 7 = 21 |  3 * 8 = 24 |  3 * 9 = 27 |  \n",
            "4 * 1 =  4 |  4 * 2 =  8 |  4 * 3 = 12 |  4 * 4 = 16 |  4 * 5 = 20 |  4 * 6 = 24 |  4 * 7 = 28 |  4 * 8 = 32 |  4 * 9 = 36 |  \n",
            "5 * 1 =  5 |  5 * 2 = 10 |  5 * 3 = 15 |  5 * 4 = 20 |  5 * 5 = 25 |  5 * 6 = 30 |  5 * 7 = 35 |  5 * 8 = 40 |  5 * 9 = 45 |  \n",
            "6 * 1 =  6 |  6 * 2 = 12 |  6 * 3 = 18 |  6 * 4 = 24 |  6 * 5 = 30 |  6 * 6 = 36 |  6 * 7 = 42 |  6 * 8 = 48 |  6 * 9 = 54 |  \n",
            "7 * 1 =  7 |  7 * 2 = 14 |  7 * 3 = 21 |  7 * 4 = 28 |  7 * 5 = 35 |  7 * 6 = 42 |  7 * 7 = 49 |  7 * 8 = 56 |  7 * 9 = 63 |  \n",
            "8 * 1 =  8 |  8 * 2 = 16 |  8 * 3 = 24 |  8 * 4 = 32 |  8 * 5 = 40 |  8 * 6 = 48 |  8 * 7 = 56 |  8 * 8 = 64 |  8 * 9 = 72 |  \n",
            "9 * 1 =  9 |  9 * 2 = 18 |  9 * 3 = 27 |  9 * 4 = 36 |  9 * 5 = 45 |  9 * 6 = 54 |  9 * 7 = 63 |  9 * 8 = 72 |  9 * 9 = 81 |  \n"
          ]
        }
      ]
    },
    {
      "cell_type": "markdown",
      "source": [
        "## 리스트 컴프리헨션"
      ],
      "metadata": {
        "id": "b_lc1-9lNc2U"
      }
    },
    {
      "cell_type": "code",
      "source": [
        "# 리스트 컴프리 헨션 : 결과를 리스트로 저장\n",
        "# 사용 x시\n",
        "a = [1,2,3,4]   #입력리스트\n",
        "result = []     #빈리스트 : 출력리스트\n",
        "for num in a:   #입력리스트 1개씩 num에 넣음\n",
        "    result.append(num*3) #출력리스트 값에 3을 곱하고 추가(.append)\n",
        "print(result)   #반복이 끝나면 출력"
      ],
      "metadata": {
        "colab": {
          "base_uri": "https://localhost:8080/"
        },
        "id": "XwNmhFZgNgbg",
        "outputId": "936840a3-d24b-4247-dd18-8e8180dcf1da"
      },
      "execution_count": 32,
      "outputs": [
        {
          "output_type": "stream",
          "name": "stdout",
          "text": [
            "[3, 6, 9, 12]\n"
          ]
        }
      ]
    },
    {
      "cell_type": "code",
      "source": [
        "# 사용 o시 => [실행문(결과문) for 변수 in 배열]\n",
        "a = [1,2,3,4]\n",
        "result = [num * 3 for num in a]\n",
        "print(result)"
      ],
      "metadata": {
        "colab": {
          "base_uri": "https://localhost:8080/"
        },
        "id": "dIaduy2LN8xd",
        "outputId": "291945ff-b3b7-45e6-d494-06da81bd6d75"
      },
      "execution_count": 33,
      "outputs": [
        {
          "output_type": "stream",
          "name": "stdout",
          "text": [
            "[3, 6, 9, 12]\n"
          ]
        }
      ]
    },
    {
      "cell_type": "code",
      "source": [
        "# 짝수만 3을 곱해서 리스트에 담고 싶음\n",
        "# [실행문(결과) for 변수 in 배열 조건문(if등)]\n",
        "a = [1,2,3,4]\n",
        "result = [num * 3 for num in a if num % 2 == 0]\n",
        "print(result)\n",
        "\n",
        "# 사용x시\n",
        "result = []\n",
        "for num in a:\n",
        "    if num % 2==0:\n",
        "        result.append(num*3)\n",
        "print(result)"
      ],
      "metadata": {
        "colab": {
          "base_uri": "https://localhost:8080/"
        },
        "id": "lcvPqFw5Ou9b",
        "outputId": "3eba8849-0725-480c-d068-894a7bcfb631"
      },
      "execution_count": 36,
      "outputs": [
        {
          "output_type": "stream",
          "name": "stdout",
          "text": [
            "[6, 12]\n",
            "[6, 12]\n"
          ]
        }
      ]
    },
    {
      "cell_type": "markdown",
      "source": [
        "## 예제"
      ],
      "metadata": {
        "id": "SwuihY9XQT2t"
      }
    },
    {
      "cell_type": "code",
      "source": [
        "coffee = [[\"아메리카노\",60,600],[\"카페라떼\", 50, 400], [\"카프치노\", 30, 500], [\"카라멜마끼아또\", 10, 700],[\"바닐라라떼\", 30, 900]]\n",
        "\n",
        "coffee.remove(coffee[0])\n",
        "print(coffee)\n",
        "\n"
      ],
      "metadata": {
        "colab": {
          "base_uri": "https://localhost:8080/"
        },
        "id": "RLDCaHsBzmSc",
        "outputId": "ce9c0dd3-770d-4ff0-a1dd-9ef78e46ac5a"
      },
      "execution_count": 107,
      "outputs": [
        {
          "output_type": "stream",
          "name": "stdout",
          "text": [
            "[['카페라떼', 50, 400], ['카프치노', 30, 500], ['카라멜마끼아또', 10, 700], ['바닐라라떼', 30, 900]]\n"
          ]
        }
      ]
    },
    {
      "cell_type": "code",
      "source": [
        "# 초기값\n",
        "#커피명/ 갯수/ 가격\n",
        "coffee = [[\"아메리카노\",60,600],[\"카페라떼\", 50, 400], [\"카프치노\", 30, 500], [\"카라멜마끼아또\", 10, 700],[\"바닐라라떼\", 30, 900]]\n",
        "result = [[\"카드\"],[\"현금\"]] #판매실적 : 커피명, 갯수, 금액, 결제수단\n",
        "input_admin = [None, None] #관리자 로그인용\n",
        "money = 0           #투입된 금액 초기화\n",
        "\n",
        "# 손님용_결제수단\n",
        "payment_menu = \"\"\"\n",
        "---------------------결제수단-----------------------\n",
        "                 1. 카드 2. 현금\n",
        "----------------------------------------------------\n",
        "\"\"\"\n",
        "\n",
        "#관리자모드 :  < 100\n",
        "admin_menu = \"\"\"\n",
        "-----------------관리자 모드------------------------\n",
        "                101. 메뉴추가\n",
        "                102. 메뉴수정\n",
        "                103. 메뉴삭제\n",
        "                104. 판매관리\n",
        "                997. 로그아웃\n",
        "                998. 관리자모드 종료\n",
        "                999. 프로그램종료\n",
        "\"\"\"\n",
        "\n",
        "#커피메뉴출력\n",
        "def print_coffee(list, input_menu=None):\n",
        "    print(f'{\"메뉴\":-^50}')\n",
        "\n",
        "     #특정 메뉴만 출력\n",
        "    if input_menu is not None:\n",
        "       print(\"%d. 커피 명 : %s | 갯수 : %d개 | 가격 : %d원\" % (input_menu, list[input_menu-1][0], list[input_menu-1][1], list[input_menu-1][2]))\n",
        "\n",
        "    #전체메뉴 출력\n",
        "    else:\n",
        "        for count in range(len(list)):\n",
        "            print(\"%d. 커피 명 : %s | 갯수 : %d개 | 가격 : %d원\" % (count+1, list[count][0], list[count][1], list[count][2]))\n",
        "    print(f'{\"\":-^52}')\n",
        "\n",
        "# 거스름돈 계산\n",
        "def output_money(money):\n",
        "    print(f'{\"\":-^52}')\n",
        "    print(\"거스름돈은 총 %d원입니다.\" % money)\n",
        "    money_list = [500, 100, 50, 10]\n",
        "    for i in money_list:\n",
        "        if money // i != 0:\n",
        "            print(\"%d원 : %d개\" % (i, money // i))\n",
        "        money %= i\n",
        "    print(f'{\"\":-^52}')\n",
        "\n",
        "#판매실적계산\n",
        "def pay_result(list):\n",
        "    #판매실적 딕셔너리\n",
        "    salas_summary = {\"카드\" : {}, \"현금\" : {}}\n",
        "\n",
        "    #수단, * : unpacking 기능\n",
        "    #[[\"카드\", [1], [2]],[\"현금\", [3], [4]]]\n",
        "    # payment_method : 카드, 현금 | *sales : 1,2,3,4 각각 풀러서 들어감\n",
        "    for payment_method, *sales in result:\n",
        "        for coffee_name, quantity, amount in sales:\n",
        "\n",
        "            #커피명이 없을 시 초기화\n",
        "            if coffee_name not in salas_summary[payment_method]:\n",
        "                salas_summary[payment_method][coffee_name] = [0, 0]\n",
        "\n",
        "            #판매갯수 와 금액 합산\n",
        "            salas_summary[payment_method][coffee_name][0] += quantity\n",
        "            salas_summary[payment_method][coffee_name][1] += amount\n",
        "\n",
        "    #판매실적 출력\n",
        "    for payment_method, sales in salas_summary.items():\n",
        "        print(f\"{payment_method} 판매실적\")\n",
        "        for coffee_name, (quantity, amount) in sales.items():\n",
        "            print(f\"커피명 : {coffee_name} | 총판매갯수 :  {quantity} | 총판매액 {amount}원\")\n",
        "    print(f'{\"\":-^52}')\n",
        "\n",
        "#관리자 모드\n",
        "def admin_mode(input_menu):\n",
        "    admin_check = [\"admin\", 12345] #관리자 id, 비번\n",
        "    update_menu = [None, None, None] #추가, 수정할 메뉴명, 갯수, 가격\n",
        "    count = 0 #관리자 로그인 틀린 횟수\n",
        "\n",
        "    print(f'{\"\":-^52}')\n",
        "    print(\"관리자 모드를 실행합니다.\")\n",
        "\n",
        "    while True:\n",
        "        for i in range(5):\n",
        "            if (input_admin[0] is None and input_admin[1] is None) or (input_admin[0]!= admin_check[0] and input_admin[1] != admin_check[1]):\n",
        "                print(f'{\"관리자 모드 로그인\":-^50}')\n",
        "                input_admin[0] = input(\"관리자 모드 ID입력 : \")\n",
        "                input_admin[1] = int(input(\"관리자 모드 PW입력 : \"))\n",
        "                print(f'{\"\":-^52}')\n",
        "\n",
        "            if not (admin_check[0] == input_admin[0] and admin_check[1] == input_admin[1]):\n",
        "                print(\"관리자 모드 ID 또는 비밀번호가 틀렸습니다.\")\n",
        "                count += 1\n",
        "                print(f'{\"\":-^52}')\n",
        "\n",
        "        if count == 5:\n",
        "            print(\"로그인 시도 횟수 초과로 판매메뉴로 돌아갑니다.\")\n",
        "            break\n",
        "\n",
        "        #메뉴출력\n",
        "        print(admin_menu)\n",
        "        print_coffee(coffee)\n",
        "        input_menu = int(input(\"관리자 모드메뉴 입력 : \"))\n",
        "\n",
        "        #메뉴추가\n",
        "        if input_menu == 101:\n",
        "            print(f'{\"메뉴추가\":-^50}')\n",
        "            update_menu[0] = input(\"추가할 커피명 : \")\n",
        "\n",
        "            #커피명 중복확인\n",
        "            for i in range(len(coffee)):\n",
        "                if coffee[i][0] == update_menu[0]:\n",
        "                    print(\"이미 존재하는 메뉴입니다.\")\n",
        "                    print(f'{\"\":-^52}')\n",
        "                    update_menu[0] = None\n",
        "                    break #for break\n",
        "\n",
        "            if update_menu[0] is not None:\n",
        "                update_menu[1] = int(input(\"추가할 커피갯수 : \"))\n",
        "                update_menu[2] = int(input(\"추가할 커피가격 : \"))\n",
        "                print(f'{\"\":-^52}')\n",
        "                print(\"커피 명 : %s | 갯수 : %d개 | 가격 : %d원\" % (update_menu[0], update_menu[1], update_menu[2]))\n",
        "                print(f'{\"\":-^52}')\n",
        "\n",
        "                check = int(input(\"추가하시겠습니까?(1 : yes, 0 : no) : \"))\n",
        "                if check == 0:\n",
        "                    print(\"추가가 취소되었습니다.\")\n",
        "                    continue\n",
        "\n",
        "                #메뉴추가진행\n",
        "                coffee.append(update_menu)\n",
        "                print(\"추가가 완료되었습니다.\")\n",
        "                update_menu = [None, None, None] #초기화\n",
        "\n",
        "        #메뉴수정\n",
        "        elif input_menu == 102:\n",
        "            print(f'{\"메뉴수정\":-^50}')\n",
        "            print_coffee(coffee)\n",
        "            input_menu = int(input(\"수정할 메뉴번호 입력 : \"))\n",
        "            print_coffee(coffee, input_menu)\n",
        "            update_menu[0] = input(\"수정전 : %s => \" % coffee[input_menu - 1][0])\n",
        "            update_menu[1] = int(input(\"수정전 : %d => \" % coffee[input_menu - 1][1]))\n",
        "            update_menu[2] = int(input(\"수정전 : %d => \" % coffee[input_menu - 1][2]))\n",
        "            print(f'{\"\":-^52}')\n",
        "\n",
        "        #수정 재확인\n",
        "            print(\"%d. 커피 명 : %s | 갯수 : %d개 | 가격 : %d원\" % (input_menu, update_menu[0], update_menu[1], update_menu[2]))\n",
        "            check = int(input(\"수정하시겠습니까?(1 : yes, 0 : no) : \"))\n",
        "            if check == 0:\n",
        "                print(\"수정이 취소되었습니다.\")\n",
        "                continue\n",
        "\n",
        "            for i in range(len(coffee[input_menu-1])):\n",
        "                coffee[input_menu-1][i] = update_menu[i]\n",
        "            print(\"수정이 완료되었습니다.\")\n",
        "            update_menu = [None, None, None] #초기화\n",
        "\n",
        "        #메뉴삭제\n",
        "        elif input_menu == 103:\n",
        "            print(f'{\"메뉴삭제\":-^50}')\n",
        "            print_coffee(coffee)\n",
        "            input_menu = int(input(\"삭제할 메뉴번호 입력 : \"))\n",
        "            print_coffee(coffee, input_menu)\n",
        "            check = int(input(\"삭제하시겠습니까?(1 : yes, 0 : no) : \"))\n",
        "\n",
        "            if check == 1:\n",
        "                coffee.remove(coffee[input_menu-1])\n",
        "                print(\"삭제가 취소되었습니다.\")\n",
        "\n",
        "            else:\n",
        "                print(\"삭제가 취소되었습니다.\")\n",
        "        #판매실적\n",
        "        elif input_menu == 104:\n",
        "            print(f'{\"판매실적\":-^50}')\n",
        "            pay_result(result)\n",
        "\n",
        "        elif input_menu == 997:\n",
        "            print(\"관리자 로그아웃을 진행합니다.\")\n",
        "            input_admin[0] = None\n",
        "            input_admin[1] = None\n",
        "            break\n",
        "\n",
        "        # 판매메뉴로 돌아가기\n",
        "        elif input_menu == 998:\n",
        "            print(\"관리자 모드를 종료합니다.\")\n",
        "            break\n",
        "\n",
        "        #판매시스템 종료\n",
        "        elif input_menu == 999:\n",
        "            break\n",
        "\n",
        "        else:\n",
        "            print(\"잘못된 입력입니다.\")\n",
        "\n",
        "    return input_menu\n",
        "\n",
        "#실행문\n",
        "input_menu = 0;\n",
        "while input_menu != 999:\n",
        "    print_coffee(coffee)\n",
        "    input_menu = int(input(\"커피메뉴 입력 : \"))\n",
        "\n",
        "    #관리자모드\n",
        "    if input_menu >= 100 and input_menu <= 104:\n",
        "        input_menu = admin_mode(input_menu)\n",
        "    # print(\"input_menu :  %d\" %input_menu)\n",
        "\n",
        "    # 프로그램 종료 2차\n",
        "    if input_menu == 999:\n",
        "        pay_result(result)\n",
        "        print(\"판매 프로그램을 종료합니다.\")\n",
        "        break\n",
        "\n",
        "    if input_menu <= len(coffee):\n",
        "        #커피 선택\n",
        "        print_coffee(coffee, input_menu)\n",
        "\n",
        "        # 커피갯수선택\n",
        "        input_coffee = int(input(\"커피구매 갯수 입력 : \"))\n",
        "        print(f'{\"\":-^52}')\n",
        "\n",
        "        # 커피재고 부족시\n",
        "        if coffee[input_menu-1][1] < input_coffee:\n",
        "            print(\"커피재고가 부족합니다.\")\n",
        "            continue\n",
        "\n",
        "        # 갯수 재 확인 반복\n",
        "        while True:\n",
        "            check = int(input(\"%s %d개 구매가 맞습니까?(1 : yes, 0: no) : \" % (coffee[input_menu-1][0],input_coffee)))\n",
        "            if check == 1:\n",
        "\n",
        "                #결제수단 선택\n",
        "                print(payment_menu)\n",
        "                input_payment = int(input(\"결제수단 입력(결제취소 : 99) : \"))\n",
        "\n",
        "                if input_payment == 1:\n",
        "                    print(\"카드결제를 선택하셨습니다.\")\n",
        "                    #비밀번호설정은 나중에\n",
        "                    #결제된 갯수제외\n",
        "                    coffee[input_menu-1][1] -= input_coffee\n",
        "                    #판매실적_카드\n",
        "                    result[0].append([coffee[input_menu-1][0], input_coffee, input_coffee*coffee[input_menu-1][2]])\n",
        "                    print(\"구매가 완료되었습니다.\")\n",
        "                    break\n",
        "\n",
        "                elif input_payment == 2:\n",
        "                    print(\"현금결제를 선택하셨습니다.\")\n",
        "\n",
        "                    # 상품 총 금액\n",
        "                    required_money = coffee[input_menu - 1][2] * input_coffee\n",
        "\n",
        "                    # 금액부족시 반복\n",
        "                    while True:\n",
        "                        try:\n",
        "                            #판매 갯수 & 금액 계산\n",
        "                            money += int(input(f\"필요금액 : {required_money}원_투입금액을 입력하세요 : \"))\n",
        "                            if money < required_money:\n",
        "                                lack_money = required_money - money\n",
        "                                print(\"%d원이 부족합니다.\" % lack_money)\n",
        "\n",
        "                            else:\n",
        "                                #결제된 갯수제외\n",
        "                                coffee[input_menu-1][1] -= input_coffee\n",
        "\n",
        "                                #판매실적_현금\n",
        "                                result[1].append([coffee[input_menu-1][0], input_coffee, input_coffee*coffee[input_menu-1][2]])\n",
        "                                print(\"구매가 완료되었습니다.\")\n",
        "\n",
        "                                #거스름돈 & 투입돈 초기화\n",
        "                                output_money(money - required_money)\n",
        "                                money = 0\n",
        "                                break\n",
        "\n",
        "                        except ValueError:\n",
        "                            print(\"숫자를 입력하세요.\")\n",
        "                    break\n",
        "\n",
        "                elif input_payment == 99:\n",
        "                    print(\"구매가 취소되었습니다.\")\n",
        "                    break\n",
        "\n",
        "                else:\n",
        "                    print(\"잘못된 입력입니다.\")\n",
        "\n",
        "            elif check == 0:\n",
        "                print(\"구매가 취소되었습니다.\")\n",
        "                break\n",
        "\n",
        "            else:\n",
        "                print(\"잘못된 입력입니다.\")\n",
        "\n",
        "    elif not(input_menu >=100 and input_menu <=104) and input_menu != 998 and input_menu != 997:\n",
        "        print(\"커피메뉴를 다시 선택해주세요.\")"
      ],
      "metadata": {
        "id": "fJXk9SW9QV1e"
      },
      "execution_count": null,
      "outputs": []
    }
  ]
}