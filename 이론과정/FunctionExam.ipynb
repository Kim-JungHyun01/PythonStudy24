{
  "nbformat": 4,
  "nbformat_minor": 0,
  "metadata": {
    "colab": {
      "provenance": [],
      "authorship_tag": "ABX9TyPuIyFgCaJv2WvsL+8y75pf",
      "include_colab_link": true
    },
    "kernelspec": {
      "name": "python3",
      "display_name": "Python 3"
    },
    "language_info": {
      "name": "python"
    }
  },
  "cells": [
    {
      "cell_type": "markdown",
      "metadata": {
        "id": "view-in-github",
        "colab_type": "text"
      },
      "source": [
        "<a href=\"https://colab.research.google.com/github/Kim-JungHyun01/PythonStudy24/blob/master/%EC%9D%B4%EB%A1%A0%EA%B3%BC%EC%A0%95/FunctionExam.ipynb\" target=\"_parent\"><img src=\"https://colab.research.google.com/assets/colab-badge.svg\" alt=\"Open In Colab\"/></a>"
      ]
    },
    {
      "cell_type": "markdown",
      "source": [
        "# 파이썬 기초학습 4일차 2024.12.23"
      ],
      "metadata": {
        "id": "1uVWuErT7bt8"
      }
    },
    {
      "cell_type": "markdown",
      "source": [
        "함수(function)\n",
        "- 단일 동작을 수행하는 블럭\n",
        "- 자바 : 중괄호{} / 파이썬 : 줄단위수행(인터프리터)\n",
        "- 반복적인 코드 발생을 최소화하기 위해서(CRUD)\n",
        "- def : define_정의\n",
        "- 형태: def 함수명(매개변수):\n",
        "\n",
        "프로그램 메모리 영역(3가지)\n",
        "- 스택(stack) 영역 : 변수의 기본타입, 참조타입을 연결\n",
        "- 힙(hip) 영역 : 객체생성후 주소를 가지고 있음\n",
        "- 메소드(function) 영역 : 함수 보관장소, 호출되면 매개값(파라미터)과 리턴값제공"
      ],
      "metadata": {
        "id": "LMf3M_-Z7gxS"
      }
    },
    {
      "cell_type": "code",
      "source": [
        "# add 함수 생성(매개변수 : 2)\n",
        "def add(a,b):\n",
        "    print(\"add() 종료\")\n",
        "    return a+b\n",
        "    # add() 종료\n",
        "\n",
        "print(add(\"김\", \"기원\"))"
      ],
      "metadata": {
        "colab": {
          "base_uri": "https://localhost:8080/"
        },
        "id": "6snE0use9COY",
        "outputId": "f5bbb592-8e89-40a1-a28b-5a5930ef2b22"
      },
      "execution_count": null,
      "outputs": [
        {
          "output_type": "stream",
          "name": "stdout",
          "text": [
            "add() 종료\n",
            "김기원\n"
          ]
        }
      ]
    },
    {
      "cell_type": "markdown",
      "source": [
        "## argument"
      ],
      "metadata": {
        "id": "Q4yd3aW3Lcv9"
      }
    },
    {
      "cell_type": "code",
      "source": [
        "# 매개변수 갯수가 지정x일때 (1개 이상~)\n",
        "# args(arguments): *_모든 값을 전부 넣음 => 관례일뿐 꼭 사용x\n",
        "def add_many(*args):\n",
        "    result = 0\n",
        "    for i in args:\n",
        "        result += i # result = result + i\n",
        "    return result\n",
        "\n",
        "result = add_many(1,2,3,4,5,6,7,8,9)\n",
        "print(result)"
      ],
      "metadata": {
        "colab": {
          "base_uri": "https://localhost:8080/"
        },
        "id": "lKRxYQXmD2jB",
        "outputId": "e766d722-4d3a-4df4-e515-a1322e7166dc"
      },
      "execution_count": null,
      "outputs": [
        {
          "output_type": "stream",
          "name": "stdout",
          "text": [
            "45\n"
          ]
        }
      ]
    },
    {
      "cell_type": "code",
      "source": [
        "test = add_many(9,8,7,6)\n",
        "print(test)"
      ],
      "metadata": {
        "colab": {
          "base_uri": "https://localhost:8080/"
        },
        "id": "cdckASJLLMu9",
        "outputId": "afaf0b4d-069f-4671-ad15-88555323af0c"
      },
      "execution_count": null,
      "outputs": [
        {
          "output_type": "stream",
          "name": "stdout",
          "text": [
            "30\n"
          ]
        }
      ]
    },
    {
      "cell_type": "code",
      "source": [
        "def add_muti(choice, *args):\n",
        "    #더하기\n",
        "    if choice == \"add\":\n",
        "        result = 0\n",
        "        for i in args:\n",
        "            result += i\n",
        "    #곱하기\n",
        "    elif choice == \"mul\":\n",
        "        result = 1\n",
        "        for i in args:\n",
        "            result *= i\n",
        "\n",
        "    return result\n",
        "\n",
        "#더하기\n",
        "result = add_muti(\"add\", 1,2,3,4,5)\n",
        "print(result)\n",
        "\n",
        "#곱하기\n",
        "result = add_muti(\"mul\", 1,2,3,4,5)\n",
        "print(result)"
      ],
      "metadata": {
        "colab": {
          "base_uri": "https://localhost:8080/"
        },
        "id": "ArUDkx7-L9Yd",
        "outputId": "cbfe7067-5dab-48e9-b170-7f12d7411b74"
      },
      "execution_count": null,
      "outputs": [
        {
          "output_type": "stream",
          "name": "stdout",
          "text": [
            "15\n",
            "120\n"
          ]
        }
      ]
    },
    {
      "cell_type": "code",
      "source": [
        "#문자열은 x\n",
        "result = add_muti(\"add\", \"김\",\"기\",\"원\")\n",
        "print(result)"
      ],
      "metadata": {
        "colab": {
          "base_uri": "https://localhost:8080/",
          "height": 294
        },
        "id": "FtEsPbJxOZrK",
        "outputId": "e0cc52da-3fbb-465b-b8b5-fb424a76065f"
      },
      "execution_count": null,
      "outputs": [
        {
          "output_type": "error",
          "ename": "TypeError",
          "evalue": "unsupported operand type(s) for +=: 'int' and 'str'",
          "traceback": [
            "\u001b[0;31m---------------------------------------------------------------------------\u001b[0m",
            "\u001b[0;31mTypeError\u001b[0m                                 Traceback (most recent call last)",
            "\u001b[0;32m<ipython-input-22-ae0159447f8c>\u001b[0m in \u001b[0;36m<cell line: 1>\u001b[0;34m()\u001b[0m\n\u001b[0;32m----> 1\u001b[0;31m \u001b[0mresult\u001b[0m \u001b[0;34m=\u001b[0m \u001b[0madd_muti\u001b[0m\u001b[0;34m(\u001b[0m\u001b[0;34m\"add\"\u001b[0m\u001b[0;34m,\u001b[0m \u001b[0;34m\"김\"\u001b[0m\u001b[0;34m,\u001b[0m\u001b[0;34m\"기\"\u001b[0m\u001b[0;34m,\u001b[0m\u001b[0;34m\"원\"\u001b[0m\u001b[0;34m)\u001b[0m\u001b[0;34m\u001b[0m\u001b[0;34m\u001b[0m\u001b[0m\n\u001b[0m\u001b[1;32m      2\u001b[0m \u001b[0mprint\u001b[0m\u001b[0;34m(\u001b[0m\u001b[0mresult\u001b[0m\u001b[0;34m)\u001b[0m\u001b[0;34m\u001b[0m\u001b[0;34m\u001b[0m\u001b[0m\n",
            "\u001b[0;32m<ipython-input-20-f801ff38b80c>\u001b[0m in \u001b[0;36madd_muti\u001b[0;34m(choice, *args)\u001b[0m\n\u001b[1;32m      4\u001b[0m         \u001b[0mresult\u001b[0m \u001b[0;34m=\u001b[0m \u001b[0;36m0\u001b[0m\u001b[0;34m\u001b[0m\u001b[0;34m\u001b[0m\u001b[0m\n\u001b[1;32m      5\u001b[0m         \u001b[0;32mfor\u001b[0m \u001b[0mi\u001b[0m \u001b[0;32min\u001b[0m \u001b[0margs\u001b[0m\u001b[0;34m:\u001b[0m\u001b[0;34m\u001b[0m\u001b[0;34m\u001b[0m\u001b[0m\n\u001b[0;32m----> 6\u001b[0;31m             \u001b[0mresult\u001b[0m \u001b[0;34m+=\u001b[0m \u001b[0mi\u001b[0m\u001b[0;34m\u001b[0m\u001b[0;34m\u001b[0m\u001b[0m\n\u001b[0m\u001b[1;32m      7\u001b[0m     \u001b[0;31m#곱하기\u001b[0m\u001b[0;34m\u001b[0m\u001b[0;34m\u001b[0m\u001b[0m\n\u001b[1;32m      8\u001b[0m     \u001b[0;32melif\u001b[0m \u001b[0mchoice\u001b[0m \u001b[0;34m==\u001b[0m \u001b[0;34m\"mul\"\u001b[0m\u001b[0;34m:\u001b[0m\u001b[0;34m\u001b[0m\u001b[0;34m\u001b[0m\u001b[0m\n",
            "\u001b[0;31mTypeError\u001b[0m: unsupported operand type(s) for +=: 'int' and 'str'"
          ]
        }
      ]
    },
    {
      "cell_type": "markdown",
      "source": [
        "## 키워드 매개변수 : kwargs"
      ],
      "metadata": {
        "id": "GinKVBVSQNZg"
      }
    },
    {
      "cell_type": "code",
      "source": [
        "# **kwargs : key value argement_키워드 메개변수(딕셔너리타입)\n",
        "#변수명은 kwargs가 관례일뿐\n",
        "def print_kwargs(**kwargs):\n",
        "    print(kwargs)\n",
        "\n",
        "print_kwargs(kkw = 31)\n",
        "\n",
        "print_kwargs(id=\"kkw\", password=\"12345\", phone = 8188, email = \"damin@nate.com\")"
      ],
      "metadata": {
        "colab": {
          "base_uri": "https://localhost:8080/"
        },
        "id": "9FtwdfxgOwsz",
        "outputId": "ba7a25dd-7c20-4fd6-b25b-36fd9722481d"
      },
      "execution_count": null,
      "outputs": [
        {
          "output_type": "stream",
          "name": "stdout",
          "text": [
            "{'kkw': 31}\n",
            "{'id': 'kkw', 'password': '12345', 'phone': 8188, 'email': 'damin@nate.com'}\n"
          ]
        }
      ]
    },
    {
      "cell_type": "markdown",
      "source": [
        "## 리턴값 2개이상"
      ],
      "metadata": {
        "id": "6I25-rmCQYNE"
      }
    },
    {
      "cell_type": "code",
      "source": [
        "#리턴값이 2개\n",
        "def add_and_mul(a,b):\n",
        "    return a+b, a-b, a*b\n",
        "\n",
        "a,b,c= add_and_mul(3,4)\n",
        "print(a)\n",
        "print(b)\n",
        "print(c)"
      ],
      "metadata": {
        "colab": {
          "base_uri": "https://localhost:8080/"
        },
        "id": "sytuiYvZP_he",
        "outputId": "ab55a5b3-ce57-472e-a95b-074bc0761b33"
      },
      "execution_count": null,
      "outputs": [
        {
          "output_type": "stream",
          "name": "stdout",
          "text": [
            "7\n",
            "-1\n",
            "12\n"
          ]
        }
      ]
    },
    {
      "cell_type": "markdown",
      "source": [
        "## 매개변수 기본값"
      ],
      "metadata": {
        "id": "glcz7R4zSiAf"
      }
    },
    {
      "cell_type": "code",
      "source": [
        "def say_myself(name, old, man=True):\n",
        "    print(\"나의 이름은 %s 입니다.\" % name)\n",
        "    print(\"나의 나이는 %d 입니다.\" % old)\n",
        "    print(\"성별은\", end=\" \")\n",
        "    if man:\n",
        "        print(\"남자입니다.\")\n",
        "    else:\n",
        "        print(\"여자입니다.\")\n",
        "\n",
        "say_myself(\"김기원\", 30)\n",
        "print()\n",
        "say_myself(\"하늘이\", 20, False)"
      ],
      "metadata": {
        "colab": {
          "base_uri": "https://localhost:8080/"
        },
        "id": "qmDn6chORDxL",
        "outputId": "a30527bd-90e7-4d8c-903d-65d039b6ebc4"
      },
      "execution_count": null,
      "outputs": [
        {
          "output_type": "stream",
          "name": "stdout",
          "text": [
            "나의 이름은 김기원 입니다.\n",
            "나의 나이는 30 입니다.\n",
            "성별은 남자입니다.\n",
            "\n",
            "나의 이름은 하늘이 입니다.\n",
            "나의 나이는 20 입니다.\n",
            "성별은 여자입니다.\n"
          ]
        }
      ]
    },
    {
      "cell_type": "markdown",
      "source": [
        "## 지역변수, 매개변수"
      ],
      "metadata": {
        "id": "TAH1v0RvSkpX"
      }
    },
    {
      "cell_type": "code",
      "source": [
        "a = 1\n",
        "def vartest(a):\n",
        "    a = a +1\n",
        "\n",
        "vartest(a)\n",
        "print(a)"
      ],
      "metadata": {
        "colab": {
          "base_uri": "https://localhost:8080/"
        },
        "id": "D7r_u2nXSs0M",
        "outputId": "aecc07f1-9279-4127-f078-cfb932201488"
      },
      "execution_count": null,
      "outputs": [
        {
          "output_type": "stream",
          "name": "stdout",
          "text": [
            "1\n"
          ]
        }
      ]
    },
    {
      "cell_type": "markdown",
      "source": [
        "## global"
      ],
      "metadata": {
        "id": "8DPovJYyTBxG"
      }
    },
    {
      "cell_type": "code",
      "source": [
        "a = 1\n",
        "def vartest():\n",
        "    global a\n",
        "    a = a+1\n",
        "\n",
        "vartest()\n",
        "print(a)"
      ],
      "metadata": {
        "colab": {
          "base_uri": "https://localhost:8080/"
        },
        "id": "7qaQw2-9S_Wz",
        "outputId": "15454eea-4846-40c8-a26e-7e9d941ba185"
      },
      "execution_count": null,
      "outputs": [
        {
          "output_type": "stream",
          "name": "stdout",
          "text": [
            "2\n"
          ]
        }
      ]
    },
    {
      "cell_type": "markdown",
      "source": [
        "## lambda"
      ],
      "metadata": {
        "id": "1AjDLNddTFG-"
      }
    },
    {
      "cell_type": "markdown",
      "source": [
        "lambda_람다식 : 인터페이스형태의 실행문이 <1개>인 코드\n",
        "\n",
        "파이썬 : 변수(함수명) = lambda 매개변수: 실행문\n",
        "\n",
        "자바 : -> 이용\n",
        "\n",
        "자바스크립트 => 이용"
      ],
      "metadata": {
        "id": "cI1SseW6TIYc"
      }
    },
    {
      "cell_type": "code",
      "source": [
        "add = lambda a, b:a+b\n",
        "result = add(3,4)\n",
        "print(result)"
      ],
      "metadata": {
        "colab": {
          "base_uri": "https://localhost:8080/"
        },
        "id": "VhJ0BJCXTSuK",
        "outputId": "326b731f-9c4b-4c89-bda8-74b77ea1c8f4"
      },
      "execution_count": null,
      "outputs": [
        {
          "output_type": "stream",
          "name": "stdout",
          "text": [
            "7\n"
          ]
        }
      ]
    }
  ]
}