{
  "nbformat": 4,
  "nbformat_minor": 0,
  "metadata": {
    "colab": {
      "provenance": [],
      "toc_visible": true,
      "authorship_tag": "ABX9TyNKiA24/DfqKJyX6mJk8JlA",
      "include_colab_link": true
    },
    "kernelspec": {
      "name": "python3",
      "display_name": "Python 3"
    },
    "language_info": {
      "name": "python"
    }
  },
  "cells": [
    {
      "cell_type": "markdown",
      "metadata": {
        "id": "view-in-github",
        "colab_type": "text"
      },
      "source": [
        "<a href=\"https://colab.research.google.com/github/Kim-JungHyun01/PythonStudy24/blob/master/%EC%9D%B4%EB%A1%A0%EA%B3%BC%EC%A0%95/DictionaryType.ipynb\" target=\"_parent\"><img src=\"https://colab.research.google.com/assets/colab-badge.svg\" alt=\"Open In Colab\"/></a>"
      ]
    },
    {
      "cell_type": "markdown",
      "source": [
        "# 파이썬 기초학습 2일차 2024.12.19"
      ],
      "metadata": {
        "id": "wMfcBbO1Y24Q"
      }
    },
    {
      "cell_type": "markdown",
      "source": [
        "## 딕셔너리 자료형"
      ],
      "metadata": {
        "id": "i83JY-Wnc0QO"
      }
    },
    {
      "cell_type": "markdown",
      "source": [
        "- dictionary : 사전\n",
        "- 형태 : 중괄호{}이용, 쉼표(,)로 구분/ {key : value, key : value}\n",
        "- 순차적으로 해당 요솟값을 구하지 않음(리스트, 튜블등) => key를 이용"
      ],
      "metadata": {
        "id": "-HSA-8t_dAKf"
      }
    },
    {
      "cell_type": "code",
      "source": [
        "# 딕셔너리 생성 : {key : value}\n",
        "dic = {'name' : 'pey', 'phone' : '0119993323', 'birth' : '1118'}\n",
        "print(dic)\n",
        "# key     value\n",
        "# name    pey\n",
        "# phone   0119993323\n",
        "# birth   1118"
      ],
      "metadata": {
        "colab": {
          "base_uri": "https://localhost:8080/"
        },
        "id": "R1noc_X_d552",
        "outputId": "14f193d5-b2a9-4de3-e463-5a8f78316fc2"
      },
      "execution_count": 1,
      "outputs": [
        {
          "output_type": "stream",
          "name": "stdout",
          "text": [
            "{'name': 'pey', 'phone': '0119993323', 'birth': '1118'}\n"
          ]
        }
      ]
    },
    {
      "cell_type": "code",
      "source": [
        "# 딕셔너리 생성_2\n",
        "a = {1 : 'hi'}        #key : 정수\n",
        "b= {'a' : [1, 2, 3]}  #value : 리스트\n",
        "print(a)\n",
        "print(b)"
      ],
      "metadata": {
        "colab": {
          "base_uri": "https://localhost:8080/"
        },
        "id": "53EcsqI8eC5n",
        "outputId": "a4816a62-929b-460b-d789-d6553fff9320"
      },
      "execution_count": 5,
      "outputs": [
        {
          "output_type": "stream",
          "name": "stdout",
          "text": [
            "{1: 'hi'}\n",
            "{'a': [1, 2, 3]}\n"
          ]
        }
      ]
    },
    {
      "cell_type": "markdown",
      "source": [
        "### 딕셔너리 추가 & 삭제"
      ],
      "metadata": {
        "id": "JAwz-13OfEIK"
      }
    },
    {
      "cell_type": "code",
      "source": [
        "#딕셔너리 추가 : 따로 함수없이 추가가능\n",
        "a = {1 : 'a'}\n",
        "print(a)\n",
        "\n",
        "a[2] = 'b' # key : 1 / value : b\n",
        "a[3] = [1,2,3] #리스트 추가 가능\n",
        "print(a)\n",
        "\n",
        "#단, key의 값이 같을 경우 value값만 변경\n",
        "a[1] = 3\n",
        "print(a)"
      ],
      "metadata": {
        "colab": {
          "base_uri": "https://localhost:8080/"
        },
        "id": "j76480W8fQu_",
        "outputId": "d1df5d83-0e0f-4fc0-8fcc-ca1d402968dd"
      },
      "execution_count": 9,
      "outputs": [
        {
          "output_type": "stream",
          "name": "stdout",
          "text": [
            "{1: 'a'}\n",
            "{1: 'a', 2: 'b', 3: [1, 2, 3]}\n",
            "{1: 3, 2: 'b', 3: [1, 2, 3]}\n"
          ]
        }
      ]
    },
    {
      "cell_type": "code",
      "source": [
        "#딕셔너리 삭제\n",
        "del a[1]\n",
        "print(a)"
      ],
      "metadata": {
        "colab": {
          "base_uri": "https://localhost:8080/"
        },
        "id": "jPAdRcW2js63",
        "outputId": "b3a4c7e6-b9af-4318-c11a-148696f4204a"
      },
      "execution_count": 10,
      "outputs": [
        {
          "output_type": "stream",
          "name": "stdout",
          "text": [
            "{2: 'b', 3: [1, 2, 3]}\n"
          ]
        }
      ]
    },
    {
      "cell_type": "markdown",
      "source": [
        "### value 값 찾기"
      ],
      "metadata": {
        "id": "J2be1boyj1vM"
      }
    },
    {
      "cell_type": "code",
      "source": [
        "#key값이용\n",
        "grade = {'pey': 10, 'julliet': 99}\n",
        "print(grade['pey'])\n",
        "print(grade['jul']) #key 값이 없을 경우, key오류"
      ],
      "metadata": {
        "colab": {
          "base_uri": "https://localhost:8080/",
          "height": 202
        },
        "id": "KwTV-FrCj5_l",
        "outputId": "76bfa234-6fb1-45e5-d3cc-6c3ca9ab67db"
      },
      "execution_count": 12,
      "outputs": [
        {
          "output_type": "stream",
          "name": "stdout",
          "text": [
            "10\n"
          ]
        },
        {
          "output_type": "error",
          "ename": "KeyError",
          "evalue": "'jul'",
          "traceback": [
            "\u001b[0;31m---------------------------------------------------------------------------\u001b[0m",
            "\u001b[0;31mKeyError\u001b[0m                                  Traceback (most recent call last)",
            "\u001b[0;32m<ipython-input-12-d92c68ec168f>\u001b[0m in \u001b[0;36m<cell line: 4>\u001b[0;34m()\u001b[0m\n\u001b[1;32m      2\u001b[0m \u001b[0mgrade\u001b[0m \u001b[0;34m=\u001b[0m \u001b[0;34m{\u001b[0m\u001b[0;34m'pey'\u001b[0m\u001b[0;34m:\u001b[0m \u001b[0;36m10\u001b[0m\u001b[0;34m,\u001b[0m \u001b[0;34m'julliet'\u001b[0m\u001b[0;34m:\u001b[0m \u001b[0;36m99\u001b[0m\u001b[0;34m}\u001b[0m\u001b[0;34m\u001b[0m\u001b[0;34m\u001b[0m\u001b[0m\n\u001b[1;32m      3\u001b[0m \u001b[0mprint\u001b[0m\u001b[0;34m(\u001b[0m\u001b[0mgrade\u001b[0m\u001b[0;34m[\u001b[0m\u001b[0;34m'pey'\u001b[0m\u001b[0;34m]\u001b[0m\u001b[0;34m)\u001b[0m\u001b[0;34m\u001b[0m\u001b[0;34m\u001b[0m\u001b[0m\n\u001b[0;32m----> 4\u001b[0;31m \u001b[0mprint\u001b[0m\u001b[0;34m(\u001b[0m\u001b[0mgrade\u001b[0m\u001b[0;34m[\u001b[0m\u001b[0;34m'jul'\u001b[0m\u001b[0;34m]\u001b[0m\u001b[0;34m)\u001b[0m\u001b[0;34m\u001b[0m\u001b[0;34m\u001b[0m\u001b[0m\n\u001b[0m",
            "\u001b[0;31mKeyError\u001b[0m: 'jul'"
          ]
        }
      ]
    },
    {
      "cell_type": "code",
      "source": [
        "#key의 값은 다양한 타입이 가능\n",
        "a = {1 : 'a', 2 : 'b'}\n",
        "b = {'b' : 1, \"a\" : 2}\n",
        "print(a[1])\n",
        "print(b['b'])"
      ],
      "metadata": {
        "colab": {
          "base_uri": "https://localhost:8080/"
        },
        "id": "qy-TH5JUku5J",
        "outputId": "129842af-e873-48f5-ceff-4719e929392a"
      },
      "execution_count": 13,
      "outputs": [
        {
          "output_type": "stream",
          "name": "stdout",
          "text": [
            "a\n",
            "1\n"
          ]
        }
      ]
    },
    {
      "cell_type": "markdown",
      "source": [
        "### 주의사항"
      ],
      "metadata": {
        "id": "ytiuPT-Elj-3"
      }
    },
    {
      "cell_type": "code",
      "source": [
        "# key는 고유값으로 중복된 key는 무시\n",
        "a = {2 : 'c', 1 : 'a', 1 : 'b'}\n",
        "print(a)\n",
        "# 앞의 value값을 무시 => 이전값에 이후값이 대입되는 형태"
      ],
      "metadata": {
        "colab": {
          "base_uri": "https://localhost:8080/"
        },
        "id": "iJ3raj1XllcK",
        "outputId": "c37656c2-c621-4f6b-ed5f-7da1068c8e6e"
      },
      "execution_count": 16,
      "outputs": [
        {
          "output_type": "stream",
          "name": "stdout",
          "text": [
            "{2: 'c', 1: 'b'}\n"
          ]
        }
      ]
    },
    {
      "cell_type": "code",
      "source": [
        "# key는 정수, 문자열가능 / 리스트x\n",
        "a = {[1,2] : 'grade'}\n",
        "print(a)"
      ],
      "metadata": {
        "colab": {
          "base_uri": "https://localhost:8080/",
          "height": 184
        },
        "id": "JYFFI9JVl_MR",
        "outputId": "acafddab-4a47-4560-ac8c-12c6c9a4d5da"
      },
      "execution_count": 17,
      "outputs": [
        {
          "output_type": "error",
          "ename": "TypeError",
          "evalue": "unhashable type: 'list'",
          "traceback": [
            "\u001b[0;31m---------------------------------------------------------------------------\u001b[0m",
            "\u001b[0;31mTypeError\u001b[0m                                 Traceback (most recent call last)",
            "\u001b[0;32m<ipython-input-17-4bfa8cc7d571>\u001b[0m in \u001b[0;36m<cell line: 2>\u001b[0;34m()\u001b[0m\n\u001b[1;32m      1\u001b[0m \u001b[0;31m# key는 정수, 문자열가능 / 리스트x\u001b[0m\u001b[0;34m\u001b[0m\u001b[0;34m\u001b[0m\u001b[0m\n\u001b[0;32m----> 2\u001b[0;31m \u001b[0ma\u001b[0m \u001b[0;34m=\u001b[0m \u001b[0;34m{\u001b[0m\u001b[0;34m[\u001b[0m\u001b[0;36m1\u001b[0m\u001b[0;34m,\u001b[0m\u001b[0;36m2\u001b[0m\u001b[0;34m]\u001b[0m \u001b[0;34m:\u001b[0m \u001b[0;34m'grade'\u001b[0m\u001b[0;34m}\u001b[0m\u001b[0;34m\u001b[0m\u001b[0;34m\u001b[0m\u001b[0m\n\u001b[0m\u001b[1;32m      3\u001b[0m \u001b[0mprint\u001b[0m\u001b[0;34m(\u001b[0m\u001b[0ma\u001b[0m\u001b[0;34m)\u001b[0m\u001b[0;34m\u001b[0m\u001b[0;34m\u001b[0m\u001b[0m\n",
            "\u001b[0;31mTypeError\u001b[0m: unhashable type: 'list'"
          ]
        }
      ]
    },
    {
      "cell_type": "markdown",
      "source": [
        "### .keys()"
      ],
      "metadata": {
        "id": "fQY8Lv-inKYA"
      }
    },
    {
      "cell_type": "code",
      "source": [
        "#key만 리스트형태로 출력 : .keys()\n",
        "a = {'name' : 'pey', 'phone' : '0119993323', 'birth' : '1118'}\n",
        "print(a.keys())\n",
        "#메모리 낭비를 방지하기 위해 dict_keys 객체로 리턴\n",
        "list(a.keys())"
      ],
      "metadata": {
        "colab": {
          "base_uri": "https://localhost:8080/"
        },
        "id": "U4SqWQ1imTR2",
        "outputId": "e4e29473-d177-4d3d-9354-39bf72afe8f0"
      },
      "execution_count": 30,
      "outputs": [
        {
          "output_type": "stream",
          "name": "stdout",
          "text": [
            "dict_keys(['name', 'phone', 'birth'])\n"
          ]
        },
        {
          "output_type": "execute_result",
          "data": {
            "text/plain": [
              "['name', 'phone', 'birth']"
            ]
          },
          "metadata": {},
          "execution_count": 30
        }
      ]
    },
    {
      "cell_type": "code",
      "source": [
        "for k in a.keys():\n",
        "  print(k)"
      ],
      "metadata": {
        "colab": {
          "base_uri": "https://localhost:8080/"
        },
        "id": "Y1Rz-sgTm5eM",
        "outputId": "5e5f6804-a564-4105-bb4f-8765668f696d"
      },
      "execution_count": 23,
      "outputs": [
        {
          "output_type": "stream",
          "name": "stdout",
          "text": [
            "name\n",
            "phone\n",
            "birth\n"
          ]
        }
      ]
    },
    {
      "cell_type": "markdown",
      "source": [
        "### .values()"
      ],
      "metadata": {
        "id": "d3dWc3WVnOyx"
      }
    },
    {
      "cell_type": "code",
      "source": [
        "#value 리스트 형태로 출력 : .values()\n",
        "print(a.values())\n",
        "list(a.values())"
      ],
      "metadata": {
        "colab": {
          "base_uri": "https://localhost:8080/"
        },
        "id": "NuhuriVanXtY",
        "outputId": "f52aca27-554d-4005-987a-ca7be85e6b1a"
      },
      "execution_count": 29,
      "outputs": [
        {
          "output_type": "stream",
          "name": "stdout",
          "text": [
            "dict_values(['pey', '0119993323', '1118'])\n"
          ]
        },
        {
          "output_type": "execute_result",
          "data": {
            "text/plain": [
              "['pey', '0119993323', '1118']"
            ]
          },
          "metadata": {},
          "execution_count": 29
        }
      ]
    },
    {
      "cell_type": "markdown",
      "source": [
        "### .items()"
      ],
      "metadata": {
        "id": "U02MzFc7neN9"
      }
    },
    {
      "cell_type": "code",
      "source": [
        "#key, value 둘다 출력 : .items()\n",
        "print(a.items())\n",
        "list(a.items())"
      ],
      "metadata": {
        "colab": {
          "base_uri": "https://localhost:8080/"
        },
        "id": "3LR-MKIknwxw",
        "outputId": "08ff48e9-d306-40e8-d291-fb52f6c7bd7c"
      },
      "execution_count": 31,
      "outputs": [
        {
          "output_type": "stream",
          "name": "stdout",
          "text": [
            "dict_items([('name', 'pey'), ('phone', '0119993323'), ('birth', '1118')])\n"
          ]
        },
        {
          "output_type": "execute_result",
          "data": {
            "text/plain": [
              "[('name', 'pey'), ('phone', '0119993323'), ('birth', '1118')]"
            ]
          },
          "metadata": {},
          "execution_count": 31
        }
      ]
    },
    {
      "cell_type": "markdown",
      "source": [
        "### .clear()"
      ],
      "metadata": {
        "id": "uSEEwBMkoAbV"
      }
    },
    {
      "cell_type": "code",
      "source": [
        "#key: value모두 지우기\n",
        "a = {'name' : 'pey', 'phone' : '0119993323', 'birth' : '1118'}\n",
        "a.clear()\n",
        "print(a) #빈 딕셔너리 : 중괄호{}"
      ],
      "metadata": {
        "colab": {
          "base_uri": "https://localhost:8080/"
        },
        "id": "5AoUv3jNoDR-",
        "outputId": "b5fecfc1-3344-4f8a-d524-12eedaec1336"
      },
      "execution_count": 33,
      "outputs": [
        {
          "output_type": "stream",
          "name": "stdout",
          "text": [
            "{}\n"
          ]
        }
      ]
    },
    {
      "cell_type": "markdown",
      "source": [
        "### .get()"
      ],
      "metadata": {
        "id": "weGKQ2xFoQX3"
      }
    },
    {
      "cell_type": "code",
      "source": [
        "#value값 찾기_2 : .get(key값)\n",
        "a = {'name' : 'pey', 'phone' : '0119993323', 'birth' : '1118'}\n",
        "print(a.get('name'))\n",
        "print(a.get('phone'))"
      ],
      "metadata": {
        "colab": {
          "base_uri": "https://localhost:8080/"
        },
        "id": "F3o4vOcEoWm6",
        "outputId": "7a590216-183b-453a-ceb4-d441adf75fec"
      },
      "execution_count": 34,
      "outputs": [
        {
          "output_type": "stream",
          "name": "stdout",
          "text": [
            "pey\n",
            "0119993323\n"
          ]
        }
      ]
    },
    {
      "cell_type": "code",
      "source": [
        "#key값이 없을 경우, 출력문 차이\n",
        "print(a.get('nokey')) #None : 없음==null\n",
        "print(a['nokey']) #key 오류"
      ],
      "metadata": {
        "colab": {
          "base_uri": "https://localhost:8080/",
          "height": 202
        },
        "id": "lQapKU_hog3F",
        "outputId": "bcc58797-5d28-4b4b-ebb5-07978d2d4c03"
      },
      "execution_count": 35,
      "outputs": [
        {
          "output_type": "stream",
          "name": "stdout",
          "text": [
            "None\n"
          ]
        },
        {
          "output_type": "error",
          "ename": "KeyError",
          "evalue": "'nokey'",
          "traceback": [
            "\u001b[0;31m---------------------------------------------------------------------------\u001b[0m",
            "\u001b[0;31mKeyError\u001b[0m                                  Traceback (most recent call last)",
            "\u001b[0;32m<ipython-input-35-38417810849d>\u001b[0m in \u001b[0;36m<cell line: 3>\u001b[0;34m()\u001b[0m\n\u001b[1;32m      1\u001b[0m \u001b[0;31m#key값이 없을 경우, 출력문 차이\u001b[0m\u001b[0;34m\u001b[0m\u001b[0;34m\u001b[0m\u001b[0m\n\u001b[1;32m      2\u001b[0m \u001b[0mprint\u001b[0m\u001b[0;34m(\u001b[0m\u001b[0ma\u001b[0m\u001b[0;34m.\u001b[0m\u001b[0mget\u001b[0m\u001b[0;34m(\u001b[0m\u001b[0;34m'nokey'\u001b[0m\u001b[0;34m)\u001b[0m\u001b[0;34m)\u001b[0m \u001b[0;31m#None\u001b[0m\u001b[0;34m\u001b[0m\u001b[0;34m\u001b[0m\u001b[0m\n\u001b[0;32m----> 3\u001b[0;31m \u001b[0mprint\u001b[0m\u001b[0;34m(\u001b[0m\u001b[0ma\u001b[0m\u001b[0;34m[\u001b[0m\u001b[0;34m'nokey'\u001b[0m\u001b[0;34m]\u001b[0m\u001b[0;34m)\u001b[0m \u001b[0;31m#key 오류\u001b[0m\u001b[0;34m\u001b[0m\u001b[0;34m\u001b[0m\u001b[0m\n\u001b[0m",
            "\u001b[0;31mKeyError\u001b[0m: 'nokey'"
          ]
        }
      ]
    },
    {
      "cell_type": "code",
      "source": [
        "#key값이 없을 경우 디폴트 값 지정 : .get(key값, 디폴트값)\n",
        "print(a.get('nokey', 'null'))"
      ],
      "metadata": {
        "colab": {
          "base_uri": "https://localhost:8080/"
        },
        "id": "ozi9j6byookr",
        "outputId": "1b81266f-7833-474c-f9c0-fcbf6b9cdcd1"
      },
      "execution_count": 36,
      "outputs": [
        {
          "output_type": "stream",
          "name": "stdout",
          "text": [
            "null\n"
          ]
        }
      ]
    },
    {
      "cell_type": "markdown",
      "source": [
        "### in"
      ],
      "metadata": {
        "id": "8jktbGono6Ec"
      }
    },
    {
      "cell_type": "code",
      "source": [
        "#key값이 딕셔너리에 있는지 확인 : key값 in 딕셔너리 => boolean형태로 출력\n",
        "a = {'name' : 'pey', 'phone' : '0119993323', 'birth' : '1118'}\n",
        "print('name' in a)\n",
        "print('email' in a)"
      ],
      "metadata": {
        "colab": {
          "base_uri": "https://localhost:8080/"
        },
        "id": "Qa-d-mDjo8kO",
        "outputId": "f69a559d-b56a-4cb0-9bf4-37f260c59cf6"
      },
      "execution_count": 37,
      "outputs": [
        {
          "output_type": "stream",
          "name": "stdout",
          "text": [
            "True\n",
            "False\n"
          ]
        }
      ]
    }
  ]
}