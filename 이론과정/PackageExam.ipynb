{
  "nbformat": 4,
  "nbformat_minor": 0,
  "metadata": {
    "colab": {
      "provenance": [],
      "toc_visible": true,
      "authorship_tag": "ABX9TyNcTDT4QSJLz6LMu5NsrnDG",
      "include_colab_link": true
    },
    "kernelspec": {
      "name": "python3",
      "display_name": "Python 3"
    },
    "language_info": {
      "name": "python"
    }
  },
  "cells": [
    {
      "cell_type": "markdown",
      "metadata": {
        "id": "view-in-github",
        "colab_type": "text"
      },
      "source": [
        "<a href=\"https://colab.research.google.com/github/Kim-JungHyun01/PythonStudy24/blob/master/%EC%9D%B4%EB%A1%A0%EA%B3%BC%EC%A0%95/PackageExam.ipynb\" target=\"_parent\"><img src=\"https://colab.research.google.com/assets/colab-badge.svg\" alt=\"Open In Colab\"/></a>"
      ]
    },
    {
      "cell_type": "markdown",
      "source": [
        "# 파이썬 기초학습 5일차 2024.12.24"
      ],
      "metadata": {
        "id": "1JnKAJH2okZr"
      }
    },
    {
      "cell_type": "markdown",
      "source": [
        "## 모듈"
      ],
      "metadata": {
        "id": "y_KE1nPro4uw"
      }
    },
    {
      "cell_type": "markdown",
      "source": [
        "모듈\n",
        "- 함수나 변수, 클래스를 모아둔 파일\n",
        "- 파이썬 확장자(.py)로 만든 파이썬 파일\n",
        "- 모듈 불러오기 : import 모듈명 (.py의 확장자 제외)\n",
        "- 모듈의 함수 : from 모듈명 import 모듈_함수"
      ],
      "metadata": {
        "id": "X4wmhCJyo8W2"
      }
    },
    {
      "cell_type": "code",
      "source": [
        "#mod1.py\n",
        "def add(a, b):\n",
        "    return a+b\n",
        "\n",
        "def sub(a, b):\n",
        "    return a-b"
      ],
      "metadata": {
        "id": "Rnn7uFwQpagR"
      },
      "execution_count": null,
      "outputs": []
    },
    {
      "cell_type": "markdown",
      "source": [
        "cmd 사용시 python 연결\n",
        "\n",
        "1.현재장소에서 최 상단 디렉토리로 이동\n",
        "\n",
        "C:\\Users> cd /\n",
        "\n",
        "결과 : C:\\>\n",
        "\n",
        "2.현재 폴더의 파일확인\n",
        "\n",
        "C:\\> dir\n",
        "\n",
        "3.파이썬 프로그램 연걸\n",
        "\n",
        "C:\\>python\n",
        "\n",
        "결과 : Python 3.11.2 ...\n",
        "\n",
        "다음 입력창이 >>>로 바뀜\n",
        "\n",
        "(다음 내용이 나오지 않았을 경우, PATH연결확인)"
      ],
      "metadata": {
        "id": "mqRC4ASyptWk"
      }
    },
    {
      "cell_type": "markdown",
      "source": [
        "### import, for import"
      ],
      "metadata": {
        "id": "8_MLnlnLrXPd"
      }
    },
    {
      "cell_type": "code",
      "source": [
        "#main.py\n",
        "import mod1 #확장자 제외\n",
        "\n",
        "print(mod1.add(3, 4))\n",
        "print(mod1.sub(4, 2))"
      ],
      "metadata": {
        "id": "oFVLOIk0pg01"
      },
      "execution_count": null,
      "outputs": []
    },
    {
      "cell_type": "code",
      "source": [
        "#모듈 함수_1\n",
        "from mod1 import add\n",
        "print(add(1,4))"
      ],
      "metadata": {
        "id": "KdaTSZowq8yP"
      },
      "execution_count": null,
      "outputs": []
    },
    {
      "cell_type": "code",
      "source": [
        "# 모듈 함수_2\n",
        "from mod1 import add, sub # 필요한 함수만\n",
        "from mod1 import * # 전체 함수"
      ],
      "metadata": {
        "id": "DfKtVB6NrVgX"
      },
      "execution_count": null,
      "outputs": []
    },
    {
      "cell_type": "markdown",
      "source": [
        "### _ _ main _ _"
      ],
      "metadata": {
        "id": "M3boSaQ3sGAQ"
      }
    },
    {
      "cell_type": "markdown",
      "source": [
        "- _ _ name _ _ : 현재 자신의 상태를 확인하는 지정어\n",
        "\n",
        "\n",
        "- _ _ main _ _ : 주동작 모듈인지 확인 = 현재 자신모듈에서 돌아가는지 혹은 다른 곳에서 동작중인지 확인"
      ],
      "metadata": {
        "id": "l9KyGVqFsYxf"
      }
    },
    {
      "cell_type": "code",
      "source": [
        "#mod1.py 수정 전\n",
        "def add(a, b):\n",
        "    return a+b\n",
        "\n",
        "def sub(a, b):\n",
        "    return a-b\n",
        "\n",
        "print(__name__) #현재 자신의 상태확인용\n",
        "print(add(1,4))\n",
        "print(sub(5,3))"
      ],
      "metadata": {
        "id": "j1619erYsL9i"
      },
      "execution_count": null,
      "outputs": []
    },
    {
      "cell_type": "code",
      "source": [
        "#main.py\n",
        "import mod1\n",
        "5\n",
        "2\n",
        "\n",
        "#import시 print가 자동으로 입력"
      ],
      "metadata": {
        "id": "AV5bI4EmtDYn"
      },
      "execution_count": null,
      "outputs": []
    },
    {
      "cell_type": "code",
      "source": [
        "#mod1.py 수정 후\n",
        "def add(a, b):\n",
        "    return a+b\n",
        "\n",
        "def sub(a, b):\n",
        "    return a-b\n",
        "\n",
        "# 직접 실행시 __main__ / import시 해당 모델\n",
        "if __name__ == \"__main__\":\n",
        "    print(__name__) #현재 자신의 상태확인용\n",
        "    print(add(1,4))\n",
        "    print(sub(5,3))\n",
        "\n",
        "# c:/python mod1.py을 바로 실행할시 _ _ name _ _은 main이 된다.\n",
        "# 단, main.py에서 mod1.py을 실행시 _ _ name _ _은 mod1이 된다."
      ],
      "metadata": {
        "id": "UEhDaNYjs41A"
      },
      "execution_count": null,
      "outputs": []
    },
    {
      "cell_type": "code",
      "source": [
        "#main.py\n",
        "import mod1\n",
        "#print 작동x"
      ],
      "metadata": {
        "id": "ArXZxYRitVFA"
      },
      "execution_count": null,
      "outputs": []
    },
    {
      "cell_type": "markdown",
      "source": [
        "### 같은 디렉토리에 존재하는 모듈"
      ],
      "metadata": {
        "id": "gqvyHd9CuHgn"
      }
    },
    {
      "cell_type": "code",
      "source": [
        "#mod2.py\n",
        "#필드\n",
        "PI = 3.1415926535\n",
        "\n",
        "#클래스\n",
        "class Math:\n",
        "    #메서드\n",
        "    def solv(self, r):\n",
        "         return PI * (r**2)\n",
        "\n",
        "#함수\n",
        "def add(a, b):\n",
        "    return a+b"
      ],
      "metadata": {
        "id": "t4l9DihSuJ97"
      },
      "execution_count": null,
      "outputs": []
    },
    {
      "cell_type": "code",
      "source": [
        "#main.py 필드\n",
        "import mod2\n",
        "print(mod2.PI)\n",
        "\n",
        "#결과 : 3.141592"
      ],
      "metadata": {
        "id": "e9YqejlCuQaj"
      },
      "execution_count": null,
      "outputs": []
    },
    {
      "cell_type": "code",
      "source": [
        "#main.py 클래스\n",
        "import mod2\n",
        "\n",
        "a = mod2.Math()\n",
        "print(a.solv(2))\n",
        "\n",
        "#결과 : 12.566368"
      ],
      "metadata": {
        "id": "jmqzYALTuYHS"
      },
      "execution_count": null,
      "outputs": []
    },
    {
      "cell_type": "code",
      "source": [
        "#main.py 함수\n",
        "import mod2\n",
        "\n",
        "result = mod2.add(3, 4)\n",
        "print(result)\n",
        "\n",
        "#결과 : 7"
      ],
      "metadata": {
        "id": "aXxNUrSNul5o"
      },
      "execution_count": null,
      "outputs": []
    },
    {
      "cell_type": "markdown",
      "source": [
        "### 다른 디렉토리의 모듈 (cmd기준)"
      ],
      "metadata": {
        "id": "yDLCx3UvuxZQ"
      }
    },
    {
      "cell_type": "markdown",
      "source": [
        "#### sys.path.append이용"
      ],
      "metadata": {
        "id": "VKoKYhIyu2iO"
      }
    },
    {
      "cell_type": "markdown",
      "source": [
        "import sys => sys라이브러리 불러오기\n",
        "\n",
        "sys.path : 파이썬 라이브러리가 설치되어 있는 디렉토리 목록 확인 (저장시 어디서든 사용가능)\n",
        "\n",
        "sys.path.append(\"C:/doit/mymod\") : mymod에 있는 모든 .py 파일"
      ],
      "metadata": {
        "id": "rtBqxBy_vCgv"
      }
    },
    {
      "cell_type": "markdown",
      "source": [
        "#### PYTHONPATH이용"
      ],
      "metadata": {
        "id": "BOcajlkiviAV"
      }
    },
    {
      "cell_type": "markdown",
      "source": [
        "C:\\doit>set PYTHONPATH=C:\\doit\\mymod\n",
        "\n",
        "(뛰어쓰지 주의)\n",
        "\n",
        "C:\\doit>python\n",
        "\n",
        "(파이썬 PATH이용)"
      ],
      "metadata": {
        "id": "F2B82gtJvlXO"
      }
    },
    {
      "cell_type": "markdown",
      "source": [
        "## 패키지"
      ],
      "metadata": {
        "id": "9JLO_Vc8v_ws"
      }
    },
    {
      "cell_type": "markdown",
      "source": [
        "파이썬 모듈을 계층적으로 관리하는 것(디렉토리 구조)"
      ],
      "metadata": {
        "id": "-hahVqEBwBUc"
      }
    },
    {
      "cell_type": "markdown",
      "source": [
        "ex) game 패키지\n",
        "```\n",
        "game/\n",
        "    __init__.py\n",
        "    sound/\n",
        "        __init__.py\n",
        "        echo.py\n",
        "    graphic/\n",
        "        __init__.py\n",
        "        render.py\n",
        "```\n",
        "메인 디렉토리 : game\n",
        "\n",
        "서브 디렉토리 : sound, graphic\n",
        "\n",
        "모듈 : _ _ init _ _.py, echo.py, render.py"
      ],
      "metadata": {
        "id": "-6WZZZSgwSys"
      }
    },
    {
      "cell_type": "code",
      "source": [
        "#echo.py\n",
        "#경로 : C:/doit/game/sound/echo.py\n",
        "def echo_test():\n",
        "    print(\"echo\")"
      ],
      "metadata": {
        "id": "XTcuYhbOwdD-"
      },
      "execution_count": null,
      "outputs": []
    },
    {
      "cell_type": "code",
      "source": [
        "# render.py\n",
        "# 경로 : C:/doit/game/graphic/render.py\n",
        "def render_test():\n",
        "    print(\"render\")"
      ],
      "metadata": {
        "id": "elUDV8whw1p3"
      },
      "execution_count": null,
      "outputs": []
    },
    {
      "cell_type": "markdown",
      "source": [
        "### 패키지 안의 함수실행"
      ],
      "metadata": {
        "id": "Mk_y-qzew5s2"
      }
    },
    {
      "cell_type": "code",
      "source": [
        "# 방법_1\n",
        "# import에 디렉토리의 경로를 전부 입력\n",
        "import game.sound.echo\n",
        "\n",
        "game.sound.echo.echo_test()\n",
        "\n",
        "# 결과 : echo"
      ],
      "metadata": {
        "id": "L6iP1g44w-uJ"
      },
      "execution_count": null,
      "outputs": []
    },
    {
      "cell_type": "code",
      "source": [
        "# 방법_2\n",
        "# from import 이용_1\n",
        "from game.sound import echo\n",
        "\n",
        "echo.echo_test()\n",
        "\n",
        "# 결과 : echo"
      ],
      "metadata": {
        "id": "TqdMeFNhxUGT"
      },
      "execution_count": null,
      "outputs": []
    },
    {
      "cell_type": "code",
      "source": [
        "# 방법_3\n",
        "# from import 이용_2\n",
        "from game.sound.echo import echo_test\n",
        "\n",
        "echo_test()\n",
        "\n",
        "# 결과 : echo"
      ],
      "metadata": {
        "id": "aQFEpL0KxgMN"
      },
      "execution_count": null,
      "outputs": []
    },
    {
      "cell_type": "code",
      "source": [],
      "metadata": {
        "id": "dEWjuvqUxoS5"
      },
      "execution_count": null,
      "outputs": []
    },
    {
      "cell_type": "code",
      "source": [],
      "metadata": {
        "id": "2Bs6suybyAy-"
      },
      "execution_count": null,
      "outputs": []
    },
    {
      "cell_type": "markdown",
      "source": [
        "### _ _ init _ _.py 란"
      ],
      "metadata": {
        "id": "0QNNA6gXyYes"
      }
    },
    {
      "cell_type": "markdown",
      "source": [
        " - 해당 디렉토리가 패키지의 일부임을 알려주는 역활\n",
        " - 패키지에 포함된 디렉터리에 _ _ init _ _.py가 없을 시 패키지로 인식되지 않음\n",
        " - 패키지 관련 설정 및 초기화 코드포함"
      ],
      "metadata": {
        "id": "sGWWMXbDycRk"
      }
    },
    {
      "cell_type": "code",
      "source": [
        "#game/__init__.py\n",
        "VERSION = \"3.11.2\"\n",
        "\n",
        "def print_version_info():\n",
        "    print(f\"The version of this game is {VERSION}\")"
      ],
      "metadata": {
        "id": "LAUw_6WLy4b2"
      },
      "execution_count": null,
      "outputs": []
    },
    {
      "cell_type": "code",
      "source": [
        "import game\n",
        "\n",
        "print(game.VERSION)\n",
        "# 3.11.2\n",
        "\n",
        "game.print_version_info()\n",
        "#The version of this game is 3.11.2"
      ],
      "metadata": {
        "id": "ng9dY8Ihy-4I"
      },
      "execution_count": null,
      "outputs": []
    },
    {
      "cell_type": "markdown",
      "source": [
        "### 패키지 내 모듈 미리 import"
      ],
      "metadata": {
        "id": "Ketj2Lgpz4b7"
      }
    },
    {
      "cell_type": "code",
      "source": [
        "# game/__init__.py\n",
        "# 맨앞의 . : 현재 디렉토리 의미\n",
        "# game 디렉토리에 있는 graphic 디렉토리에 접근\n",
        "from .graphic.render import render_test\n",
        "\n",
        "VERSION = \"3.11.2\"\n",
        "\n",
        "def print_version_info():\n",
        "    print(f\"The version of this game is {VERSION}\")"
      ],
      "metadata": {
        "id": "UdJg7tJ-z76j"
      },
      "execution_count": null,
      "outputs": []
    },
    {
      "cell_type": "code",
      "source": [
        "import game\n",
        "\n",
        "game.render_test()\n",
        "\n",
        "#결과 : render"
      ],
      "metadata": {
        "id": "EiRwiWiN0EDE"
      },
      "execution_count": null,
      "outputs": []
    },
    {
      "cell_type": "markdown",
      "source": [
        "### 패키지 초기화"
      ],
      "metadata": {
        "id": "77aShTG60YVE"
      }
    },
    {
      "cell_type": "code",
      "source": [
        "from .graphic.render import render_test\n",
        "\n",
        "VERSION = \"3.11.2\"\n",
        "\n",
        "def print_version_info():\n",
        "    print(f\"The version of this game is {VERSION}\")\n",
        "\n",
        "# 패키지 실행 초기화 문구\n",
        "print(\"Initializing game...\")\n",
        "print(\"Loading...\")"
      ],
      "metadata": {
        "id": "BKQVELAU0ZwZ"
      },
      "execution_count": null,
      "outputs": []
    },
    {
      "cell_type": "code",
      "source": [
        "import game\n",
        "\n",
        "#초기화 문구출력 import시 바로 출력\n",
        "Initializing game...\n",
        "Loading..."
      ],
      "metadata": {
        "id": "oOanEwKI0cRB"
      },
      "execution_count": null,
      "outputs": []
    },
    {
      "cell_type": "code",
      "source": [
        "from game.graphic.render import render_test\n",
        "\n",
        "#초기화 문구출력 import시 바로 출력\n",
        "#game/__init__.py을 통해 render(하위 모듈)이 되기 때문\n",
        "Initializing game...\n",
        "Loading..."
      ],
      "metadata": {
        "id": "5U68M-O50nY3"
      },
      "execution_count": null,
      "outputs": []
    },
    {
      "cell_type": "code",
      "source": [
        "#단, 초기화 코드는 한번만 실행\n",
        "import game\n",
        "Initializing game...\n",
        "Loading...\n",
        "\n",
        "from game.graphic.render import render_test\n",
        "#아무것도 나오지 않음"
      ],
      "metadata": {
        "id": "ifm7gy3908Ih"
      },
      "execution_count": null,
      "outputs": []
    },
    {
      "cell_type": "markdown",
      "source": [
        "### _ _ all _ _"
      ],
      "metadata": {
        "id": "iWUiaOug1CYE"
      }
    },
    {
      "cell_type": "code",
      "source": [
        "from game.sound import *\n",
        "Initializing game...\n",
        "Loading...\n",
        "\n",
        "echo.echo_test()\n",
        "# 결과 : NameError: name 'echo' is not defined"
      ],
      "metadata": {
        "id": "KDDkkdwC3SGX"
      },
      "execution_count": null,
      "outputs": []
    },
    {
      "cell_type": "markdown",
      "source": [
        "from game.sound import * : sound 디렉토리에 있는 모든 모듈을 불러오기\n",
        "\n",
        "결과 : echo_test()의 이름이 정의 되지 않는 오류발생\n",
        "\n",
        "원인 : 특정 디렉토리의 모듈을 *을 사용하여 import할 때 \"접근제한(_ _ all _ _)\"을 걸어두어야 함\n",
        "\n",
        "(자바와 달리 파이썬은 접근제한자가 존재하지 않기때문에 발생)"
      ],
      "metadata": {
        "id": "uZqLmH7x3bZb"
      }
    },
    {
      "cell_type": "code",
      "source": [
        "# sound.__init__.py\n",
        "#접근 제한\n",
        "# 수많은 클래스 중에 자신이 접근할 수 있는 모듈을 미리 지정\n",
        "__all__ = [\"echo\"]"
      ],
      "metadata": {
        "id": "hEbYx7Ul3OvK"
      },
      "execution_count": null,
      "outputs": []
    },
    {
      "cell_type": "code",
      "source": [
        "#main.py\n",
        "from game.sound import *\n",
        "Initializing game...\n",
        "Loading...\n",
        "\n",
        "echo.echo_test()\n",
        "#결과 : echo"
      ],
      "metadata": {
        "id": "h2KTQJxG4Ah4"
      },
      "execution_count": null,
      "outputs": []
    },
    {
      "cell_type": "markdown",
      "source": [
        "### relative 패키지"
      ],
      "metadata": {
        "id": "84xlA0wf4rPt"
      }
    },
    {
      "cell_type": "code",
      "source": [
        "#graphio.render.py\n",
        "#같은 선상에 있는 디렉토리 가지고 오는 법\n",
        "from game.sound.echo import echo_test\n",
        "#from ..sound.echo import echo_test\n",
        "#.. : 상위 디렉토리(부모 디렉토리)로 이동\n",
        "\n",
        "def render_test():\n",
        "    print(\"render_test() 실행\")\n",
        "    echo_test()"
      ],
      "metadata": {
        "id": "zauhwmRv4tdP"
      },
      "execution_count": null,
      "outputs": []
    }
  ]
}