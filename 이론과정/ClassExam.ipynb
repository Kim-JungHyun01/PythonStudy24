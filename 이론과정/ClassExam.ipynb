{
  "nbformat": 4,
  "nbformat_minor": 0,
  "metadata": {
    "colab": {
      "provenance": [],
      "authorship_tag": "ABX9TyP+TCLROUH51QLjltb6B1Xv",
      "include_colab_link": true
    },
    "kernelspec": {
      "name": "python3",
      "display_name": "Python 3"
    },
    "language_info": {
      "name": "python"
    }
  },
  "cells": [
    {
      "cell_type": "markdown",
      "metadata": {
        "id": "view-in-github",
        "colab_type": "text"
      },
      "source": [
        "<a href=\"https://colab.research.google.com/github/Kim-JungHyun01/PythonStudy24/blob/master/%EC%9D%B4%EB%A1%A0%EA%B3%BC%EC%A0%95/ClassExam.ipynb\" target=\"_parent\"><img src=\"https://colab.research.google.com/assets/colab-badge.svg\" alt=\"Open In Colab\"/></a>"
      ]
    },
    {
      "cell_type": "markdown",
      "source": [
        "# 파이썬 기초학습 5일차 2024.12.24"
      ],
      "metadata": {
        "id": "AdLtg_PrEs1i"
      }
    },
    {
      "cell_type": "markdown",
      "source": [
        "클래스\n",
        "- 객체지향 언어의 필수로 각각의 객체를 담당\n",
        "\n",
        "ex) 쇼필몰 프로젝트 : 회원.py, 물건.py, 게시판.py, 장바구니.py, other.py\n",
        "\n",
        "=> 동작(메서드) : C R U D => main.py(주 실행문)와 연동"
      ],
      "metadata": {
        "id": "1cIF8wKMS-XR"
      }
    },
    {
      "cell_type": "markdown",
      "source": [
        "## 계산기 처리용"
      ],
      "metadata": {
        "id": "8dKcsbnykMwc"
      }
    },
    {
      "cell_type": "code",
      "source": [
        "# 계산기 더하기\n",
        "result = 0  # 결과값 처리용 변수\n",
        "\n",
        "def add(num):\n",
        "    global result   #전역변수사용\n",
        "    result += num\n",
        "    return result\n",
        "\n",
        "print(add(4))\n",
        "print(add(9))"
      ],
      "metadata": {
        "colab": {
          "base_uri": "https://localhost:8080/"
        },
        "id": "VuqIS-6yFB4x",
        "outputId": "d76dea7d-a562-430a-8c93-cd1e7d6c449a"
      },
      "execution_count": 2,
      "outputs": [
        {
          "output_type": "stream",
          "name": "stdout",
          "text": [
            "4\n",
            "13\n"
          ]
        }
      ]
    },
    {
      "cell_type": "markdown",
      "source": [
        "### 계산기 2대"
      ],
      "metadata": {
        "id": "G0p_aN06l1RE"
      }
    },
    {
      "cell_type": "code",
      "source": [
        "# 만일 한 프로그램에서 2대의 계산기 필요\n",
        "result1 = 0\n",
        "result2 = 0\n",
        "\n",
        "def add1(num):\n",
        "    global result1\n",
        "    result1 += num\n",
        "    return result1\n",
        "\n",
        "def add2(num):\n",
        "    global result2\n",
        "    result2 += num\n",
        "    return result2\n",
        "\n",
        "print(add1(4))\n",
        "print(add1(9))\n",
        "print(add2(2))\n",
        "print(add2(5))"
      ],
      "metadata": {
        "colab": {
          "base_uri": "https://localhost:8080/"
        },
        "id": "MwqpjimXla8Y",
        "outputId": "0b6cef8a-8b2a-4169-ccb2-f7f77c80bcb6"
      },
      "execution_count": 4,
      "outputs": [
        {
          "output_type": "stream",
          "name": "stdout",
          "text": [
            "4\n",
            "13\n",
            "2\n",
            "7\n"
          ]
        }
      ]
    },
    {
      "cell_type": "markdown",
      "source": [
        "### 클래스이용"
      ],
      "metadata": {
        "id": "_4dF7vahly5o"
      }
    },
    {
      "cell_type": "code",
      "source": [
        "class Calculator: # 객체 생성용(생성자용메서드, 일반메서드)\n",
        "\n",
        "    #생성자메서드\n",
        "    def __init__(self): # __init__ : 초기화(객체 생성시 0순위로 처리)\n",
        "        self.result = 0 #self = this\n",
        "\n",
        "    #일반메서드\n",
        "    #더하기\n",
        "    def add(self, num):\n",
        "        self.result += num # num을 누적 저장\n",
        "        return self.result\n",
        "\n",
        "    #빼기\n",
        "    def sub(self, num):\n",
        "        self.result -= num\n",
        "        return self.result\n",
        "\n",
        "#객체생성\n",
        "#java : Calculator cal1 = new Calculator();\n",
        "cal1 = Calculator()\n",
        "cal2 = Calculator()\n",
        "\n",
        "print(cal1.add(2))  #1번계산기\n",
        "print(cal2.add(3))  #2번계산기\n",
        "print(cal2.add(4))  #2번계산기\n",
        "print(cal1.add(6))  #1번계산기"
      ],
      "metadata": {
        "colab": {
          "base_uri": "https://localhost:8080/"
        },
        "id": "lZ3O9DrLmDcT",
        "outputId": "8a2024e3-e6f2-4aff-a7e8-123b32f88f49"
      },
      "execution_count": 7,
      "outputs": [
        {
          "output_type": "stream",
          "name": "stdout",
          "text": [
            "2\n",
            "3\n",
            "7\n",
            "8\n"
          ]
        }
      ]
    },
    {
      "cell_type": "markdown",
      "source": [
        "## 사직연산계산기"
      ],
      "metadata": {
        "id": "TnxHdfXXnXV9"
      }
    },
    {
      "cell_type": "code",
      "source": [
        "class FourCal:\n",
        "    pass"
      ],
      "metadata": {
        "id": "ojnHHvfCp4b-"
      },
      "execution_count": 11,
      "outputs": []
    },
    {
      "cell_type": "code",
      "source": [
        "a = FourCal()\n",
        "type(a)"
      ],
      "metadata": {
        "colab": {
          "base_uri": "https://localhost:8080/"
        },
        "id": "75jgaGHKqHFq",
        "outputId": "ce619f57-59d9-4844-b2ba-3c5277ffb0ae"
      },
      "execution_count": 12,
      "outputs": [
        {
          "output_type": "execute_result",
          "data": {
            "text/plain": [
              "__main__.FourCal"
            ]
          },
          "metadata": {},
          "execution_count": 12
        }
      ]
    },
    {
      "cell_type": "code",
      "source": [
        "class FourCal:\n",
        "    # pass # 아무기능없이 동작\n",
        "    # 필드 : 객체마다 가지고 있어야 할 데이터(dto, vo)\n",
        "    # 사용할 데이터 미리 생성해 놓은 것_생성자에도 있음\n",
        "    first = 0\n",
        "    second = 0\n",
        "\n",
        "    #생성자 => __init__로 해야 생성자로 인식\n",
        "    def __init__(self, first, second):\n",
        "        self.first = first\n",
        "        self.second = second\n",
        "\n",
        "    #값 수정\n",
        "    def setdata(self, first, second):   #self는 맨처음에 꼭 들어감(자기자신)\n",
        "        self.first = first              #this.first = first\n",
        "        self.second = second\n",
        "\n",
        "    # 더하기\n",
        "    def add(self):\n",
        "        result = self.first + self.second\n",
        "        return result\n",
        "\n",
        "    # 빼기\n",
        "    def sub(self):\n",
        "        result = self.first - self.second\n",
        "        return result\n",
        "\n",
        "    # 곱하기\n",
        "    def mul(self):\n",
        "        result = self.first * self.second\n",
        "        return result\n",
        "\n",
        "    # 나누기\n",
        "    def div(self):\n",
        "        result = self.first / self.second\n",
        "        return result\n"
      ],
      "metadata": {
        "id": "0ZRgL_VVqa_8"
      },
      "execution_count": 39,
      "outputs": []
    },
    {
      "cell_type": "code",
      "source": [
        "#객체 a\n",
        "a= FourCal()    # a변수에 객체가 연결됨\n",
        "a.setdata(4,2)  # a변수 : self로 처리\n",
        "\n",
        "# 객체 b\n",
        "b= FourCal()\n",
        "FourCal.setdata(b, 3, 5)"
      ],
      "metadata": {
        "id": "NK2QyVNmrOkG"
      },
      "execution_count": 24,
      "outputs": []
    },
    {
      "cell_type": "code",
      "source": [
        "#결과\n",
        "print(a.add(), end =\", \")\n",
        "print(a.sub(), end =\", \")\n",
        "print(a.mul(), end =\", \")\n",
        "print(a.div())\n",
        "print(a.first)\n",
        "print(a.second)\n",
        "print()\n",
        "print(b.add(), end =\", \")\n",
        "print(b.sub(), end =\", \")\n",
        "print(b.mul(), end =\", \")\n",
        "print(b.div())\n",
        "print(b.first)\n",
        "print(b.second)"
      ],
      "metadata": {
        "colab": {
          "base_uri": "https://localhost:8080/"
        },
        "id": "p95aIdn8vAJB",
        "outputId": "2e6c5cf8-ea9f-4e0b-c382-3be4cef3f388"
      },
      "execution_count": 27,
      "outputs": [
        {
          "output_type": "stream",
          "name": "stdout",
          "text": [
            "6, 2, 8, 2.0\n",
            "4\n",
            "2\n",
            "\n",
            "8, -2, 15, 0.6\n",
            "3\n",
            "5\n"
          ]
        }
      ]
    },
    {
      "cell_type": "code",
      "source": [
        "c = FourCal()\n",
        "c.setdata(5,5)\n",
        "c.mul()"
      ],
      "metadata": {
        "colab": {
          "base_uri": "https://localhost:8080/"
        },
        "id": "YelBgGpUwVoJ",
        "outputId": "5c281d12-67da-4d9e-ecb9-41d168098c99"
      },
      "execution_count": 35,
      "outputs": [
        {
          "output_type": "execute_result",
          "data": {
            "text/plain": [
              "25"
            ]
          },
          "metadata": {},
          "execution_count": 35
        }
      ]
    },
    {
      "cell_type": "code",
      "source": [
        "d = FourCal()\n",
        "d.add()"
      ],
      "metadata": {
        "colab": {
          "base_uri": "https://localhost:8080/",
          "height": 166
        },
        "id": "lrP8yLqOwpOq",
        "outputId": "f9012f2f-6902-4290-c8ab-c8f042c601b3"
      },
      "execution_count": 42,
      "outputs": [
        {
          "output_type": "error",
          "ename": "TypeError",
          "evalue": "FourCal.__init__() missing 2 required positional arguments: 'first' and 'second'",
          "traceback": [
            "\u001b[0;31m---------------------------------------------------------------------------\u001b[0m",
            "\u001b[0;31mTypeError\u001b[0m                                 Traceback (most recent call last)",
            "\u001b[0;32m<ipython-input-42-16eb77566141>\u001b[0m in \u001b[0;36m<cell line: 1>\u001b[0;34m()\u001b[0m\n\u001b[0;32m----> 1\u001b[0;31m \u001b[0md\u001b[0m \u001b[0;34m=\u001b[0m \u001b[0mFourCal\u001b[0m\u001b[0;34m(\u001b[0m\u001b[0;34m)\u001b[0m\u001b[0;34m\u001b[0m\u001b[0;34m\u001b[0m\u001b[0m\n\u001b[0m\u001b[1;32m      2\u001b[0m \u001b[0md\u001b[0m\u001b[0;34m.\u001b[0m\u001b[0madd\u001b[0m\u001b[0;34m(\u001b[0m\u001b[0;34m)\u001b[0m\u001b[0;34m\u001b[0m\u001b[0;34m\u001b[0m\u001b[0m\n",
            "\u001b[0;31mTypeError\u001b[0m: FourCal.__init__() missing 2 required positional arguments: 'first' and 'second'"
          ]
        }
      ]
    },
    {
      "cell_type": "code",
      "source": [
        "d = FourCal(1,6)\n",
        "d.add()\n",
        "#수정\n",
        "d.setdata(2,6)\n",
        "d.add()"
      ],
      "metadata": {
        "colab": {
          "base_uri": "https://localhost:8080/"
        },
        "id": "qrfYz0SCyJ4y",
        "outputId": "014c03e4-ac16-4363-e47c-910d332896c3"
      },
      "execution_count": 45,
      "outputs": [
        {
          "output_type": "execute_result",
          "data": {
            "text/plain": [
              "8"
            ]
          },
          "metadata": {},
          "execution_count": 45
        }
      ]
    },
    {
      "cell_type": "markdown",
      "source": [
        "## 상속 & 오버라이딩"
      ],
      "metadata": {
        "id": "qtI1KR9lyXHn"
      }
    },
    {
      "cell_type": "code",
      "source": [
        "# 부모가 만든 객체를 보완, 추가하는 기능\n",
        "class MoreFourCal(FourCal): #객체생성시(부모클래스) 자바 : class 클래스명 extend 부모클래스\n",
        "    # pass\n",
        "\n",
        "    #제곱\n",
        "    def pow(self):\n",
        "        result = self.first ** self.second\n",
        "        return result\n",
        "\n",
        "    #오버라이딩 : 부모클래스 메서드를 재정의(변경)\n",
        "    def div(self):#메서드명을 다시 쓰는 것으로 덮어쓰기\n",
        "        #나누기 0은 제외\n",
        "        if self.first ==0 or self.second ==0:\n",
        "            return 0\n",
        "        else:\n",
        "            result = self.first / self.second\n",
        "            return result\n",
        "            #return self.first / self.second"
      ],
      "metadata": {
        "id": "U8WrV01ryYp1"
      },
      "execution_count": 67,
      "outputs": []
    },
    {
      "cell_type": "code",
      "source": [
        "e = MoreFourCal(4,5)\n",
        "print(e.add())\n",
        "print(e.pow())"
      ],
      "metadata": {
        "colab": {
          "base_uri": "https://localhost:8080/"
        },
        "id": "ZrsNARP9zgFP",
        "outputId": "4cf46294-342e-4ad4-9fb7-3375c6fa6f3d"
      },
      "execution_count": 53,
      "outputs": [
        {
          "output_type": "stream",
          "name": "stdout",
          "text": [
            "9\n",
            "1024\n"
          ]
        }
      ]
    },
    {
      "cell_type": "markdown",
      "source": [
        "### 오버라이딩"
      ],
      "metadata": {
        "id": "rU6zi5Ye2BnN"
      }
    },
    {
      "cell_type": "code",
      "source": [
        "#오버라이딩 전\n",
        "f = MoreFourCal(4,0)\n",
        "f.div()"
      ],
      "metadata": {
        "colab": {
          "base_uri": "https://localhost:8080/",
          "height": 294
        },
        "id": "ySNmo6SH03G_",
        "outputId": "0c98a0a6-79ce-4c83-cb0b-9c79ea947c4a"
      },
      "execution_count": 66,
      "outputs": [
        {
          "output_type": "error",
          "ename": "ZeroDivisionError",
          "evalue": "division by zero",
          "traceback": [
            "\u001b[0;31m---------------------------------------------------------------------------\u001b[0m",
            "\u001b[0;31mZeroDivisionError\u001b[0m                         Traceback (most recent call last)",
            "\u001b[0;32m<ipython-input-66-00a48080a7fc>\u001b[0m in \u001b[0;36m<cell line: 3>\u001b[0;34m()\u001b[0m\n\u001b[1;32m      1\u001b[0m \u001b[0;31m#오버라이딩 전\u001b[0m\u001b[0;34m\u001b[0m\u001b[0;34m\u001b[0m\u001b[0m\n\u001b[1;32m      2\u001b[0m \u001b[0mf\u001b[0m \u001b[0;34m=\u001b[0m \u001b[0mMoreFourCal\u001b[0m\u001b[0;34m(\u001b[0m\u001b[0;36m4\u001b[0m\u001b[0;34m,\u001b[0m\u001b[0;36m0\u001b[0m\u001b[0;34m)\u001b[0m\u001b[0;34m\u001b[0m\u001b[0;34m\u001b[0m\u001b[0m\n\u001b[0;32m----> 3\u001b[0;31m \u001b[0mf\u001b[0m\u001b[0;34m.\u001b[0m\u001b[0mdiv\u001b[0m\u001b[0;34m(\u001b[0m\u001b[0;34m)\u001b[0m\u001b[0;34m\u001b[0m\u001b[0;34m\u001b[0m\u001b[0m\n\u001b[0m",
            "\u001b[0;32m<ipython-input-39-f3efdc48e1ba>\u001b[0m in \u001b[0;36mdiv\u001b[0;34m(self)\u001b[0m\n\u001b[1;32m     29\u001b[0m     \u001b[0;31m# 나누기\u001b[0m\u001b[0;34m\u001b[0m\u001b[0;34m\u001b[0m\u001b[0m\n\u001b[1;32m     30\u001b[0m     \u001b[0;32mdef\u001b[0m \u001b[0mdiv\u001b[0m\u001b[0;34m(\u001b[0m\u001b[0mself\u001b[0m\u001b[0;34m)\u001b[0m\u001b[0;34m:\u001b[0m\u001b[0;34m\u001b[0m\u001b[0;34m\u001b[0m\u001b[0m\n\u001b[0;32m---> 31\u001b[0;31m         \u001b[0mresult\u001b[0m \u001b[0;34m=\u001b[0m \u001b[0mself\u001b[0m\u001b[0;34m.\u001b[0m\u001b[0mfirst\u001b[0m \u001b[0;34m/\u001b[0m \u001b[0mself\u001b[0m\u001b[0;34m.\u001b[0m\u001b[0msecond\u001b[0m\u001b[0;34m\u001b[0m\u001b[0;34m\u001b[0m\u001b[0m\n\u001b[0m\u001b[1;32m     32\u001b[0m         \u001b[0;32mreturn\u001b[0m \u001b[0mresult\u001b[0m\u001b[0;34m\u001b[0m\u001b[0;34m\u001b[0m\u001b[0m\n",
            "\u001b[0;31mZeroDivisionError\u001b[0m: division by zero"
          ]
        }
      ]
    },
    {
      "cell_type": "code",
      "source": [
        "#오버라이딩 후\n",
        "f = MoreFourCal(4,0)\n",
        "f.div()"
      ],
      "metadata": {
        "colab": {
          "base_uri": "https://localhost:8080/"
        },
        "id": "-C9jwik313vy",
        "outputId": "79ded55d-b295-4e4b-b1c9-63853b8ec1cb"
      },
      "execution_count": 68,
      "outputs": [
        {
          "output_type": "execute_result",
          "data": {
            "text/plain": [
              "0"
            ]
          },
          "metadata": {},
          "execution_count": 68
        }
      ]
    }
  ]
}