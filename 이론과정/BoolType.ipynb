{
  "nbformat": 4,
  "nbformat_minor": 0,
  "metadata": {
    "colab": {
      "provenance": [],
      "toc_visible": true,
      "authorship_tag": "ABX9TyPoXjsRB4Qc4QTq3X/P8Vnu",
      "include_colab_link": true
    },
    "kernelspec": {
      "name": "python3",
      "display_name": "Python 3"
    },
    "language_info": {
      "name": "python"
    }
  },
  "cells": [
    {
      "cell_type": "markdown",
      "metadata": {
        "id": "view-in-github",
        "colab_type": "text"
      },
      "source": [
        "<a href=\"https://colab.research.google.com/github/Kim-JungHyun01/PythonStudy24/blob/master/%EC%9D%B4%EB%A1%A0%EA%B3%BC%EC%A0%95/BoolType.ipynb\" target=\"_parent\"><img src=\"https://colab.research.google.com/assets/colab-badge.svg\" alt=\"Open In Colab\"/></a>"
      ]
    },
    {
      "cell_type": "markdown",
      "source": [
        "# 파이썬 기초학습 2일차 2024.12.19"
      ],
      "metadata": {
        "id": "ATynZJrswjq2"
      }
    },
    {
      "cell_type": "markdown",
      "source": [
        "## 불 자료형"
      ],
      "metadata": {
        "id": "DeMaA8vWwp-7"
      }
    },
    {
      "cell_type": "markdown",
      "source": [
        "종류(예약어)\n",
        "- True : 참\n",
        "- False : 거짓\n",
        "\n",
        "첫글자는 대문자"
      ],
      "metadata": {
        "id": "GHiCDn8Lxl7Y"
      }
    },
    {
      "cell_type": "code",
      "source": [
        "#타입 검사\n",
        "a = True\n",
        "print(type(a))"
      ],
      "metadata": {
        "colab": {
          "base_uri": "https://localhost:8080/"
        },
        "id": "ShAN77DUzFU2",
        "outputId": "7801ee02-3e22-41ba-9d44-b09df24fd454"
      },
      "execution_count": 2,
      "outputs": [
        {
          "output_type": "stream",
          "name": "stdout",
          "text": [
            "<class 'bool'>\n"
          ]
        }
      ]
    },
    {
      "cell_type": "markdown",
      "source": [
        "대소비교\n",
        "- '==' : 같다\n",
        "- '<' : 작다\n",
        "- '>' : 크다\n",
        "- '<=' : 작거나 같다\n",
        "- '>=' : 크거나 같다"
      ],
      "metadata": {
        "id": "pyxstt7o0uPv"
      }
    },
    {
      "cell_type": "code",
      "source": [
        "# 대소비교 : ==(같다), <, >등\n",
        "print(1 == 1)\n",
        "print(2 < 1)"
      ],
      "metadata": {
        "colab": {
          "base_uri": "https://localhost:8080/"
        },
        "id": "306qR2V0zRu7",
        "outputId": "d415ea1b-118e-4f37-f348-2bc637633e6d"
      },
      "execution_count": 7,
      "outputs": [
        {
          "output_type": "stream",
          "name": "stdout",
          "text": [
            "True\n",
            "False\n"
          ]
        }
      ]
    },
    {
      "cell_type": "markdown",
      "source": [
        "값        결과\n",
        "\n",
        "\"python\" : 참\n",
        "\n",
        "\"\" : 거짓\n",
        "\n",
        "[1, 2, 3] : 참\n",
        "\n",
        "[] : 거짓\n",
        "\n",
        "(1, 2, 3) :\t참\n",
        "\n",
        "() : 거짓\n",
        "\n",
        "{'a': 1} :\t참\n",
        "\n",
        "{} : 거짓\n",
        "\n",
        "1\t: 참\n",
        "\n",
        "0\t: 거짓\n",
        "\n",
        "None : 거짓"
      ],
      "metadata": {
        "id": "qyoyKn5E0H91"
      }
    },
    {
      "cell_type": "code",
      "source": [
        "#True : 1, vlaue가 있는 객체들\n",
        "#False : 0, 빈 객체들, None(null)\n",
        "print(bool(1))\n",
        "print(bool(0))\n",
        "print(bool(None))\n",
        "print(bool({}))"
      ],
      "metadata": {
        "colab": {
          "base_uri": "https://localhost:8080/"
        },
        "id": "tDIVFoujzkgZ",
        "outputId": "d137cdb7-86c0-41fb-affc-ed041f48140a"
      },
      "execution_count": 10,
      "outputs": [
        {
          "output_type": "stream",
          "name": "stdout",
          "text": [
            "True\n",
            "False\n",
            "False\n",
            "False\n"
          ]
        }
      ]
    }
  ]
}