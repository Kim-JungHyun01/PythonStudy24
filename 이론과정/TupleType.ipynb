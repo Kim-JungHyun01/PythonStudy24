{
  "nbformat": 4,
  "nbformat_minor": 0,
  "metadata": {
    "colab": {
      "provenance": [],
      "toc_visible": true,
      "authorship_tag": "ABX9TyMHZ+HA6LTQ7GkSG4Y+JVpa",
      "include_colab_link": true
    },
    "kernelspec": {
      "name": "python3",
      "display_name": "Python 3"
    },
    "language_info": {
      "name": "python"
    }
  },
  "cells": [
    {
      "cell_type": "markdown",
      "metadata": {
        "id": "view-in-github",
        "colab_type": "text"
      },
      "source": [
        "<a href=\"https://colab.research.google.com/github/Kim-JungHyun01/PythonStudy24/blob/master/%EC%9D%B4%EB%A1%A0%EA%B3%BC%EC%A0%95/TupleType.ipynb\" target=\"_parent\"><img src=\"https://colab.research.google.com/assets/colab-badge.svg\" alt=\"Open In Colab\"/></a>"
      ]
    },
    {
      "cell_type": "markdown",
      "source": [
        "# 파이썬 기초학습 2일차 2024.12.19"
      ],
      "metadata": {
        "id": "sW9raGNrVaxq"
      }
    },
    {
      "cell_type": "markdown",
      "source": [
        "## 튜블자료형"
      ],
      "metadata": {
        "id": "foZagpQVVi3e"
      }
    },
    {
      "cell_type": "markdown",
      "source": [
        "리스트와 거의 유사\n",
        "\n",
        "차이점\n",
        "- 리스트 : 대괄호[] / 튜블 : 소괄호()\n",
        "- 리스트 : CRUD(보기, 생성, 수정, 삭제) 가능 / 튜블 : CR만 가능(읽기전용)\n",
        "\n",
        "  => 요솟값을 변화시킬수 있는지 여부\n",
        "  \n",
        "  => 프로그램이 실행되는 동안, 요솟값의 변화를 방지하기 위해 사용\n",
        "- 자바의 Collections.unmodifiableList()와 유사(읽기만 가능한 것)\n",
        "https://velog.io/@clean01/Java-%EB%B3%80%EA%B2%BD%EC%9D%B4-%EB%B6%88%EA%B0%80%EB%8A%A5%ED%95%9C-Collection%EC%9D%84-%EB%A7%8C%EB%93%A4%EA%B8%B0-Immutable-Collection-Immutable-List\n",
        "\n",
        "- sort, insert, remove, pop 의 내장함수x"
      ],
      "metadata": {
        "id": "S-4ndxs2VR45"
      }
    },
    {
      "cell_type": "code",
      "source": [
        "#튜블 생성\n",
        "t1 = ()           #빈객체\n",
        "t2 = (1,)         #1개의 요소만 가질때 : 쉼표(,)를 반드시 붙일 것\n",
        "t3 = (1,2,3)\n",
        "t4 = 1,2,3        #괄호 생략가능\n",
        "t5 = ('a', 'b',('ab', 'cd'))  #2차원 튜블"
      ],
      "metadata": {
        "id": "AUQPUKr4V8g-"
      },
      "execution_count": null,
      "outputs": []
    },
    {
      "cell_type": "code",
      "source": [
        "#튜블 삭제 => 적용x\n",
        "t1 = (1,2,'a','b')\n",
        "del t1[0]\n",
        "print(t1)"
      ],
      "metadata": {
        "colab": {
          "base_uri": "https://localhost:8080/",
          "height": 184
        },
        "id": "omknW5s0X0fO",
        "outputId": "0a02c7aa-9c45-4f38-a5ec-565ced481afa"
      },
      "execution_count": 1,
      "outputs": [
        {
          "output_type": "error",
          "ename": "TypeError",
          "evalue": "'tuple' object doesn't support item deletion",
          "traceback": [
            "\u001b[0;31m---------------------------------------------------------------------------\u001b[0m",
            "\u001b[0;31mTypeError\u001b[0m                                 Traceback (most recent call last)",
            "\u001b[0;32m<ipython-input-1-1b56f64e482a>\u001b[0m in \u001b[0;36m<cell line: 2>\u001b[0;34m()\u001b[0m\n\u001b[1;32m      1\u001b[0m \u001b[0mt1\u001b[0m \u001b[0;34m=\u001b[0m \u001b[0;34m(\u001b[0m\u001b[0;36m1\u001b[0m\u001b[0;34m,\u001b[0m\u001b[0;36m2\u001b[0m\u001b[0;34m,\u001b[0m\u001b[0;34m'a'\u001b[0m\u001b[0;34m,\u001b[0m\u001b[0;34m'b'\u001b[0m\u001b[0;34m)\u001b[0m\u001b[0;34m\u001b[0m\u001b[0;34m\u001b[0m\u001b[0m\n\u001b[0;32m----> 2\u001b[0;31m \u001b[0;32mdel\u001b[0m \u001b[0mt1\u001b[0m\u001b[0;34m[\u001b[0m\u001b[0;36m0\u001b[0m\u001b[0;34m]\u001b[0m\u001b[0;34m\u001b[0m\u001b[0;34m\u001b[0m\u001b[0m\n\u001b[0m\u001b[1;32m      3\u001b[0m \u001b[0mprint\u001b[0m\u001b[0;34m(\u001b[0m\u001b[0mt1\u001b[0m\u001b[0;34m)\u001b[0m\u001b[0;34m\u001b[0m\u001b[0;34m\u001b[0m\u001b[0m\n",
            "\u001b[0;31mTypeError\u001b[0m: 'tuple' object doesn't support item deletion"
          ]
        }
      ]
    },
    {
      "cell_type": "code",
      "source": [
        "#튜블 요솟값 변경 => 적용x\n",
        "t1[0] = 'c'"
      ],
      "metadata": {
        "colab": {
          "base_uri": "https://localhost:8080/",
          "height": 147
        },
        "id": "2h9qYc1-YKdy",
        "outputId": "9ae8b19f-2c54-47a4-b526-ea64b9a67130"
      },
      "execution_count": 2,
      "outputs": [
        {
          "output_type": "error",
          "ename": "TypeError",
          "evalue": "'tuple' object does not support item assignment",
          "traceback": [
            "\u001b[0;31m---------------------------------------------------------------------------\u001b[0m",
            "\u001b[0;31mTypeError\u001b[0m                                 Traceback (most recent call last)",
            "\u001b[0;32m<ipython-input-2-ade0ed493e3b>\u001b[0m in \u001b[0;36m<cell line: 1>\u001b[0;34m()\u001b[0m\n\u001b[0;32m----> 1\u001b[0;31m \u001b[0mt1\u001b[0m\u001b[0;34m[\u001b[0m\u001b[0;36m0\u001b[0m\u001b[0;34m]\u001b[0m \u001b[0;34m=\u001b[0m \u001b[0;34m'c'\u001b[0m\u001b[0;34m\u001b[0m\u001b[0;34m\u001b[0m\u001b[0m\n\u001b[0m",
            "\u001b[0;31mTypeError\u001b[0m: 'tuple' object does not support item assignment"
          ]
        }
      ]
    },
    {
      "cell_type": "code",
      "source": [],
      "metadata": {
        "id": "naD07bV4YRNU"
      },
      "execution_count": null,
      "outputs": []
    }
  ]
}