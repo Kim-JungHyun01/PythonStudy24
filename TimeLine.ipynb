{
  "nbformat": 4,
  "nbformat_minor": 0,
  "metadata": {
    "colab": {
      "provenance": [],
      "authorship_tag": "ABX9TyPBnYpT7sqjYMtItvE+gChM",
      "include_colab_link": true
    },
    "kernelspec": {
      "name": "python3",
      "display_name": "Python 3"
    },
    "language_info": {
      "name": "python"
    }
  },
  "cells": [
    {
      "cell_type": "markdown",
      "metadata": {
        "id": "view-in-github",
        "colab_type": "text"
      },
      "source": [
        "<a href=\"https://colab.research.google.com/github/Kim-JungHyun01/PythonStudy24/blob/master/TimeLine.ipynb\" target=\"_parent\"><img src=\"https://colab.research.google.com/assets/colab-badge.svg\" alt=\"Open In Colab\"/></a>"
      ]
    },
    {
      "cell_type": "markdown",
      "source": [
        "# **파이썬 타임라인**"
      ],
      "metadata": {
        "id": "WR-o-vU8vbYQ"
      }
    },
    {
      "cell_type": "markdown",
      "source": [
        "# 이론과정"
      ],
      "metadata": {
        "id": "AjQc9sQvs8QX"
      }
    },
    {
      "cell_type": "markdown",
      "source": [
        "## 1일차"
      ],
      "metadata": {
        "id": "BRLPGXXis-_H"
      }
    },
    {
      "cell_type": "markdown",
      "source": [
        "- [기본타입](https://github.com/Kim-JungHyun01/PythonStudy24/blob/master/%EC%9D%B4%EB%A1%A0%EA%B3%BC%EC%A0%95/BaseType.ipynb)"
      ],
      "metadata": {
        "id": "_ThUm126tLm4"
      }
    },
    {
      "cell_type": "markdown",
      "source": [
        "## 2일차"
      ],
      "metadata": {
        "id": "gpIlQuMjtBCB"
      }
    },
    {
      "cell_type": "markdown",
      "source": [
        "- [리스트](https://github.com/Kim-JungHyun01/PythonStudy24/blob/master/%EC%9D%B4%EB%A1%A0%EA%B3%BC%EC%A0%95/ListType.ipynb)\n",
        "- [튜블](https://github.com/Kim-JungHyun01/PythonStudy24/blob/master/%EC%9D%B4%EB%A1%A0%EA%B3%BC%EC%A0%95/TupleType.ipynb)\n",
        "- [딕셔너리](https://github.com/Kim-JungHyun01/PythonStudy24/blob/master/%EC%9D%B4%EB%A1%A0%EA%B3%BC%EC%A0%95/DictionaryType.ipynb)\n",
        "- [집합](https://github.com/Kim-JungHyun01/PythonStudy24/blob/master/%EC%9D%B4%EB%A1%A0%EA%B3%BC%EC%A0%95/SetType.ipynb)\n",
        "- [불](https://github.com/Kim-JungHyun01/PythonStudy24/blob/master/%EC%9D%B4%EB%A1%A0%EA%B3%BC%EC%A0%95/BoolType.ipynb)"
      ],
      "metadata": {
        "id": "ysp5hX-EtPVv"
      }
    },
    {
      "cell_type": "markdown",
      "source": [
        "## 3일차"
      ],
      "metadata": {
        "id": "PGNf29EBtBQy"
      }
    },
    {
      "cell_type": "markdown",
      "source": [
        "- [if, while](https://github.com/Kim-JungHyun01/PythonStudy24/blob/master/%EC%9D%B4%EB%A1%A0%EA%B3%BC%EC%A0%95/ControlStudy.ipynb)"
      ],
      "metadata": {
        "id": "fvNIkwvEtR_1"
      }
    },
    {
      "cell_type": "markdown",
      "source": [
        "## 4일차"
      ],
      "metadata": {
        "id": "9Xg7yOgltFEN"
      }
    },
    {
      "cell_type": "markdown",
      "source": [
        "- [for](https://github.com/Kim-JungHyun01/PythonStudy24/blob/master/%EC%9D%B4%EB%A1%A0%EA%B3%BC%EC%A0%95/ControlStudy_2.ipynb)\n",
        "- [함수](https://github.com/Kim-JungHyun01/PythonStudy24/blob/master/%EC%9D%B4%EB%A1%A0%EA%B3%BC%EC%A0%95/FunctionExam.ipynb)\n",
        "- [파일 입출력](https://github.com/Kim-JungHyun01/PythonStudy24/blob/master/%EC%9D%B4%EB%A1%A0%EA%B3%BC%EC%A0%95/FileRead.ipynb)"
      ],
      "metadata": {
        "id": "70S4tqd-tWED"
      }
    },
    {
      "cell_type": "markdown",
      "source": [
        "## 5일차"
      ],
      "metadata": {
        "id": "B2_r1S2ttGlh"
      }
    },
    {
      "cell_type": "markdown",
      "source": [
        "- [클래스](https://github.com/Kim-JungHyun01/PythonStudy24/blob/master/%EC%9D%B4%EB%A1%A0%EA%B3%BC%EC%A0%95/ClassExam.ipynb)\n",
        "\n",
        "(파이참, cmd 이용)\n",
        "- [모듈](https://github.com/Kim-JungHyun01/PythonStudy24/blob/master/%EC%9D%B4%EB%A1%A0%EA%B3%BC%EC%A0%95/PackageExam.ipynb)\n",
        "- [패키지](https://github.com/Kim-JungHyun01/PythonStudy24/blob/master/%EC%9D%B4%EB%A1%A0%EA%B3%BC%EC%A0%95/PackageExam.ipynb)"
      ],
      "metadata": {
        "id": "ktAZi7VTvV5I"
      }
    },
    {
      "cell_type": "markdown",
      "source": [
        "## 코드학습"
      ],
      "metadata": {
        "id": "fE-VxMKfuW3Y"
      }
    },
    {
      "cell_type": "markdown",
      "source": [
        "- [game](https://github.com/Kim-JungHyun01/PythonStudy24/tree/master/%EC%BD%94%EB%93%9C%ED%95%99%EC%8A%B5/game) : 클래스, 모듈, 패키지용\n",
        "- [커피머신](https://github.com/Kim-JungHyun01/PythonStudy24/blob/master/%EC%9D%B4%EB%A1%A0%EA%B3%BC%EC%A0%95/coffee_machine.ipynb) : 함수학습용\n",
        "- [학생성적관리]() : 종합"
      ],
      "metadata": {
        "id": "SpxZRLhguaIR"
      }
    }
  ]
}
